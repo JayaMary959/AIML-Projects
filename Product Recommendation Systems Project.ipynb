{
 "cells": [
  {
   "cell_type": "markdown",
   "metadata": {},
   "source": [
    "# 1. Read and explore the given dataset. ( Rename column/add headers, plot histograms, find data characteristics)"
   ]
  },
  {
   "cell_type": "code",
   "execution_count": 1,
   "metadata": {},
   "outputs": [],
   "source": [
    "import pandas as pd, numpy as np, matplotlib.pyplot as plt, seaborn as sns\n",
    "import matplotlib.style as style; style.use('fivethirtyeight')\n",
    "from sklearn.model_selection import train_test_split\n",
    "from sklearn.metrics import mean_squared_error\n",
    "from scipy.sparse.linalg import svds\n",
    "%matplotlib inline\n",
    "from math import sqrt\n",
    "\n",
    "\n",
    "# For Sklearn NearestNeighbor based recommendation\n",
    "from sklearn.metrics import pairwise_distances, mean_squared_error\n",
    "from scipy.spatial.distance import correlation, cosine\n",
    "from sklearn.neighbors import NearestNeighbors\n",
    "from scipy.sparse import csr_matrix\n",
    "import sklearn.metrics as metrics\n",
    "\n",
    "# Surprise package for making recommendation\n",
    "from surprise import KNNBaseline, KNNBasic, KNNWithMeans, KNNWithZScore\n",
    "from surprise.model_selection import GridSearchCV, cross_validate, KFold\n",
    "from surprise import accuracy, Reader, Dataset, dump\n",
    "\n",
    "# Display settings\n",
    "pd.options.display.max_rows = 999\n",
    "pd.options.display.max_columns = 20\n",
    "pd.options.display.float_format = \"{:.2f}\".format\n",
    "\n",
    "random_state = 2020\n",
    "np.random.seed(random_state)\n",
    "\n",
    "import os\n",
    "\n",
    "# Suppress warnings\n",
    "import warnings; warnings.filterwarnings('ignore')"
   ]
  },
  {
   "cell_type": "code",
   "execution_count": 2,
   "metadata": {},
   "outputs": [
    {
     "data": {
      "text/html": [
       "<div>\n",
       "<style scoped>\n",
       "    .dataframe tbody tr th:only-of-type {\n",
       "        vertical-align: middle;\n",
       "    }\n",
       "\n",
       "    .dataframe tbody tr th {\n",
       "        vertical-align: top;\n",
       "    }\n",
       "\n",
       "    .dataframe thead th {\n",
       "        text-align: right;\n",
       "    }\n",
       "</style>\n",
       "<table border=\"1\" class=\"dataframe\">\n",
       "  <thead>\n",
       "    <tr style=\"text-align: right;\">\n",
       "      <th></th>\n",
       "      <th>UserID</th>\n",
       "      <th>ProductID</th>\n",
       "      <th>Rating</th>\n",
       "      <th>Timestamp</th>\n",
       "    </tr>\n",
       "  </thead>\n",
       "  <tbody>\n",
       "    <tr>\n",
       "      <th>0</th>\n",
       "      <td>AKM1MP6P0OYPR</td>\n",
       "      <td>132793040</td>\n",
       "      <td>5</td>\n",
       "      <td>1365811200</td>\n",
       "    </tr>\n",
       "    <tr>\n",
       "      <th>1</th>\n",
       "      <td>A2CX7LUOHB2NDG</td>\n",
       "      <td>321732944</td>\n",
       "      <td>5</td>\n",
       "      <td>1341100800</td>\n",
       "    </tr>\n",
       "    <tr>\n",
       "      <th>2</th>\n",
       "      <td>A2NWSAGRHCP8N5</td>\n",
       "      <td>439886341</td>\n",
       "      <td>1</td>\n",
       "      <td>1367193600</td>\n",
       "    </tr>\n",
       "  </tbody>\n",
       "</table>\n",
       "</div>"
      ],
      "text/plain": [
       "           UserID  ProductID  Rating   Timestamp\n",
       "0   AKM1MP6P0OYPR  132793040       5  1365811200\n",
       "1  A2CX7LUOHB2NDG  321732944       5  1341100800\n",
       "2  A2NWSAGRHCP8N5  439886341       1  1367193600"
      ]
     },
     "execution_count": 2,
     "metadata": {},
     "output_type": "execute_result"
    }
   ],
   "source": [
    "# Read the data as dataframe and display the first five rows\n",
    "ratings = pd.read_excel('ratings_Electronics1.xlsx', header = None)\n",
    "ratings.columns = ['UserID', 'ProductID', 'Rating', 'Timestamp']\n",
    "ratings.head(3)"
   ]
  },
  {
   "cell_type": "code",
   "execution_count": 3,
   "metadata": {},
   "outputs": [
    {
     "name": "stdout",
     "output_type": "stream",
     "text": [
      "Retrieve the dataframe columns\n",
      "------------------------------------------------------------\n",
      "<class 'pandas.core.frame.DataFrame'>\n",
      "RangeIndex: 31000 entries, 0 to 30999\n",
      "Data columns (total 4 columns):\n",
      " #   Column     Non-Null Count  Dtype \n",
      "---  ------     --------------  ----- \n",
      " 0   UserID     31000 non-null  object\n",
      " 1   ProductID  31000 non-null  object\n",
      " 2   Rating     31000 non-null  int64 \n",
      " 3   Timestamp  31000 non-null  int64 \n",
      "dtypes: int64(2), object(2)\n",
      "memory usage: 968.9+ KB\n"
     ]
    }
   ],
   "source": [
    "# Retrieve Information of the Dataframe columns\n",
    "print('Retrieve the dataframe columns'); print('--'*30)\n",
    "ratings.info()"
   ]
  },
  {
   "cell_type": "code",
   "execution_count": 4,
   "metadata": {},
   "outputs": [
    {
     "name": "stdout",
     "output_type": "stream",
     "text": [
      "There are no null values in the dataset\n",
      "------------------------------------------------------------\n"
     ]
    },
    {
     "data": {
      "text/plain": [
       "UserID       0\n",
       "ProductID    0\n",
       "Rating       0\n",
       "Timestamp    0\n",
       "dtype: int64"
      ]
     },
     "execution_count": 4,
     "metadata": {},
     "output_type": "execute_result"
    }
   ],
   "source": [
    "# Check if there any null values in the dataset\n",
    "print('There are no null values in the dataset'); print('--'*30)\n",
    "ratings.isnull().sum()"
   ]
  },
  {
   "cell_type": "code",
   "execution_count": 5,
   "metadata": {},
   "outputs": [
    {
     "name": "stdout",
     "output_type": "stream",
     "text": [
      "Dataset has no duplicate rows\n",
      "------------------------------------------------------------\n"
     ]
    },
    {
     "data": {
      "text/html": [
       "<div>\n",
       "<style scoped>\n",
       "    .dataframe tbody tr th:only-of-type {\n",
       "        vertical-align: middle;\n",
       "    }\n",
       "\n",
       "    .dataframe tbody tr th {\n",
       "        vertical-align: top;\n",
       "    }\n",
       "\n",
       "    .dataframe thead th {\n",
       "        text-align: right;\n",
       "    }\n",
       "</style>\n",
       "<table border=\"1\" class=\"dataframe\">\n",
       "  <thead>\n",
       "    <tr style=\"text-align: right;\">\n",
       "      <th></th>\n",
       "      <th>UserID</th>\n",
       "      <th>ProductID</th>\n",
       "      <th>Rating</th>\n",
       "      <th>Timestamp</th>\n",
       "    </tr>\n",
       "  </thead>\n",
       "  <tbody>\n",
       "  </tbody>\n",
       "</table>\n",
       "</div>"
      ],
      "text/plain": [
       "Empty DataFrame\n",
       "Columns: [UserID, ProductID, Rating, Timestamp]\n",
       "Index: []"
      ]
     },
     "execution_count": 5,
     "metadata": {},
     "output_type": "execute_result"
    }
   ],
   "source": [
    "# Check if there are any duplicate rows\n",
    "print('Dataset has no duplicate rows'); print('--'*30)\n",
    "ratings[ratings.duplicated(keep = 'first')]"
   ]
  },
  {
   "cell_type": "code",
   "execution_count": 6,
   "metadata": {},
   "outputs": [
    {
     "name": "stdout",
     "output_type": "stream",
     "text": [
      "Checking the uniques in Rating column\n",
      "------------------------------------------------------------\n"
     ]
    },
    {
     "data": {
      "text/plain": [
       "[1, 2, 3, 4, 5]"
      ]
     },
     "execution_count": 6,
     "metadata": {},
     "output_type": "execute_result"
    }
   ],
   "source": [
    "# Checking the unique values in `Rating` column\n",
    "print('Checking the uniques in Rating column'); print('--'*30)\n",
    "sorted(list(ratings['Rating'].unique()))"
   ]
  },
  {
   "cell_type": "code",
   "execution_count": 7,
   "metadata": {},
   "outputs": [
    {
     "data": {
      "text/plain": [
       "(31000, 4)"
      ]
     },
     "execution_count": 7,
     "metadata": {},
     "output_type": "execute_result"
    }
   ],
   "source": [
    "ratings.shape"
   ]
  },
  {
   "cell_type": "markdown",
   "metadata": {},
   "source": [
    "Subset of the Original Dataset has 1000 observations and four added columns to avoid Memory issue"
   ]
  },
  {
   "cell_type": "markdown",
   "metadata": {},
   "source": [
    "\n",
    "Original Dataset has more than 7.8 million reviews and with information regarding User id, Product id, Rating and Timestamp. There are no missing values and duplicates in the dataset. Ratings are on the scale of 1-5\n",
    "\n",
    "\n",
    "Information on the type of variable\n",
    "\n",
    "userID: Every user identified with a unique id (Categorical, Nominal).\n",
    "\n",
    "productID: Every product identified with a unique id (Categorical, Nominal).\n",
    "\n",
    "Rating: Rating of the corresponding product by the corresponding user (Numerical, Discrete).\n",
    "\n",
    "Timestamp: Time of the rating (Timestamp).\n"
   ]
  },
  {
   "cell_type": "code",
   "execution_count": 8,
   "metadata": {},
   "outputs": [
    {
     "name": "stdout",
     "output_type": "stream",
     "text": [
      "Five point summary of the dataframe\n",
      "------------------------------------------------------------\n"
     ]
    },
    {
     "data": {
      "text/html": [
       "<div>\n",
       "<style scoped>\n",
       "    .dataframe tbody tr th:only-of-type {\n",
       "        vertical-align: middle;\n",
       "    }\n",
       "\n",
       "    .dataframe tbody tr th {\n",
       "        vertical-align: top;\n",
       "    }\n",
       "\n",
       "    .dataframe thead th {\n",
       "        text-align: right;\n",
       "    }\n",
       "</style>\n",
       "<table border=\"1\" class=\"dataframe\">\n",
       "  <thead>\n",
       "    <tr style=\"text-align: right;\">\n",
       "      <th></th>\n",
       "      <th>UserID</th>\n",
       "      <th>ProductID</th>\n",
       "      <th>Rating</th>\n",
       "      <th>Timestamp</th>\n",
       "    </tr>\n",
       "  </thead>\n",
       "  <tbody>\n",
       "    <tr>\n",
       "      <th>count</th>\n",
       "      <td>31000</td>\n",
       "      <td>31000</td>\n",
       "      <td>31000.00</td>\n",
       "      <td>31000.00</td>\n",
       "    </tr>\n",
       "    <tr>\n",
       "      <th>unique</th>\n",
       "      <td>29625</td>\n",
       "      <td>2506</td>\n",
       "      <td>nan</td>\n",
       "      <td>nan</td>\n",
       "    </tr>\n",
       "    <tr>\n",
       "      <th>top</th>\n",
       "      <td>A243HY69GIAHFI</td>\n",
       "      <td>B00001P4ZH</td>\n",
       "      <td>nan</td>\n",
       "      <td>nan</td>\n",
       "    </tr>\n",
       "    <tr>\n",
       "      <th>freq</th>\n",
       "      <td>11</td>\n",
       "      <td>2075</td>\n",
       "      <td>nan</td>\n",
       "      <td>nan</td>\n",
       "    </tr>\n",
       "    <tr>\n",
       "      <th>mean</th>\n",
       "      <td>NaN</td>\n",
       "      <td>NaN</td>\n",
       "      <td>4.01</td>\n",
       "      <td>1234194724.34</td>\n",
       "    </tr>\n",
       "    <tr>\n",
       "      <th>std</th>\n",
       "      <td>NaN</td>\n",
       "      <td>NaN</td>\n",
       "      <td>1.38</td>\n",
       "      <td>159896347.84</td>\n",
       "    </tr>\n",
       "    <tr>\n",
       "      <th>min</th>\n",
       "      <td>NaN</td>\n",
       "      <td>NaN</td>\n",
       "      <td>1.00</td>\n",
       "      <td>912729600.00</td>\n",
       "    </tr>\n",
       "    <tr>\n",
       "      <th>25%</th>\n",
       "      <td>NaN</td>\n",
       "      <td>NaN</td>\n",
       "      <td>3.00</td>\n",
       "      <td>1101492000.00</td>\n",
       "    </tr>\n",
       "    <tr>\n",
       "      <th>50%</th>\n",
       "      <td>NaN</td>\n",
       "      <td>NaN</td>\n",
       "      <td>5.00</td>\n",
       "      <td>1301616000.00</td>\n",
       "    </tr>\n",
       "    <tr>\n",
       "      <th>75%</th>\n",
       "      <td>NaN</td>\n",
       "      <td>NaN</td>\n",
       "      <td>5.00</td>\n",
       "      <td>1367366400.00</td>\n",
       "    </tr>\n",
       "    <tr>\n",
       "      <th>max</th>\n",
       "      <td>NaN</td>\n",
       "      <td>NaN</td>\n",
       "      <td>5.00</td>\n",
       "      <td>1405987200.00</td>\n",
       "    </tr>\n",
       "  </tbody>\n",
       "</table>\n",
       "</div>"
      ],
      "text/plain": [
       "                UserID   ProductID   Rating     Timestamp\n",
       "count            31000       31000 31000.00      31000.00\n",
       "unique           29625        2506      nan           nan\n",
       "top     A243HY69GIAHFI  B00001P4ZH      nan           nan\n",
       "freq                11        2075      nan           nan\n",
       "mean               NaN         NaN     4.01 1234194724.34\n",
       "std                NaN         NaN     1.38  159896347.84\n",
       "min                NaN         NaN     1.00  912729600.00\n",
       "25%                NaN         NaN     3.00 1101492000.00\n",
       "50%                NaN         NaN     5.00 1301616000.00\n",
       "75%                NaN         NaN     5.00 1367366400.00\n",
       "max                NaN         NaN     5.00 1405987200.00"
      ]
     },
     "execution_count": 8,
     "metadata": {},
     "output_type": "execute_result"
    }
   ],
   "source": [
    "# Five point summary of numerical attributes and check unique values in 'object' columns\n",
    "print('Five point summary of the dataframe'); print('--'*30)\n",
    "\n",
    "ratings.describe(include = 'all')"
   ]
  },
  {
   "cell_type": "markdown",
   "metadata": {},
   "source": [
    "Descriptive statistics\n",
    "\n",
    "UserID: Categorical column with alphanumeric user id. Number of users in the dataset: 4201696.\n",
    "\n",
    "ProductID: Categorical column with some of the product ids being numerical entries and some being alphanumerics. Numbers of rated products: 476002.\n",
    "\n",
    "Rating: Users have rated the products on the scale of 1 to 5.\n",
    "\n",
    "Timestamp: Can be useful if we convert the numerical timestamp to datetime.\n"
   ]
  },
  {
   "cell_type": "code",
   "execution_count": 9,
   "metadata": {},
   "outputs": [
    {
     "data": {
      "image/png": "[encoded data removed]",
      "text/plain": [
       "<Figure size 1080x518.4 with 2 Axes>"
      ]
     },
     "metadata": {
      "needs_background": "light"
     },
     "output_type": "display_data"
    }
   ],
   "source": [
    "fig = plt.figure(figsize = (15, 7.2))\n",
    "ax = fig.add_subplot(121)\n",
    "g = sns.distplot(ratings['Rating'], ax = ax).set_title('Distribution of Ratings')\n",
    "ax = fig.add_subplot(122)\n",
    "g = sns.countplot(ratings['Rating']).set_title('Count of Ratings')"
   ]
  },
  {
   "cell_type": "code",
   "execution_count": 10,
   "metadata": {},
   "outputs": [],
   "source": [
    "ratings['Timestamp'] = pd.to_datetime(ratings['Timestamp'], unit = 's')\n",
    "ratings['Year'] = ratings['Timestamp'].dt.year"
   ]
  },
  {
   "cell_type": "code",
   "execution_count": 11,
   "metadata": {},
   "outputs": [
    {
     "name": "stdout",
     "output_type": "stream",
     "text": [
      "Trend of ratings over the years\n",
      "--------------------------------------------------------------------------------\n"
     ]
    },
    {
     "data": {
      "image/png": "[encoded data removed]",
      "text/plain": [
       "<Figure size 1080x518.4 with 1 Axes>"
      ]
     },
     "metadata": {
      "needs_background": "light"
     },
     "output_type": "display_data"
    }
   ],
   "source": [
    "print('Trend of ratings over the years'); print('--'*40)\n",
    "ratings_over_years = ratings.groupby(by = 'Year', as_index = False)['Rating'].count()\n",
    "\n",
    "fig = plt.figure(figsize = (15, 7.2))\n",
    "g = sns.lineplot(x = 'Year', y = 'Rating', data = ratings_over_years).set_title('Trend of Ratings over the Years')\n",
    "\n",
    "del g, ratings_over_years"
   ]
  },
  {
   "cell_type": "markdown",
   "metadata": {},
   "source": [
    "# 2. Take a subset of the dataset to make it less sparse/ denser. ( For example,keep the users only who has given 50 or more number of ratings )"
   ]
  },
  {
   "cell_type": "code",
   "execution_count": 12,
   "metadata": {},
   "outputs": [
    {
     "name": "stdout",
     "output_type": "stream",
     "text": [
      "Yearwise Counts for Ratings. Trend is similar across rating category.\n"
     ]
    },
    {
     "data": {
      "image/png": "[encoded data removed]",
      "text/plain": [
       "<Figure size 1080x518.4 with 5 Axes>"
      ]
     },
     "metadata": {
      "needs_background": "light"
     },
     "output_type": "display_data"
    }
   ],
   "source": [
    "print('Yearwise Counts for Ratings. Trend is similar across rating category.'); \n",
    "\n",
    "\n",
    "year_wise_ratings = pd.DataFrame(ratings.groupby(['Rating', 'Year'], as_index = False)['UserID'].count())\n",
    "year_wise_ratings.rename(columns = {'UserID': 'Counts'}, inplace = True)\n",
    "ratings_ = sorted(year_wise_ratings['Rating'].unique())\n",
    "\n",
    "fig, axes = plt.subplots(nrows = 2, ncols = 3, squeeze = False, figsize = (15, 7.2))\n",
    "plt.subplots_adjust(hspace = 0.5)\n",
    "axes_list = [item for sublist in axes for item in sublist] \n",
    "\n",
    "for rating in ratings_:\n",
    "    ax = axes_list.pop(0)\n",
    "    g = year_wise_ratings[year_wise_ratings['Rating'] == rating].plot(kind = 'bar', x ='Year', y = 'Counts', label = f'Rating = {rating}', \n",
    "                                                                  ax = ax, legend = True)\n",
    "    ax.set_title(f'Yearwise Count for Rating = {rating}')\n",
    "\n",
    "for ax in axes_list:\n",
    "    ax.remove()\n",
    "\n",
    "del ax, axes, axes_list, fig, rating, ratings_, year_wise_ratings"
   ]
  },
  {
   "cell_type": "code",
   "execution_count": 13,
   "metadata": {},
   "outputs": [
    {
     "name": "stdout",
     "output_type": "stream",
     "text": [
      "Adding column with count of rating per user\n",
      "------------------------------------------------------------\n"
     ]
    },
    {
     "data": {
      "text/plain": [
       "(31000, 6)"
      ]
     },
     "metadata": {},
     "output_type": "display_data"
    },
    {
     "data": {
      "text/html": [
       "<div>\n",
       "<style scoped>\n",
       "    .dataframe tbody tr th:only-of-type {\n",
       "        vertical-align: middle;\n",
       "    }\n",
       "\n",
       "    .dataframe tbody tr th {\n",
       "        vertical-align: top;\n",
       "    }\n",
       "\n",
       "    .dataframe thead th {\n",
       "        text-align: right;\n",
       "    }\n",
       "</style>\n",
       "<table border=\"1\" class=\"dataframe\">\n",
       "  <thead>\n",
       "    <tr style=\"text-align: right;\">\n",
       "      <th></th>\n",
       "      <th>UserID</th>\n",
       "      <th>ProductID</th>\n",
       "      <th>Rating</th>\n",
       "      <th>Timestamp</th>\n",
       "      <th>Year</th>\n",
       "      <th>UserIDCounts</th>\n",
       "    </tr>\n",
       "  </thead>\n",
       "  <tbody>\n",
       "    <tr>\n",
       "      <th>0</th>\n",
       "      <td>AKM1MP6P0OYPR</td>\n",
       "      <td>132793040</td>\n",
       "      <td>5</td>\n",
       "      <td>2013-04-13</td>\n",
       "      <td>2013</td>\n",
       "      <td>1</td>\n",
       "    </tr>\n",
       "    <tr>\n",
       "      <th>1</th>\n",
       "      <td>A2CX7LUOHB2NDG</td>\n",
       "      <td>321732944</td>\n",
       "      <td>5</td>\n",
       "      <td>2012-07-01</td>\n",
       "      <td>2012</td>\n",
       "      <td>1</td>\n",
       "    </tr>\n",
       "    <tr>\n",
       "      <th>2</th>\n",
       "      <td>A2NWSAGRHCP8N5</td>\n",
       "      <td>439886341</td>\n",
       "      <td>1</td>\n",
       "      <td>2013-04-29</td>\n",
       "      <td>2013</td>\n",
       "      <td>1</td>\n",
       "    </tr>\n",
       "    <tr>\n",
       "      <th>3</th>\n",
       "      <td>A2WNBOD3WNDNKT</td>\n",
       "      <td>439886341</td>\n",
       "      <td>3</td>\n",
       "      <td>2013-07-22</td>\n",
       "      <td>2013</td>\n",
       "      <td>1</td>\n",
       "    </tr>\n",
       "    <tr>\n",
       "      <th>4</th>\n",
       "      <td>A1GI0U4ZRJA8WN</td>\n",
       "      <td>439886341</td>\n",
       "      <td>1</td>\n",
       "      <td>2012-04-18</td>\n",
       "      <td>2012</td>\n",
       "      <td>1</td>\n",
       "    </tr>\n",
       "  </tbody>\n",
       "</table>\n",
       "</div>"
      ],
      "text/plain": [
       "           UserID  ProductID  Rating  Timestamp  Year  UserIDCounts\n",
       "0   AKM1MP6P0OYPR  132793040       5 2013-04-13  2013             1\n",
       "1  A2CX7LUOHB2NDG  321732944       5 2012-07-01  2012             1\n",
       "2  A2NWSAGRHCP8N5  439886341       1 2013-04-29  2013             1\n",
       "3  A2WNBOD3WNDNKT  439886341       3 2013-07-22  2013             1\n",
       "4  A1GI0U4ZRJA8WN  439886341       1 2012-04-18  2012             1"
      ]
     },
     "metadata": {},
     "output_type": "display_data"
    }
   ],
   "source": [
    "print('Adding column with count of rating per user'); print('--'*30)\n",
    "userid = ratings['UserID'].value_counts()\n",
    "userid = pd.DataFrame(userid).reset_index()\n",
    "userid.columns = ['UserID', 'UserIDCounts']\n",
    "\n",
    "ratings_df = ratings.merge(userid, how = 'left', on = ['UserID'])\n",
    "display(ratings_df.shape, ratings_df.head())\n",
    "\n",
    "del userid"
   ]
  },
  {
   "cell_type": "code",
   "execution_count": 14,
   "metadata": {},
   "outputs": [
    {
     "name": "stdout",
     "output_type": "stream",
     "text": [
      "Number of unique USERS and PRODUCT IDs in the raw ratings dataframe\n",
      "--------------------------------------------------------------------------------\n",
      "Number of unique USERS in raw ratings dataframe =  29625\n",
      "Number of unique PRODUCTS in raw ratings dataframe =  2506\n"
     ]
    }
   ],
   "source": [
    "# Number of unique user id and product id in the data\n",
    "print('Number of unique USERS and PRODUCT IDs in the raw ratings dataframe'); print('--'*40)\n",
    "print('Number of unique USERS in raw ratings dataframe = ', ratings_df['UserID'].nunique())\n",
    "print('Number of unique PRODUCTS in raw ratings dataframe = ', ratings_df['ProductID'].nunique())"
   ]
  },
  {
   "cell_type": "code",
   "execution_count": 15,
   "metadata": {},
   "outputs": [
    {
     "name": "stdout",
     "output_type": "stream",
     "text": [
      "Distribution of Ratings  is sparser\n",
      "--------------------------------------------------------------------------------\n"
     ]
    },
    {
     "data": {
      "image/png": "[encoded data removed]",
      "text/plain": [
       "<Figure size 1080x540 with 1 Axes>"
      ]
     },
     "metadata": {
      "needs_background": "light"
     },
     "output_type": "display_data"
    }
   ],
   "source": [
    "print('Distribution of Ratings  is sparser')\n",
    "print('--'*40)\n",
    "fig = plt.figure(figsize = (15, 7.5))\n",
    "g = sns.distplot(ratings_df['Rating'], bins = 50).set_title('Distribution of Ratings ')\n",
    "\n",
    "del fig, g"
   ]
  },
  {
   "cell_type": "code",
   "execution_count": 16,
   "metadata": {},
   "outputs": [
    {
     "name": "stdout",
     "output_type": "stream",
     "text": [
      "Taking a subset of dataset to make it less sparse/denser\n",
      "Keeping users those who have given more than 1 number of ratings\n",
      "------------------------------------------------------------\n",
      "Number of rows after filtering: 2334\n"
     ]
    }
   ],
   "source": [
    "#In this Subset to avoid Memory issue ,Keeping only users those who have given more than 2 number of ratings\n",
    "print('Taking a subset of dataset to make it less sparse/denser')\n",
    "print('Keeping users those who have given more than 1 number of ratings'); print('--'*30)\n",
    "\n",
    "ratings_df = ratings_df[ratings_df['UserIDCounts'] >= 2]\n",
    "print('Number of rows after filtering: {}'.format(ratings_df.shape[0]))"
   ]
  },
  {
   "cell_type": "code",
   "execution_count": 17,
   "metadata": {},
   "outputs": [
    {
     "data": {
      "image/png": "[encoded data removed]",
      "text/plain": [
       "<Figure size 1080x540 with 1 Axes>"
      ]
     },
     "metadata": {
      "needs_background": "light"
     },
     "output_type": "display_data"
    }
   ],
   "source": [
    "fig = plt.figure(figsize = (15, 7.5))\n",
    "g = sns.distplot(ratings_df['Rating'], bins = 50).set_title('Distribution of Ratings after filtering users who have given more than 2 number of ratings')\n",
    "\n",
    "del fig, g"
   ]
  },
  {
   "cell_type": "code",
   "execution_count": 18,
   "metadata": {},
   "outputs": [
    {
     "name": "stdout",
     "output_type": "stream",
     "text": [
      "Number of product ids after filtering based on ratings given by users: 782\n"
     ]
    }
   ],
   "source": [
    "print('Number of product ids after filtering based on ratings given by users: {}'.format(ratings_df['ProductID'].nunique()))"
   ]
  },
  {
   "cell_type": "code",
   "execution_count": 19,
   "metadata": {},
   "outputs": [
    {
     "name": "stdout",
     "output_type": "stream",
     "text": [
      "Selecting only UserID, ProductID and 'Rating' column\n",
      "------------------------------------------------------------\n"
     ]
    }
   ],
   "source": [
    "print('Selecting only UserID, ProductID and \\'Rating\\' column'); print('--'*30)\n",
    "ratings = ratings_df[['UserID', 'ProductID', 'Rating']]"
   ]
  },
  {
   "cell_type": "code",
   "execution_count": 20,
   "metadata": {},
   "outputs": [
    {
     "name": "stdout",
     "output_type": "stream",
     "text": [
      "Number of unique USERS and PRODUCT IDs in the filtered ratings dataframe\n",
      "------------------------------------------------------------\n",
      "Number of unique USERS in filtered ratings dataframe =  959\n",
      "Number of unique PRODUCTS in filtered ratings dataframe =  782\n"
     ]
    }
   ],
   "source": [
    "# Number of unique user id and product id in the data\n",
    "print('Number of unique USERS and PRODUCT IDs in the filtered ratings dataframe'); print('--'*30)\n",
    "print('Number of unique USERS in filtered ratings dataframe = ', ratings['UserID'].nunique())\n",
    "print('Number of unique PRODUCTS in filtered ratings dataframe = ', ratings['ProductID'].nunique())"
   ]
  },
  {
   "cell_type": "code",
   "execution_count": 21,
   "metadata": {},
   "outputs": [
    {
     "name": "stdout",
     "output_type": "stream",
     "text": [
      "Top 10 users based on # of ratings given\n",
      "------------------------------------------------------------\n"
     ]
    },
    {
     "data": {
      "text/plain": [
       "UserID\n",
       "A243HY69GIAHFI    11\n",
       "AJJV9Z17KV6GR     10\n",
       "A1ISUNUWG0K02V    10\n",
       "A231WM2Z2JL0U3    10\n",
       "A1WVMDRJU19AFD     9\n",
       "A23ZO1BVFFLGHO     9\n",
       "A1ORUSHRRG0VWN     9\n",
       "A2B7BUH8834Y6M     8\n",
       "A6ZPLVAUQ6695      8\n",
       "A3A15L96IYUO6V     8\n",
       "dtype: int64"
      ]
     },
     "metadata": {},
     "output_type": "display_data"
    },
    {
     "name": "stdout",
     "output_type": "stream",
     "text": [
      "\n",
      "Bottom 10 users based on # of ratings given\n",
      "--------------------------------------------------------------------------------\n"
     ]
    },
    {
     "data": {
      "text/plain": [
       "UserID\n",
       "A105R38CAPDBGU    2\n",
       "A3DZIDWH11X2BF    2\n",
       "A3E3TUHZHUER7Z    2\n",
       "A3EMRBL6P6BOZ     2\n",
       "A3EQQHWJ1EEYEU    2\n",
       "A3ET8UZUWY0KV3    2\n",
       "A3F27ADAT2YI8     2\n",
       "A3F2M27L02YDLM    2\n",
       "A3F5JV08JUY06C    2\n",
       "A3FM91FRXZ5MQ3    2\n",
       "dtype: int64"
      ]
     },
     "metadata": {},
     "output_type": "display_data"
    }
   ],
   "source": [
    "# Top and bottom 10 users based on # of ratings given\n",
    "print('Top 10 users based on # of ratings given'); print('--'*30)\n",
    "most_rated = ratings.groupby('UserID').size().sort_values(ascending = False)[:10]\n",
    "display(most_rated)\n",
    "\n",
    "print('\\nBottom 10 users based on # of ratings given'); print('--'*40)\n",
    "least_rated = ratings.groupby('UserID').size().sort_values(ascending = True)[:10]\n",
    "display(least_rated)\n",
    "\n",
    "del most_rated, least_rated"
   ]
  },
  {
   "cell_type": "markdown",
   "metadata": {},
   "source": [
    "# 4. Split the data randomly into a train and test dataset. ( For example, split it in 70/30 ratio)"
   ]
  },
  {
   "cell_type": "code",
   "execution_count": 22,
   "metadata": {},
   "outputs": [
    {
     "data": {
      "text/plain": [
       "(1633, 3)"
      ]
     },
     "metadata": {},
     "output_type": "display_data"
    },
    {
     "data": {
      "text/plain": [
       "(701, 3)"
      ]
     },
     "metadata": {},
     "output_type": "display_data"
    }
   ],
   "source": [
    "train_data, test_data = train_test_split(ratings, test_size = 0.30, random_state = random_state)\n",
    "display(train_data.shape, test_data.shape)"
   ]
  },
  {
   "cell_type": "code",
   "execution_count": 23,
   "metadata": {},
   "outputs": [
    {
     "name": "stdout",
     "output_type": "stream",
     "text": [
      "Number of unique users in training dataframe 889\n",
      "Number of unique users in test dataframe: 534\n",
      "Number of products that aren't present in test dataframe: \n"
     ]
    }
   ],
   "source": [
    "print('Number of unique users in training dataframe {}'.format(train_data['UserID'].nunique()))\n",
    "print('Number of unique users in test dataframe: {}'.format(test_data['UserID'].nunique()))\n",
    "print('Number of products that aren\\'t present in test dataframe: '.format(len(list(set(list(train_data['ProductID'].unique())) - set(list(test_data['ProductID'].unique()))))))"
   ]
  },
  {
   "cell_type": "code",
   "execution_count": 24,
   "metadata": {},
   "outputs": [
    {
     "name": "stdout",
     "output_type": "stream",
     "text": [
      "Number of unique products in training dataframe 635\n",
      "Number of unique products in test dataframe: 396\n",
      "Number of products that aren't present in test dataframe: 386\n"
     ]
    }
   ],
   "source": [
    "print('Number of unique products in training dataframe {}'.format(train_data['ProductID'].nunique()))\n",
    "print('Number of unique products in test dataframe: {}'.format(test_data['ProductID'].nunique()))\n",
    "print('Number of products that aren\\'t present in test dataframe: {}'.format(len(list(set(list(train_data['ProductID'].unique())) - set(list(test_data['ProductID'].unique()))))))"
   ]
  },
  {
   "cell_type": "markdown",
   "metadata": {},
   "source": [
    "# 3. Build Popularity Recommender model."
   ]
  },
  {
   "cell_type": "code",
   "execution_count": 25,
   "metadata": {},
   "outputs": [],
   "source": [
    "#Class for Popularity based Recommender System\n",
    "class popularity_recommender():   \n",
    "    def __init__(self):\n",
    "      self.trainSet = None\n",
    "      self.userId = None\n",
    "      self.productId = None\n",
    "      self.popularityRecommendations = None\n",
    "      self.topN = None\n",
    "    def create(self, trainSet, userId, productId, topN):\n",
    "      self.trainSet = trainSet\n",
    "      self.userId = userId\n",
    "      self.productId = productId\n",
    "      self.topN = topN\n",
    "\n",
    "      byRating = self.trainSet.groupby('ProductID', sort = False, as_index = False)['Rating'].mean().sort_values(by = 'Rating', ascending = False)\n",
    "      byRating['RatingRank'] = byRating['Rating'].rank(ascending = False, method = 'first')\n",
    "\n",
    "      byUsers = self.trainSet.groupby('ProductID', sort = False, as_index = False)['Rating'].count().sort_values(by = 'Rating', ascending = False)\n",
    "      byUsers.columns = ['ProductID', 'RatingCount']\n",
    "      \n",
    "      byRatingUsers = pd.merge(byRating, byUsers, on = 'ProductID', how = 'left')\n",
    "      byRatingUsers = byRatingUsers.sort_values(by = 'RatingRank', ascending = False)\n",
    "\n",
    "      self.popularity_recommendations = byRating.head(self.topN)\n",
    "      return byRatingUsers\n",
    "\n",
    "    def recommend(self, user_id):            \n",
    "      user_recommendations = self.popularity_recommendations\n",
    "      \n",
    "      user_recommendations['UserID'] = user_id\n",
    "      \n",
    "      cols = user_recommendations.columns.tolist()\n",
    "      cols = cols[-1:] + cols[:-1]\n",
    "      user_recommendations = user_recommendations[cols]\n",
    "      try:\n",
    "        print('User has already rated products (from data in training set): {}'.format(self.trainSet.loc[(self.trainSet['UserID'] == user_id), 'ProductID'].nunique()))\n",
    "        print('Top 5 products from what\\'s already being rated: {}'.format(list(self.trainSet[(self.trainSet['UserID'] == user_id)].sort_values(by = 'Rating', ascending = False).head(5)['ProductID'])))\n",
    "      except:\n",
    "        print('There\\'s no data for the selected user in training set')\n",
    "      print('\\nTop 5 recommendations for the user based on popularity based method: {}'.format(list(user_recommendations['ProductID'])))\n",
    "      return list(user_recommendations['ProductID'])"
   ]
  },
  {
   "cell_type": "markdown",
   "metadata": {},
   "source": [
    "# 7. Get top - K ( K = 5) recommendations. Since our goal is to recommend new products to each user based on his/her habits, we will recommend 5 new products."
   ]
  },
  {
   "cell_type": "code",
   "execution_count": 26,
   "metadata": {},
   "outputs": [
    {
     "name": "stdout",
     "output_type": "stream",
     "text": [
      "Popularity recommendation is based on the mean of Ratings received and not Rating counts.\n",
      "Get top - K ( K = 5) recommendations.\n",
      "our Objective is to recommend new products to each user based on his/her habits, we will recommend 5 new products.\n",
      "------------------------------------------------------------\n",
      "\n",
      "Make recommendation for the user id selected from the testset = \"A11D1KHM7DVOQK\"\n",
      "User has already rated products (from data in training set): 4\n",
      "Top 5 products from what's already being rated: ['B00000JCTD', 'B00001ZWRV', 'B000001OMN', 'B00000JBYW']\n",
      "\n",
      "Top 5 recommendations for the user based on popularity based method: [8862935307, 'B00000J1V7', 'B00001RMCY', 'B00000J1EJ', 'B00001P4PC']\n",
      "\n",
      "\n",
      "Make recommendation for the user id selected from the testset = \"A149RNR5RH19YY\"\n",
      "--------------------------------------------------------------------------------\n",
      "User has already rated products (from data in training set): 2\n",
      "Top 5 products from what's already being rated: ['B00000JBAM', 'B00001OPJ1']\n",
      "\n",
      "Top 5 recommendations for the user based on popularity based method: [8862935307, 'B00000J1V7', 'B00001RMCY', 'B00000J1EJ', 'B00001P4PC']\n"
     ]
    }
   ],
   "source": [
    "# Get top 5 recommendations\n",
    "print('Popularity recommendation is based on the mean of Ratings received and not Rating counts.')\n",
    "print('Get top - K ( K = 5) recommendations.')\n",
    "print('our Objective is to recommend new products to each user based on his/her habits, we will recommend 5 new products.'); print('--'*30)\n",
    "compare_dict = {}; result = {}\n",
    "popularity = popularity_recommender()\n",
    "byRatingUsers = popularity.create(train_data, 'UserID', 'ProductID', 5)\n",
    "\n",
    "print('\\nMake recommendation for the user id selected from the testset = \"A11D1KHM7DVOQK\"')\n",
    "user_id = \"A11D1KHM7DVOQK\"\n",
    "result[user_id] = popularity.recommend(user_id)\n",
    "\n",
    "print('\\n\\nMake recommendation for the user id selected from the testset = \"A149RNR5RH19YY\"'); print('--'*40)\n",
    "user_id = \"A149RNR5RH19YY\"\n",
    "result[user_id] = popularity.recommend(user_id)"
   ]
  },
  {
   "cell_type": "code",
   "execution_count": 27,
   "metadata": {},
   "outputs": [
    {
     "name": "stdout",
     "output_type": "stream",
     "text": [
      "Store the recommendations in a dictionary\n",
      "------------------------------------------------------------\n"
     ]
    }
   ],
   "source": [
    "print('Store the recommendations in a dictionary'); print('--'*30)\n",
    "compare_dict['PopularityRec'] = result"
   ]
  },
  {
   "cell_type": "markdown",
   "metadata": {},
   "source": [
    "# 6. Evaluate the above model. ( Once the model is trained on the training data, it can be used to compute the error (like RMSE) on predictions made on the testdata.) You can also use a different method to evaluate the models."
   ]
  },
  {
   "cell_type": "code",
   "execution_count": 27,
   "metadata": {},
   "outputs": [
    {
     "name": "stdout",
     "output_type": "stream",
     "text": [
      "Evaluating Popularity based Recommender\n",
      "Creating new dataframe with mean rating for each product in test dataframe and using our prediction dataframe i.e. byRatingUsers to calculate RMSE\n",
      "------------------------------------------------------------\n",
      "Shape of test mean dataframe: (396, 3)\n",
      "Shape of predicted (recommender) dataframe: (635, 4)\n",
      "------------------------------------------------------------\n",
      "RMSE OF THE POPULARITY BASED RECOMMENDER: 2.7215\n"
     ]
    }
   ],
   "source": [
    "from math import sqrt\n",
    "print('Evaluating Popularity based Recommender')\n",
    "print('Creating new dataframe with mean rating for each product in test dataframe and using our prediction dataframe i.e. byRatingUsers to calculate RMSE'); print('--'*30)\n",
    "test_means = test_data.groupby('ProductID', sort = False, as_index = False)['Rating'].mean().sort_values(by = 'Rating', ascending = False)\n",
    "test_means = test_means.merge(byRatingUsers, on = 'ProductID', how = 'left', suffixes=('_act', '_pred')).drop(['RatingRank', 'RatingCount'], axis = 1).fillna(0)\n",
    "print('Shape of test mean dataframe: {}'.format(test_means.shape))\n",
    "print('Shape of predicted (recommender) dataframe: {}'.format(byRatingUsers.shape))\n",
    "\n",
    "RMSE_pop = sqrt(mean_squared_error(test_means['Rating_act'], test_means['Rating_pred']))\n",
    "print('--' * 30)\n",
    "print('RMSE OF THE POPULARITY BASED RECOMMENDER: {}'.format(round(RMSE_pop, 4)))"
   ]
  },
  {
   "cell_type": "code",
   "execution_count": 28,
   "metadata": {},
   "outputs": [
    {
     "name": "stdout",
     "output_type": "stream",
     "text": [
      "Recommendations based on mean of Rating \n",
      "------------------------------------------------------------\n"
     ]
    },
    {
     "data": {
      "text/plain": [
       "[8862935307, 'B00000J1V7', 'B00001RMCY', 'B00000J1EJ', 'B00001P4PC']"
      ]
     },
     "metadata": {},
     "output_type": "display_data"
    },
    {
     "name": "stdout",
     "output_type": "stream",
     "text": [
      "\n",
      "Recommendations based on count of Rating\n",
      "------------------------------------------------------------\n"
     ]
    },
    {
     "data": {
      "text/plain": [
       "['B00001P4ZH', 'B00001WRSJ', 'B00000J1V5', 'B00000JDF5', 'B00001P4XA']"
      ]
     },
     "metadata": {},
     "output_type": "display_data"
    },
    {
     "name": "stdout",
     "output_type": "stream",
     "text": [
      "\n",
      "Recommendations based on a mix of mean and count of Rating\n",
      "------------------------------------------------------------\n"
     ]
    },
    {
     "data": {
      "text/plain": [
       "[972683275, 'B00000J3NF', 'B00001RMCY', 'B00000J08C', 9983891212]"
      ]
     },
     "metadata": {},
     "output_type": "display_data"
    }
   ],
   "source": [
    "print('Recommendations based on mean of Rating '); print('--'*30)\n",
    "display(byRatingUsers.sort_values(by = 'RatingRank', ascending = True).head(5)['ProductID'].tolist())\n",
    "\n",
    "print('\\nRecommendations based on count of Rating'); print('--'*30)\n",
    "display(byRatingUsers.sort_values(by = 'RatingCount', ascending = False).head(5)['ProductID'].tolist())\n",
    "\n",
    "print('\\nRecommendations based on a mix of mean and count of Rating'); print('--'*30)\n",
    "display(byRatingUsers.sort_values(by = ['Rating', 'RatingCount'], ascending = False).head(5)['ProductID'].tolist())"
   ]
  },
  {
   "cell_type": "code",
   "execution_count": 29,
   "metadata": {},
   "outputs": [
    {
     "name": "stdout",
     "output_type": "stream",
     "text": [
      "Plot of average ratings versus number of ratings\n",
      "--------------------------------------------------------------------------------\n"
     ]
    },
    {
     "data": {
      "image/png": "[encoded data removed]",
      "text/plain": [
       "<Figure size 720x720 with 3 Axes>"
      ]
     },
     "metadata": {
      "needs_background": "light"
     },
     "output_type": "display_data"
    }
   ],
   "source": [
    "print('Plot of average ratings versus number of ratings'); print('--'*40)\n",
    "g = sns.jointplot(x = 'Rating', y = 'RatingCount', data = byRatingUsers, alpha = 0.4, height = 10)\n",
    "\n",
    "del g, byRatingUsers, popularity_recommender, user_id"
   ]
  },
  {
   "cell_type": "markdown",
   "metadata": {},
   "source": [
    "Popularity Based Recommendation insights:\n",
    "    \n",
    "For popularity recommendation system, we recommended products based on mean of Ratings given by users. We saw that the top 5 products which we recommended to users are those where only 1 user from the training set has rated.\n",
    "Then we also explored other methods for popularity recommendations. Those were based on:\n",
    "    \n",
    "Count of Ratings received for the product\n",
    "\n",
    "Hybrid method for popularity recommendation where in we used both mean and count of rating to decide on the product recommended\n",
    "\n",
    "\n",
    "For all of the above cases (recommendations based on mean, count, and mean and count), popularity based method lacks personalization i.e. same recommendations for all users. Using Popularity based recommendation system , it would easier to recommend products to a new user w/o having knowledge about who the users are or what their preferences are and recommending them the products that are in-trend.\n",
    "\n",
    "\n",
    "RMSE of the popularity based recommendation method using mean of rating is 2.7215.\n"
   ]
  },
  {
   "cell_type": "markdown",
   "metadata": {},
   "source": [
    "# 5. Build Collaborative Filtering model. ( 20 marks)"
   ]
  },
  {
   "cell_type": "markdown",
   "metadata": {},
   "source": [
    "Objective is to build a recommendation system to recommend products to customers based on their previous ratings for other products i.e. item-based collaborative filtering."
   ]
  },
  {
   "cell_type": "code",
   "execution_count": 31,
   "metadata": {},
   "outputs": [
    {
     "name": "stdout",
     "output_type": "stream",
     "text": [
      "Matrix with one row per 'Product' and one column per 'User' for Item-based collaborative filtering\n",
      "------------------------------------------------------------\n"
     ]
    },
    {
     "data": {
      "text/html": [
       "<div>\n",
       "<style scoped>\n",
       "    .dataframe tbody tr th:only-of-type {\n",
       "        vertical-align: middle;\n",
       "    }\n",
       "\n",
       "    .dataframe tbody tr th {\n",
       "        vertical-align: top;\n",
       "    }\n",
       "\n",
       "    .dataframe thead th {\n",
       "        text-align: right;\n",
       "    }\n",
       "</style>\n",
       "<table border=\"1\" class=\"dataframe\">\n",
       "  <thead>\n",
       "    <tr style=\"text-align: right;\">\n",
       "      <th>ProductID</th>\n",
       "      <th>594017343</th>\n",
       "      <th>594017580</th>\n",
       "      <th>594033926</th>\n",
       "      <th>594296420</th>\n",
       "      <th>594450705</th>\n",
       "      <th>594451647</th>\n",
       "      <th>594477670</th>\n",
       "      <th>970407998</th>\n",
       "      <th>972683275</th>\n",
       "      <th>979526191</th>\n",
       "      <th>...</th>\n",
       "      <th>B00002EQBT</th>\n",
       "      <th>B00002EQBU</th>\n",
       "      <th>B00002EQBW</th>\n",
       "      <th>B00002EQBZ</th>\n",
       "      <th>B00002EQC2</th>\n",
       "      <th>B00002EQCD</th>\n",
       "      <th>B00002EQCF</th>\n",
       "      <th>B00002EQCG</th>\n",
       "      <th>B00002EQCS</th>\n",
       "      <th>B00002EQCW</th>\n",
       "    </tr>\n",
       "    <tr>\n",
       "      <th>UserID</th>\n",
       "      <th></th>\n",
       "      <th></th>\n",
       "      <th></th>\n",
       "      <th></th>\n",
       "      <th></th>\n",
       "      <th></th>\n",
       "      <th></th>\n",
       "      <th></th>\n",
       "      <th></th>\n",
       "      <th></th>\n",
       "      <th></th>\n",
       "      <th></th>\n",
       "      <th></th>\n",
       "      <th></th>\n",
       "      <th></th>\n",
       "      <th></th>\n",
       "      <th></th>\n",
       "      <th></th>\n",
       "      <th></th>\n",
       "      <th></th>\n",
       "      <th></th>\n",
       "    </tr>\n",
       "  </thead>\n",
       "  <tbody>\n",
       "    <tr>\n",
       "      <th>A105R38CAPDBGU</th>\n",
       "      <td>0.00</td>\n",
       "      <td>0.00</td>\n",
       "      <td>0.00</td>\n",
       "      <td>0.00</td>\n",
       "      <td>0.00</td>\n",
       "      <td>0.00</td>\n",
       "      <td>0.00</td>\n",
       "      <td>0.00</td>\n",
       "      <td>0.00</td>\n",
       "      <td>0.00</td>\n",
       "      <td>...</td>\n",
       "      <td>0.00</td>\n",
       "      <td>0.00</td>\n",
       "      <td>0.00</td>\n",
       "      <td>0.00</td>\n",
       "      <td>0.00</td>\n",
       "      <td>0.00</td>\n",
       "      <td>0.00</td>\n",
       "      <td>0.00</td>\n",
       "      <td>0.00</td>\n",
       "      <td>0.00</td>\n",
       "    </tr>\n",
       "    <tr>\n",
       "      <th>A10CMI5RR4XDIV</th>\n",
       "      <td>0.00</td>\n",
       "      <td>0.00</td>\n",
       "      <td>0.00</td>\n",
       "      <td>0.00</td>\n",
       "      <td>0.00</td>\n",
       "      <td>0.00</td>\n",
       "      <td>0.00</td>\n",
       "      <td>0.00</td>\n",
       "      <td>0.00</td>\n",
       "      <td>0.00</td>\n",
       "      <td>...</td>\n",
       "      <td>0.00</td>\n",
       "      <td>0.00</td>\n",
       "      <td>0.00</td>\n",
       "      <td>0.00</td>\n",
       "      <td>0.00</td>\n",
       "      <td>0.00</td>\n",
       "      <td>0.00</td>\n",
       "      <td>0.00</td>\n",
       "      <td>0.00</td>\n",
       "      <td>0.00</td>\n",
       "    </tr>\n",
       "    <tr>\n",
       "      <th>A10DIDVYDN2Q5Z</th>\n",
       "      <td>0.00</td>\n",
       "      <td>0.00</td>\n",
       "      <td>0.00</td>\n",
       "      <td>0.00</td>\n",
       "      <td>0.00</td>\n",
       "      <td>0.00</td>\n",
       "      <td>0.00</td>\n",
       "      <td>0.00</td>\n",
       "      <td>0.00</td>\n",
       "      <td>0.00</td>\n",
       "      <td>...</td>\n",
       "      <td>0.00</td>\n",
       "      <td>0.00</td>\n",
       "      <td>0.00</td>\n",
       "      <td>0.00</td>\n",
       "      <td>0.00</td>\n",
       "      <td>0.00</td>\n",
       "      <td>0.00</td>\n",
       "      <td>0.00</td>\n",
       "      <td>0.00</td>\n",
       "      <td>0.00</td>\n",
       "    </tr>\n",
       "    <tr>\n",
       "      <th>A10P0BX64HLW7H</th>\n",
       "      <td>0.00</td>\n",
       "      <td>0.00</td>\n",
       "      <td>0.00</td>\n",
       "      <td>0.00</td>\n",
       "      <td>0.00</td>\n",
       "      <td>0.00</td>\n",
       "      <td>0.00</td>\n",
       "      <td>0.00</td>\n",
       "      <td>0.00</td>\n",
       "      <td>0.00</td>\n",
       "      <td>...</td>\n",
       "      <td>0.00</td>\n",
       "      <td>0.00</td>\n",
       "      <td>0.00</td>\n",
       "      <td>0.00</td>\n",
       "      <td>0.00</td>\n",
       "      <td>0.00</td>\n",
       "      <td>0.00</td>\n",
       "      <td>0.00</td>\n",
       "      <td>0.00</td>\n",
       "      <td>0.00</td>\n",
       "    </tr>\n",
       "    <tr>\n",
       "      <th>A10SRJNBFF2BGY</th>\n",
       "      <td>0.00</td>\n",
       "      <td>0.00</td>\n",
       "      <td>0.00</td>\n",
       "      <td>0.00</td>\n",
       "      <td>0.00</td>\n",
       "      <td>0.00</td>\n",
       "      <td>0.00</td>\n",
       "      <td>0.00</td>\n",
       "      <td>0.00</td>\n",
       "      <td>0.00</td>\n",
       "      <td>...</td>\n",
       "      <td>0.00</td>\n",
       "      <td>0.00</td>\n",
       "      <td>0.00</td>\n",
       "      <td>0.00</td>\n",
       "      <td>0.00</td>\n",
       "      <td>0.00</td>\n",
       "      <td>0.00</td>\n",
       "      <td>0.00</td>\n",
       "      <td>0.00</td>\n",
       "      <td>0.00</td>\n",
       "    </tr>\n",
       "  </tbody>\n",
       "</table>\n",
       "<p>5 rows × 782 columns</p>\n",
       "</div>"
      ],
      "text/plain": [
       "ProductID       594017343  594017580  594033926  594296420  594450705  \\\n",
       "UserID                                                                  \n",
       "A105R38CAPDBGU       0.00       0.00       0.00       0.00       0.00   \n",
       "A10CMI5RR4XDIV       0.00       0.00       0.00       0.00       0.00   \n",
       "A10DIDVYDN2Q5Z       0.00       0.00       0.00       0.00       0.00   \n",
       "A10P0BX64HLW7H       0.00       0.00       0.00       0.00       0.00   \n",
       "A10SRJNBFF2BGY       0.00       0.00       0.00       0.00       0.00   \n",
       "\n",
       "ProductID       594451647  594477670  970407998  972683275  979526191  ...  \\\n",
       "UserID                                                                 ...   \n",
       "A105R38CAPDBGU       0.00       0.00       0.00       0.00       0.00  ...   \n",
       "A10CMI5RR4XDIV       0.00       0.00       0.00       0.00       0.00  ...   \n",
       "A10DIDVYDN2Q5Z       0.00       0.00       0.00       0.00       0.00  ...   \n",
       "A10P0BX64HLW7H       0.00       0.00       0.00       0.00       0.00  ...   \n",
       "A10SRJNBFF2BGY       0.00       0.00       0.00       0.00       0.00  ...   \n",
       "\n",
       "ProductID       B00002EQBT  B00002EQBU  B00002EQBW  B00002EQBZ  B00002EQC2  \\\n",
       "UserID                                                                       \n",
       "A105R38CAPDBGU        0.00        0.00        0.00        0.00        0.00   \n",
       "A10CMI5RR4XDIV        0.00        0.00        0.00        0.00        0.00   \n",
       "A10DIDVYDN2Q5Z        0.00        0.00        0.00        0.00        0.00   \n",
       "A10P0BX64HLW7H        0.00        0.00        0.00        0.00        0.00   \n",
       "A10SRJNBFF2BGY        0.00        0.00        0.00        0.00        0.00   \n",
       "\n",
       "ProductID       B00002EQCD  B00002EQCF  B00002EQCG  B00002EQCS  B00002EQCW  \n",
       "UserID                                                                      \n",
       "A105R38CAPDBGU        0.00        0.00        0.00        0.00        0.00  \n",
       "A10CMI5RR4XDIV        0.00        0.00        0.00        0.00        0.00  \n",
       "A10DIDVYDN2Q5Z        0.00        0.00        0.00        0.00        0.00  \n",
       "A10P0BX64HLW7H        0.00        0.00        0.00        0.00        0.00  \n",
       "A10SRJNBFF2BGY        0.00        0.00        0.00        0.00        0.00  \n",
       "\n",
       "[5 rows x 782 columns]"
      ]
     },
     "execution_count": 31,
     "metadata": {},
     "output_type": "execute_result"
    }
   ],
   "source": [
    "# Item-based Collaborative Filtering Model\n",
    "print('Matrix with one row per \\'Product\\' and one column per \\'User\\' for Item-based collaborative filtering'); print('--'*30)\n",
    "ratings_item = ratings.pivot(index = 'UserID', columns = 'ProductID', values = 'Rating').fillna(0)\n",
    "ratings_item.head()"
   ]
  },
  {
   "cell_type": "code",
   "execution_count": 32,
   "metadata": {},
   "outputs": [
    {
     "name": "stdout",
     "output_type": "stream",
     "text": [
      "Calculate the density of the ratings matrix\n",
      "------------------------------------------------------------\n",
      "Shape of ratings matrix:  (959, 782)\n",
      "given_num_of_ratings =  2334\n",
      "possible_num_of_ratings =  749938\n",
      "density: 0.31%\n"
     ]
    }
   ],
   "source": [
    "# Calculate the density of the rating matrix\n",
    "print('Calculate the density of the ratings matrix'); print('--'*30)\n",
    "\n",
    "print('Shape of ratings matrix: ', ratings_item.shape)\n",
    "\n",
    "given_num_of_ratings = np.count_nonzero(ratings_item)\n",
    "print('given_num_of_ratings = ', given_num_of_ratings)\n",
    "\n",
    "possible_num_of_ratings = ratings_item.shape[0] * ratings_item.shape[1]\n",
    "print('possible_num_of_ratings = ', possible_num_of_ratings)\n",
    "\n",
    "density = (given_num_of_ratings/possible_num_of_ratings)\n",
    "density *= 100\n",
    "print ('density: {:4.2f}%'.format(density))"
   ]
  },
  {
   "cell_type": "code",
   "execution_count": 40,
   "metadata": {},
   "outputs": [
    {
     "data": {
      "text/html": [
       "<div>\n",
       "<style scoped>\n",
       "    .dataframe tbody tr th:only-of-type {\n",
       "        vertical-align: middle;\n",
       "    }\n",
       "\n",
       "    .dataframe tbody tr th {\n",
       "        vertical-align: top;\n",
       "    }\n",
       "\n",
       "    .dataframe thead th {\n",
       "        text-align: right;\n",
       "    }\n",
       "</style>\n",
       "<table border=\"1\" class=\"dataframe\">\n",
       "  <thead>\n",
       "    <tr style=\"text-align: right;\">\n",
       "      <th>ProductID</th>\n",
       "      <th>594017343</th>\n",
       "      <th>594017580</th>\n",
       "      <th>594033926</th>\n",
       "      <th>594296420</th>\n",
       "      <th>594450705</th>\n",
       "      <th>594451647</th>\n",
       "      <th>594477670</th>\n",
       "      <th>970407998</th>\n",
       "      <th>972683275</th>\n",
       "      <th>979526191</th>\n",
       "      <th>...</th>\n",
       "      <th>B00002EQBT</th>\n",
       "      <th>B00002EQBU</th>\n",
       "      <th>B00002EQBW</th>\n",
       "      <th>B00002EQBZ</th>\n",
       "      <th>B00002EQC2</th>\n",
       "      <th>B00002EQCD</th>\n",
       "      <th>B00002EQCF</th>\n",
       "      <th>B00002EQCG</th>\n",
       "      <th>B00002EQCS</th>\n",
       "      <th>B00002EQCW</th>\n",
       "    </tr>\n",
       "    <tr>\n",
       "      <th>UserID</th>\n",
       "      <th></th>\n",
       "      <th></th>\n",
       "      <th></th>\n",
       "      <th></th>\n",
       "      <th></th>\n",
       "      <th></th>\n",
       "      <th></th>\n",
       "      <th></th>\n",
       "      <th></th>\n",
       "      <th></th>\n",
       "      <th></th>\n",
       "      <th></th>\n",
       "      <th></th>\n",
       "      <th></th>\n",
       "      <th></th>\n",
       "      <th></th>\n",
       "      <th></th>\n",
       "      <th></th>\n",
       "      <th></th>\n",
       "      <th></th>\n",
       "      <th></th>\n",
       "    </tr>\n",
       "  </thead>\n",
       "  <tbody>\n",
       "    <tr>\n",
       "      <th>A105R38CAPDBGU</th>\n",
       "      <td>0.00</td>\n",
       "      <td>0.00</td>\n",
       "      <td>-0.00</td>\n",
       "      <td>-0.00</td>\n",
       "      <td>0.00</td>\n",
       "      <td>-0.00</td>\n",
       "      <td>0.00</td>\n",
       "      <td>0.00</td>\n",
       "      <td>-0.00</td>\n",
       "      <td>0.00</td>\n",
       "      <td>...</td>\n",
       "      <td>-0.00</td>\n",
       "      <td>0.00</td>\n",
       "      <td>0.00</td>\n",
       "      <td>0.00</td>\n",
       "      <td>-0.00</td>\n",
       "      <td>0.00</td>\n",
       "      <td>-0.00</td>\n",
       "      <td>0.00</td>\n",
       "      <td>-0.00</td>\n",
       "      <td>0.00</td>\n",
       "    </tr>\n",
       "    <tr>\n",
       "      <th>A10CMI5RR4XDIV</th>\n",
       "      <td>-0.00</td>\n",
       "      <td>-0.00</td>\n",
       "      <td>-0.00</td>\n",
       "      <td>0.00</td>\n",
       "      <td>-0.00</td>\n",
       "      <td>0.00</td>\n",
       "      <td>-0.00</td>\n",
       "      <td>-0.00</td>\n",
       "      <td>-0.00</td>\n",
       "      <td>0.01</td>\n",
       "      <td>...</td>\n",
       "      <td>-0.00</td>\n",
       "      <td>0.00</td>\n",
       "      <td>0.00</td>\n",
       "      <td>0.00</td>\n",
       "      <td>0.00</td>\n",
       "      <td>0.00</td>\n",
       "      <td>-0.00</td>\n",
       "      <td>0.00</td>\n",
       "      <td>0.00</td>\n",
       "      <td>0.00</td>\n",
       "    </tr>\n",
       "    <tr>\n",
       "      <th>A10DIDVYDN2Q5Z</th>\n",
       "      <td>-0.00</td>\n",
       "      <td>-0.00</td>\n",
       "      <td>-0.00</td>\n",
       "      <td>-0.00</td>\n",
       "      <td>-0.00</td>\n",
       "      <td>0.00</td>\n",
       "      <td>-0.00</td>\n",
       "      <td>-0.00</td>\n",
       "      <td>-0.00</td>\n",
       "      <td>0.00</td>\n",
       "      <td>...</td>\n",
       "      <td>-0.00</td>\n",
       "      <td>0.00</td>\n",
       "      <td>0.00</td>\n",
       "      <td>0.00</td>\n",
       "      <td>0.00</td>\n",
       "      <td>0.00</td>\n",
       "      <td>-0.00</td>\n",
       "      <td>0.00</td>\n",
       "      <td>0.00</td>\n",
       "      <td>0.00</td>\n",
       "    </tr>\n",
       "    <tr>\n",
       "      <th>A10P0BX64HLW7H</th>\n",
       "      <td>-0.00</td>\n",
       "      <td>-0.00</td>\n",
       "      <td>-0.00</td>\n",
       "      <td>0.00</td>\n",
       "      <td>-0.00</td>\n",
       "      <td>-0.00</td>\n",
       "      <td>-0.00</td>\n",
       "      <td>-0.00</td>\n",
       "      <td>0.01</td>\n",
       "      <td>0.00</td>\n",
       "      <td>...</td>\n",
       "      <td>0.00</td>\n",
       "      <td>0.00</td>\n",
       "      <td>0.00</td>\n",
       "      <td>0.00</td>\n",
       "      <td>0.00</td>\n",
       "      <td>0.00</td>\n",
       "      <td>0.00</td>\n",
       "      <td>0.00</td>\n",
       "      <td>0.00</td>\n",
       "      <td>0.00</td>\n",
       "    </tr>\n",
       "    <tr>\n",
       "      <th>A10SRJNBFF2BGY</th>\n",
       "      <td>-0.00</td>\n",
       "      <td>-0.00</td>\n",
       "      <td>0.00</td>\n",
       "      <td>0.00</td>\n",
       "      <td>-0.00</td>\n",
       "      <td>-0.00</td>\n",
       "      <td>-0.00</td>\n",
       "      <td>0.00</td>\n",
       "      <td>0.02</td>\n",
       "      <td>-0.00</td>\n",
       "      <td>...</td>\n",
       "      <td>-0.00</td>\n",
       "      <td>0.00</td>\n",
       "      <td>-0.00</td>\n",
       "      <td>-0.00</td>\n",
       "      <td>0.00</td>\n",
       "      <td>-0.00</td>\n",
       "      <td>0.00</td>\n",
       "      <td>-0.00</td>\n",
       "      <td>0.00</td>\n",
       "      <td>0.00</td>\n",
       "    </tr>\n",
       "    <tr>\n",
       "      <th>A10T43ROKRQALT</th>\n",
       "      <td>-0.00</td>\n",
       "      <td>-0.00</td>\n",
       "      <td>-0.00</td>\n",
       "      <td>-0.00</td>\n",
       "      <td>-0.00</td>\n",
       "      <td>-0.00</td>\n",
       "      <td>0.00</td>\n",
       "      <td>0.00</td>\n",
       "      <td>0.00</td>\n",
       "      <td>0.00</td>\n",
       "      <td>...</td>\n",
       "      <td>-0.00</td>\n",
       "      <td>0.00</td>\n",
       "      <td>0.00</td>\n",
       "      <td>0.00</td>\n",
       "      <td>0.00</td>\n",
       "      <td>0.00</td>\n",
       "      <td>-0.00</td>\n",
       "      <td>0.00</td>\n",
       "      <td>-0.00</td>\n",
       "      <td>0.00</td>\n",
       "    </tr>\n",
       "    <tr>\n",
       "      <th>A11617B1NW474D</th>\n",
       "      <td>0.00</td>\n",
       "      <td>0.00</td>\n",
       "      <td>0.00</td>\n",
       "      <td>-0.00</td>\n",
       "      <td>0.00</td>\n",
       "      <td>0.00</td>\n",
       "      <td>0.00</td>\n",
       "      <td>0.00</td>\n",
       "      <td>0.00</td>\n",
       "      <td>-0.00</td>\n",
       "      <td>...</td>\n",
       "      <td>0.00</td>\n",
       "      <td>0.00</td>\n",
       "      <td>0.00</td>\n",
       "      <td>0.00</td>\n",
       "      <td>0.00</td>\n",
       "      <td>0.00</td>\n",
       "      <td>-0.00</td>\n",
       "      <td>0.00</td>\n",
       "      <td>-0.00</td>\n",
       "      <td>0.00</td>\n",
       "    </tr>\n",
       "    <tr>\n",
       "      <th>A11D1KHM7DVOQK</th>\n",
       "      <td>-0.00</td>\n",
       "      <td>-0.00</td>\n",
       "      <td>-0.00</td>\n",
       "      <td>0.00</td>\n",
       "      <td>-0.00</td>\n",
       "      <td>-0.00</td>\n",
       "      <td>-0.00</td>\n",
       "      <td>-0.00</td>\n",
       "      <td>0.00</td>\n",
       "      <td>0.00</td>\n",
       "      <td>...</td>\n",
       "      <td>0.00</td>\n",
       "      <td>0.00</td>\n",
       "      <td>0.00</td>\n",
       "      <td>0.00</td>\n",
       "      <td>0.00</td>\n",
       "      <td>0.00</td>\n",
       "      <td>0.00</td>\n",
       "      <td>0.00</td>\n",
       "      <td>0.00</td>\n",
       "      <td>0.00</td>\n",
       "    </tr>\n",
       "  </tbody>\n",
       "</table>\n",
       "<p>8 rows × 782 columns</p>\n",
       "</div>"
      ],
      "text/plain": [
       "ProductID       594017343  594017580  594033926  594296420  594450705  \\\n",
       "UserID                                                                  \n",
       "A105R38CAPDBGU       0.00       0.00      -0.00      -0.00       0.00   \n",
       "A10CMI5RR4XDIV      -0.00      -0.00      -0.00       0.00      -0.00   \n",
       "A10DIDVYDN2Q5Z      -0.00      -0.00      -0.00      -0.00      -0.00   \n",
       "A10P0BX64HLW7H      -0.00      -0.00      -0.00       0.00      -0.00   \n",
       "A10SRJNBFF2BGY      -0.00      -0.00       0.00       0.00      -0.00   \n",
       "A10T43ROKRQALT      -0.00      -0.00      -0.00      -0.00      -0.00   \n",
       "A11617B1NW474D       0.00       0.00       0.00      -0.00       0.00   \n",
       "A11D1KHM7DVOQK      -0.00      -0.00      -0.00       0.00      -0.00   \n",
       "\n",
       "ProductID       594451647  594477670  970407998  972683275  979526191  ...  \\\n",
       "UserID                                                                 ...   \n",
       "A105R38CAPDBGU      -0.00       0.00       0.00      -0.00       0.00  ...   \n",
       "A10CMI5RR4XDIV       0.00      -0.00      -0.00      -0.00       0.01  ...   \n",
       "A10DIDVYDN2Q5Z       0.00      -0.00      -0.00      -0.00       0.00  ...   \n",
       "A10P0BX64HLW7H      -0.00      -0.00      -0.00       0.01       0.00  ...   \n",
       "A10SRJNBFF2BGY      -0.00      -0.00       0.00       0.02      -0.00  ...   \n",
       "A10T43ROKRQALT      -0.00       0.00       0.00       0.00       0.00  ...   \n",
       "A11617B1NW474D       0.00       0.00       0.00       0.00      -0.00  ...   \n",
       "A11D1KHM7DVOQK      -0.00      -0.00      -0.00       0.00       0.00  ...   \n",
       "\n",
       "ProductID       B00002EQBT  B00002EQBU  B00002EQBW  B00002EQBZ  B00002EQC2  \\\n",
       "UserID                                                                       \n",
       "A105R38CAPDBGU       -0.00        0.00        0.00        0.00       -0.00   \n",
       "A10CMI5RR4XDIV       -0.00        0.00        0.00        0.00        0.00   \n",
       "A10DIDVYDN2Q5Z       -0.00        0.00        0.00        0.00        0.00   \n",
       "A10P0BX64HLW7H        0.00        0.00        0.00        0.00        0.00   \n",
       "A10SRJNBFF2BGY       -0.00        0.00       -0.00       -0.00        0.00   \n",
       "A10T43ROKRQALT       -0.00        0.00        0.00        0.00        0.00   \n",
       "A11617B1NW474D        0.00        0.00        0.00        0.00        0.00   \n",
       "A11D1KHM7DVOQK        0.00        0.00        0.00        0.00        0.00   \n",
       "\n",
       "ProductID       B00002EQCD  B00002EQCF  B00002EQCG  B00002EQCS  B00002EQCW  \n",
       "UserID                                                                      \n",
       "A105R38CAPDBGU        0.00       -0.00        0.00       -0.00        0.00  \n",
       "A10CMI5RR4XDIV        0.00       -0.00        0.00        0.00        0.00  \n",
       "A10DIDVYDN2Q5Z        0.00       -0.00        0.00        0.00        0.00  \n",
       "A10P0BX64HLW7H        0.00        0.00        0.00        0.00        0.00  \n",
       "A10SRJNBFF2BGY       -0.00        0.00       -0.00        0.00        0.00  \n",
       "A10T43ROKRQALT        0.00       -0.00        0.00       -0.00        0.00  \n",
       "A11617B1NW474D        0.00       -0.00        0.00       -0.00        0.00  \n",
       "A11D1KHM7DVOQK        0.00        0.00        0.00        0.00        0.00  \n",
       "\n",
       "[8 rows x 782 columns]"
      ]
     },
     "execution_count": 40,
     "metadata": {},
     "output_type": "execute_result"
    }
   ],
   "source": [
    "# Matrix Factorization Method-->Singular Value Decomposition(SVD)\n",
    "U, sigma, Vt = svds(ratings_item, k = 10)\n",
    "sigma = np.diag(sigma)\n",
    "\n",
    "all_user_predicted_ratings = np.dot(np.dot(U, sigma), Vt)\n",
    "preds_df = pd.DataFrame(all_user_predicted_ratings, columns = ratings_item.columns, index = ratings_item.index) \n",
    "#predicted ratings\n",
    "preds_df.head(8)"
   ]
  },
  {
   "cell_type": "code",
   "execution_count": 34,
   "metadata": {},
   "outputs": [
    {
     "name": "stdout",
     "output_type": "stream",
     "text": [
      "Creating a function to recommend products with highest predicted ratings\n",
      "------------------------------------------------------------\n"
     ]
    }
   ],
   "source": [
    "# Product Recommendation with highest predicted ratings\n",
    "print('Creating a function to recommend products with highest predicted ratings'); print('--'*30)\n",
    "def recommend_items(user_id, ratings_item, preds_df, num_recommendations = 5):\n",
    "    try:\n",
    "        print('User has already rated products (from data in training set): {}'.format(train_data.loc[(train_data['UserID'] == user_id), 'ProductID'].nunique()))\n",
    "        print('Top 5 products from what\\'s already being rated: {}'.format(list(train_data[(train_data['UserID'] == user_id)].sort_values(by = 'Rating', ascending = False).head(5)['ProductID'])))\n",
    "    except:\n",
    "      print('There\\'s no data for the selected user in training set')\n",
    "    sorted_user_ratings = ratings_item.loc[user_id].sort_values(ascending = False)\n",
    "    \n",
    "    sorted_user_predictions = preds_df.loc[user_id].sort_values(ascending = False)\n",
    "    temp = pd.concat([sorted_user_ratings, sorted_user_predictions], axis = 1)\n",
    "    temp.index.name = 'Recommended Items'\n",
    "    temp.columns = ['user_ratings', 'user_predictions']\n",
    "    \n",
    "    temp = temp.loc[temp.user_ratings == 0]\n",
    "    temp = temp.sort_values('user_predictions', ascending = False)\n",
    "    print('\\nTop 5 recommendations for the user based on item-based collaborative filtering method')\n",
    "    display(temp.head(num_recommendations))\n",
    "    return temp.head(num_recommendations).index.tolist()"
   ]
  },
  {
   "cell_type": "markdown",
   "metadata": {},
   "source": [
    "# 7. Get top - K ( K = 5) recommendations. Since our goal is to recommend new products to each user based on his/her habits, we will recommend 5 new products."
   ]
  },
  {
   "cell_type": "code",
   "execution_count": 41,
   "metadata": {},
   "outputs": [
    {
     "name": "stdout",
     "output_type": "stream",
     "text": [
      "Get top - K ( K = 5) recommendations.\n",
      "Our Objective is to recommend new products to each user based on his/her habits, we will recommend 5 new products.\n",
      "------------------------------------------------------------\n",
      "\n",
      "Make recommendation for the user id selected from the testset = \"A10DIDVYDN2Q5Z\"\n",
      "User has already rated products (from data in training set): 3\n",
      "Top 5 products from what's already being rated: ['B00001U0SI', 'B00001P4ZR', 'B00002EIVE']\n",
      "\n",
      "Top 5 recommendations for the user based on item-based collaborative filtering method\n"
     ]
    },
    {
     "data": {
      "text/html": [
       "<div>\n",
       "<style scoped>\n",
       "    .dataframe tbody tr th:only-of-type {\n",
       "        vertical-align: middle;\n",
       "    }\n",
       "\n",
       "    .dataframe tbody tr th {\n",
       "        vertical-align: top;\n",
       "    }\n",
       "\n",
       "    .dataframe thead th {\n",
       "        text-align: right;\n",
       "    }\n",
       "</style>\n",
       "<table border=\"1\" class=\"dataframe\">\n",
       "  <thead>\n",
       "    <tr style=\"text-align: right;\">\n",
       "      <th></th>\n",
       "      <th>user_ratings</th>\n",
       "      <th>user_predictions</th>\n",
       "    </tr>\n",
       "    <tr>\n",
       "      <th>Recommended Items</th>\n",
       "      <th></th>\n",
       "      <th></th>\n",
       "    </tr>\n",
       "  </thead>\n",
       "  <tbody>\n",
       "    <tr>\n",
       "      <th>B00000JSGF</th>\n",
       "      <td>0.00</td>\n",
       "      <td>0.44</td>\n",
       "    </tr>\n",
       "    <tr>\n",
       "      <th>B00001P4ZH</th>\n",
       "      <td>0.00</td>\n",
       "      <td>0.21</td>\n",
       "    </tr>\n",
       "    <tr>\n",
       "      <th>B000023VUL</th>\n",
       "      <td>0.00</td>\n",
       "      <td>0.17</td>\n",
       "    </tr>\n",
       "    <tr>\n",
       "      <th>B00000J061</th>\n",
       "      <td>0.00</td>\n",
       "      <td>0.15</td>\n",
       "    </tr>\n",
       "    <tr>\n",
       "      <th>B00001W0DI</th>\n",
       "      <td>0.00</td>\n",
       "      <td>0.13</td>\n",
       "    </tr>\n",
       "  </tbody>\n",
       "</table>\n",
       "</div>"
      ],
      "text/plain": [
       "                   user_ratings  user_predictions\n",
       "Recommended Items                                \n",
       "B00000JSGF                 0.00              0.44\n",
       "B00001P4ZH                 0.00              0.21\n",
       "B000023VUL                 0.00              0.17\n",
       "B00000J061                 0.00              0.15\n",
       "B00001W0DI                 0.00              0.13"
      ]
     },
     "metadata": {},
     "output_type": "display_data"
    },
    {
     "name": "stdout",
     "output_type": "stream",
     "text": [
      "\n",
      "\n",
      "Make recommendation for the user id selected from the testset = \"A11617B1NW474D\"\n",
      "User has already rated products (from data in training set): 2\n",
      "Top 5 products from what's already being rated: ['B00000JHWX', 'B00000JFMH']\n",
      "\n",
      "Top 5 recommendations for the user based on item-based collaborative filtering method\n"
     ]
    },
    {
     "data": {
      "text/html": [
       "<div>\n",
       "<style scoped>\n",
       "    .dataframe tbody tr th:only-of-type {\n",
       "        vertical-align: middle;\n",
       "    }\n",
       "\n",
       "    .dataframe tbody tr th {\n",
       "        vertical-align: top;\n",
       "    }\n",
       "\n",
       "    .dataframe thead th {\n",
       "        text-align: right;\n",
       "    }\n",
       "</style>\n",
       "<table border=\"1\" class=\"dataframe\">\n",
       "  <thead>\n",
       "    <tr style=\"text-align: right;\">\n",
       "      <th></th>\n",
       "      <th>user_ratings</th>\n",
       "      <th>user_predictions</th>\n",
       "    </tr>\n",
       "    <tr>\n",
       "      <th>Recommended Items</th>\n",
       "      <th></th>\n",
       "      <th></th>\n",
       "    </tr>\n",
       "  </thead>\n",
       "  <tbody>\n",
       "    <tr>\n",
       "      <th>B00000JSGF</th>\n",
       "      <td>0.00</td>\n",
       "      <td>0.03</td>\n",
       "    </tr>\n",
       "    <tr>\n",
       "      <th>B00001P4XH</th>\n",
       "      <td>0.00</td>\n",
       "      <td>0.03</td>\n",
       "    </tr>\n",
       "    <tr>\n",
       "      <th>B000023VUL</th>\n",
       "      <td>0.00</td>\n",
       "      <td>0.01</td>\n",
       "    </tr>\n",
       "    <tr>\n",
       "      <th>B00001W0DI</th>\n",
       "      <td>0.00</td>\n",
       "      <td>0.01</td>\n",
       "    </tr>\n",
       "    <tr>\n",
       "      <th>B00000J061</th>\n",
       "      <td>0.00</td>\n",
       "      <td>0.01</td>\n",
       "    </tr>\n",
       "  </tbody>\n",
       "</table>\n",
       "</div>"
      ],
      "text/plain": [
       "                   user_ratings  user_predictions\n",
       "Recommended Items                                \n",
       "B00000JSGF                 0.00              0.03\n",
       "B00001P4XH                 0.00              0.03\n",
       "B000023VUL                 0.00              0.01\n",
       "B00001W0DI                 0.00              0.01\n",
       "B00000J061                 0.00              0.01"
      ]
     },
     "metadata": {},
     "output_type": "display_data"
    }
   ],
   "source": [
    "print('Get top - K ( K = 5) recommendations.')\n",
    "print('Our Objective is to recommend new products to each user based on his/her habits, we will recommend 5 new products.'); print('--'*30)\n",
    "result = {}\n",
    "\n",
    "user_id = \"A10DIDVYDN2Q5Z\"\n",
    "print(f'\\nMake recommendation for the user id selected from the testset = \"{user_id}\"')\n",
    "result[user_id] = recommend_items(user_id, ratings_item, preds_df)\n",
    "\n",
    "user_id = \"A11617B1NW474D\"\n",
    "print(f'\\n\\nMake recommendation for the user id selected from the testset = \"{user_id}\"')\n",
    "result[user_id] = recommend_items(user_id, ratings_item, preds_df)"
   ]
  },
  {
   "cell_type": "code",
   "execution_count": 42,
   "metadata": {},
   "outputs": [],
   "source": [
    "compare_dict['SVD Item-based Collaborative Filtering'] = result"
   ]
  },
  {
   "cell_type": "markdown",
   "metadata": {},
   "source": [
    "# 6. Evaluate the above model. ( Once the model is trained on the training data, it can be used to compute the error (like RMSE) on predictions made on the testdata.) You can also use a different method to evaluate the models. "
   ]
  },
  {
   "cell_type": "code",
   "execution_count": 43,
   "metadata": {},
   "outputs": [
    {
     "name": "stdout",
     "output_type": "stream",
     "text": [
      "Evaluating SVD for Item-based Collaborative Filtering using RMSE\n",
      "------------------------------------------------------------\n",
      "RMSE OF ITEM BASED COLLABORATIVE FILTERING USING MATRIX FACTORIZATION METHOD (SVD): 0.0103\n"
     ]
    }
   ],
   "source": [
    "print('Evaluating SVD for Item-based Collaborative Filtering using RMSE'); print('--'*30)\n",
    "rmse_df = pd.concat([ratings_item.mean(), preds_df.mean()], axis = 1)\n",
    "rmse_df.columns = ['Avg_actual_ratings', 'Avg_predicted_ratings']\n",
    "RMSE = round((((rmse_df['Avg_actual_ratings'] - rmse_df['Avg_predicted_ratings']) ** 2).mean() ** 0.5), 4)\n",
    "print('RMSE OF ITEM BASED COLLABORATIVE FILTERING USING MATRIX FACTORIZATION METHOD (SVD): {}'.format(RMSE))"
   ]
  },
  {
   "cell_type": "code",
   "execution_count": null,
   "metadata": {},
   "outputs": [],
   "source": [
    "Item Based Collaborative Filtering using MATRIX FACTORIZATION METHOD (SVD)\n",
    "\n",
    "Evaluated SVD for item-based collaborative filtering and RMSE of SVD model 0.0103."
   ]
  },
  {
   "cell_type": "code",
   "execution_count": 45,
   "metadata": {},
   "outputs": [],
   "source": [
    "del (RMSE, U, sigma, Vt, all_user_predicted_ratings, given_num_of_ratings, possible_num_of_ratings, result, rmse_df, \n",
    "     density, preds_df, recommend_items, user_id)"
   ]
  },
  {
   "cell_type": "markdown",
   "metadata": {},
   "source": [
    "# Product Similarity based on Sklearn Nearest Neighbor (KNN Method)"
   ]
  },
  {
   "cell_type": "code",
   "execution_count": 46,
   "metadata": {},
   "outputs": [],
   "source": [
    "# For Sklearn NearestNeighbor based recommendation\n",
    "from sklearn.metrics import pairwise_distances, mean_squared_error\n",
    "from scipy.spatial.distance import correlation, cosine\n",
    "from sklearn.neighbors import NearestNeighbors\n",
    "from scipy.sparse import csr_matrix\n",
    "import sklearn.metrics as metrics"
   ]
  },
  {
   "cell_type": "code",
   "execution_count": 47,
   "metadata": {},
   "outputs": [
    {
     "name": "stdout",
     "output_type": "stream",
     "text": [
      "Product similarity based on Sklearn Nearest Neighbor\n",
      "------------------------------------------------------------\n",
      "Recommendations for B00000JDH5:\n",
      "\n",
      "1: B00001X5C6, with distance of 0.600956557766189:\n",
      "2: B00000JBHA, with distance of 0.600956557766189:\n",
      "3: B00000J57A, with distance of 0.6807652462129512:\n",
      "4: B00000JBB8, with distance of 0.6807652462129512:\n",
      "5: B00001P4PL, with distance of 0.6883994223468353:\n"
     ]
    }
   ],
   "source": [
    "print('Product similarity based on Sklearn Nearest Neighbor'); print('--'*30)\n",
    "k = 5\n",
    "df_knn = ratings.pivot(index = 'ProductID', columns = 'UserID', values = 'Rating').fillna(0)\n",
    "df_knn_matrix = csr_matrix(df_knn.values)\n",
    "\n",
    "model_knn = NearestNeighbors(metric = 'cosine', algorithm = 'brute', n_neighbors = k)\n",
    "model_knn.fit(df_knn_matrix)\n",
    "\n",
    "query_item = np.random.choice(df_knn.shape[0])\n",
    "query_user = np.random.choice(df_knn.shape[1])\n",
    "distances, indices = model_knn.kneighbors(df_knn.iloc[query_item, :].values.reshape(1, -1), n_neighbors = k+1)\n",
    "\n",
    "for i in range(0, len(distances.flatten())):\n",
    "  if i == 0:\n",
    "    print('Recommendations for {0}:\\n'.format(df_knn.index[query_item]))\n",
    "  else:\n",
    "    print('{0}: {1}, with distance of {2}:'.format(i, df_knn.index[indices.flatten()[i]], distances.flatten()[i]))"
   ]
  },
  {
   "cell_type": "markdown",
   "metadata": {},
   "source": [
    "# Item based Collaborative Filtering Model using KNN Method"
   ]
  },
  {
   "cell_type": "code",
   "execution_count": 48,
   "metadata": {},
   "outputs": [
    {
     "name": "stdout",
     "output_type": "stream",
     "text": [
      "Framing the trainset and testset ready for Product Recommendation system\n",
      "--------------------------------------------------------------------------------\n"
     ]
    }
   ],
   "source": [
    "print('Framing the trainset and testset ready for Product Recommendation system'); print('--'*40)\n",
    "reader = Reader(rating_scale = (0, 5))\n",
    "data = Dataset.load_from_df(ratings[['UserID', 'ProductID', 'Rating']], reader)\n",
    "trainset = Dataset.load_from_df(train_data[['UserID', 'ProductID', 'Rating']], reader); \n",
    "testset = Dataset.load_from_df(test_data[['UserID', 'ProductID', 'Rating']], reader);"
   ]
  },
  {
   "cell_type": "code",
   "execution_count": 49,
   "metadata": {},
   "outputs": [
    {
     "name": "stdout",
     "output_type": "stream",
     "text": [
      "ITEM BASED COLLABORATIVE FILTERING USING KNN Method\n",
      "Grid Search across parameter grid to find best parameters using KNNBasic algorithm\n",
      "--------------------------------------------------------------------------------\n",
      "1.2314574494242996\n",
      "{'k': 3, 'sim_options': {'name': 'cosine', 'user_based': False}, 'verbose': False}\n"
     ]
    }
   ],
   "source": [
    "print('ITEM BASED COLLABORATIVE FILTERING USING KNN Method')\n",
    "print('Grid Search across parameter grid to find best parameters using KNNBasic algorithm'); print('--'*40)\n",
    "param_grid_KNNBasic = {'k': [3, 5, 10], 'sim_options': {'name': ['pearson_baseline', 'cosine'], 'user_based': [False]}, 'verbose': [False]}\n",
    "\n",
    "gs_KNNBasic = GridSearchCV(KNNBasic, param_grid_KNNBasic, measures = ['rmse', 'mae'], cv = 5)\n",
    "gs_KNNBasic.fit(trainset)\n",
    "print(gs_KNNBasic.best_score['rmse'])\n",
    "print(gs_KNNBasic.best_params['rmse'])"
   ]
  },
  {
   "cell_type": "code",
   "execution_count": 50,
   "metadata": {},
   "outputs": [
    {
     "name": "stdout",
     "output_type": "stream",
     "text": [
      "Grid Search across parameter grid to find best parameters using KNNWithMeans algorithm\n",
      "--------------------------------------------------------------------------------\n",
      "1.2736949514114548\n",
      "{'k': 3, 'sim_options': {'name': 'cosine', 'user_based': False}, 'verbose': False}\n"
     ]
    }
   ],
   "source": [
    "print('Grid Search across parameter grid to find best parameters using KNNWithMeans algorithm'); print('--'*40)\n",
    "param_grid_KNNWithMeans = {'k': [3, 5, 10], 'sim_options': {'name': ['pearson_baseline', 'cosine'], 'user_based': [False]}, 'verbose': [False]}\n",
    "\n",
    "gs_KNNWithMeans = GridSearchCV(KNNWithMeans, param_grid_KNNWithMeans, measures = ['rmse', 'mae'], cv = 5)\n",
    "gs_KNNWithMeans.fit(trainset)\n",
    "print(gs_KNNWithMeans.best_score['rmse'])\n",
    "print(gs_KNNWithMeans.best_params['rmse'])"
   ]
  },
  {
   "cell_type": "code",
   "execution_count": 51,
   "metadata": {},
   "outputs": [
    {
     "name": "stdout",
     "output_type": "stream",
     "text": [
      "Grid Search across parameter grid to find best parameters using KNNWithZScore algorithm\n",
      "--------------------------------------------------------------------------------\n",
      "1.31579098562645\n",
      "{'k': 3, 'sim_options': {'name': 'cosine', 'user_based': False}, 'verbose': False}\n"
     ]
    }
   ],
   "source": [
    "print('Grid Search across parameter grid to find best parameters using KNNWithZScore algorithm'); print('--'*40)\n",
    "param_grid_KNNWithZScore = {'k': [3, 5, 10], 'sim_options': {'name': ['pearson_baseline', 'cosine'], 'user_based': [False]}, 'verbose': [False]}\n",
    "\n",
    "gs_KNNWithZScore = GridSearchCV(KNNWithZScore, param_grid_KNNWithZScore, measures = ['rmse', 'mae'], cv = 5)\n",
    "gs_KNNWithZScore.fit(trainset)\n",
    "print(gs_KNNWithZScore.best_score['rmse'])\n",
    "print(gs_KNNWithZScore.best_params['rmse'])"
   ]
  },
  {
   "cell_type": "code",
   "execution_count": 52,
   "metadata": {},
   "outputs": [
    {
     "name": "stdout",
     "output_type": "stream",
     "text": [
      "Grid Search across parameter grid to find best parameters using KNNBaseline algorithm\n",
      "--------------------------------------------------------------------------------\n",
      "1.2019252308845023\n",
      "{'bsl_options': {'method': 'sgd', 'reg': 1}, 'k': 2, 'sim_options': {'name': 'cosine', 'user_based': False}, 'verbose': False}\n"
     ]
    }
   ],
   "source": [
    "print('Grid Search across parameter grid to find best parameters using KNNBaseline algorithm'); print('--'*40)\n",
    "param_grid_KNNBaseline = {'bsl_options': {'method': ['als', 'sgd'], 'reg': [1, 2]}, 'k': [2, 3, 5], \n",
    "                          'sim_options': {'name': ['pearson_baseline', 'cosine'], 'user_based': [False]},\n",
    "                          'verbose': [False]}\n",
    "\n",
    "gs_KNNBaseline = GridSearchCV(KNNBaseline, param_grid_KNNBaseline, measures = ['rmse', 'mae'], cv = 5)\n",
    "gs_KNNBaseline.fit(trainset)\n",
    "print(gs_KNNBaseline.best_score['rmse'])\n",
    "print(gs_KNNBaseline.best_params['rmse'])"
   ]
  },
  {
   "cell_type": "code",
   "execution_count": 53,
   "metadata": {},
   "outputs": [],
   "source": [
    "del param_grid_KNNBasic, param_grid_KNNWithMeans, param_grid_KNNWithZScore, gs_KNNBasic, gs_KNNWithMeans, gs_KNNWithZScore"
   ]
  },
  {
   "cell_type": "markdown",
   "metadata": {},
   "source": [
    "Evaluated Different KNN inspired algorithms for item-based collaborative filtering. \n",
    "\n",
    "k-fold cross-validate KNNBaseline algorithm using the best parameters, to see if there's any improvement in the RMSE."
   ]
  },
  {
   "cell_type": "code",
   "execution_count": 54,
   "metadata": {},
   "outputs": [
    {
     "name": "stdout",
     "output_type": "stream",
     "text": [
      "2-Fold cross validation using KNNBaseline and with best parameters identified during grid search\n",
      "--------------------------------------------------------------------------------\n",
      "RMSE: 1.1940\n",
      "RMSE: 1.2554\n",
      "--------------------------------------------------------------------------------\n",
      "RMSE OF ITEM BASED COLLABORATIVE FILTERING USING k-NN INSPIRED ALGORITHM AND 2-FOLD CROSS VALIDATION 1.2247\n"
     ]
    }
   ],
   "source": [
    "print('2-Fold cross validation using KNNBaseline and with best parameters identified during grid search'); print('--'*40)\n",
    "kf = KFold(n_splits = 2)\n",
    "algo = KNNBaseline(**gs_KNNBaseline.best_params['rmse'])\n",
    "rmse_scores = []\n",
    "\n",
    "for train_, test_ in kf.split(data):\n",
    "    algo.fit(train_)\n",
    "    predictions = algo.test(test_)\n",
    "    rmse = round(accuracy.rmse(predictions, verbose = True), 4)\n",
    "    rmse_scores.append(rmse)\n",
    "\n",
    "    dump.dump('./dump_KNNBaseline_Item', predictions, algo)\n",
    "\n",
    "print('--'*40)\n",
    "print(f'RMSE OF ITEM BASED COLLABORATIVE FILTERING USING k-NN INSPIRED ALGORITHM AND 2-FOLD CROSS VALIDATION {round(np.mean(rmse_scores), 4)}')"
   ]
  },
  {
   "cell_type": "code",
   "execution_count": 59,
   "metadata": {},
   "outputs": [
    {
     "data": {
      "text/html": [
       "<div>\n",
       "<style scoped>\n",
       "    .dataframe tbody tr th:only-of-type {\n",
       "        vertical-align: middle;\n",
       "    }\n",
       "\n",
       "    .dataframe tbody tr th {\n",
       "        vertical-align: top;\n",
       "    }\n",
       "\n",
       "    .dataframe thead th {\n",
       "        text-align: right;\n",
       "    }\n",
       "</style>\n",
       "<table border=\"1\" class=\"dataframe\">\n",
       "  <thead>\n",
       "    <tr style=\"text-align: right;\">\n",
       "      <th></th>\n",
       "      <th>UserID</th>\n",
       "      <th>ProductID</th>\n",
       "      <th>ActualRating</th>\n",
       "      <th>EstRating</th>\n",
       "      <th>Details</th>\n",
       "      <th>Error</th>\n",
       "    </tr>\n",
       "  </thead>\n",
       "  <tbody>\n",
       "    <tr>\n",
       "      <th>744</th>\n",
       "      <td>A2R567Q24E6AW5</td>\n",
       "      <td>B00000J1V5</td>\n",
       "      <td>5.00</td>\n",
       "      <td>5.00</td>\n",
       "      <td>{'actual_k': 1, 'was_impossible': False}</td>\n",
       "      <td>0.00</td>\n",
       "    </tr>\n",
       "    <tr>\n",
       "      <th>504</th>\n",
       "      <td>AR52CXOX54AW6</td>\n",
       "      <td>B00001P505</td>\n",
       "      <td>5.00</td>\n",
       "      <td>5.00</td>\n",
       "      <td>{'actual_k': 1, 'was_impossible': False}</td>\n",
       "      <td>0.00</td>\n",
       "    </tr>\n",
       "    <tr>\n",
       "      <th>502</th>\n",
       "      <td>A2OKCS5234ZV7S</td>\n",
       "      <td>1400599997</td>\n",
       "      <td>5.00</td>\n",
       "      <td>5.00</td>\n",
       "      <td>{'actual_k': 1, 'was_impossible': False}</td>\n",
       "      <td>0.00</td>\n",
       "    </tr>\n",
       "    <tr>\n",
       "      <th>497</th>\n",
       "      <td>A2IMLPUXYQJTSY</td>\n",
       "      <td>B00000J4FS</td>\n",
       "      <td>5.00</td>\n",
       "      <td>5.00</td>\n",
       "      <td>{'actual_k': 1, 'was_impossible': False}</td>\n",
       "      <td>0.00</td>\n",
       "    </tr>\n",
       "    <tr>\n",
       "      <th>721</th>\n",
       "      <td>APV4CA1BTAGQ3</td>\n",
       "      <td>B00001P505</td>\n",
       "      <td>5.00</td>\n",
       "      <td>5.00</td>\n",
       "      <td>{'actual_k': 1, 'was_impossible': False}</td>\n",
       "      <td>0.00</td>\n",
       "    </tr>\n",
       "    <tr>\n",
       "      <th>689</th>\n",
       "      <td>A2H9S6PTI94ELV</td>\n",
       "      <td>B00000J1V5</td>\n",
       "      <td>5.00</td>\n",
       "      <td>5.00</td>\n",
       "      <td>{'actual_k': 1, 'was_impossible': False}</td>\n",
       "      <td>0.00</td>\n",
       "    </tr>\n",
       "    <tr>\n",
       "      <th>98</th>\n",
       "      <td>A3GZQJZLSMETLI</td>\n",
       "      <td>B00000K13L</td>\n",
       "      <td>5.00</td>\n",
       "      <td>5.00</td>\n",
       "      <td>{'actual_k': 1, 'was_impossible': False}</td>\n",
       "      <td>0.00</td>\n",
       "    </tr>\n",
       "    <tr>\n",
       "      <th>1072</th>\n",
       "      <td>A14JBDSWKPKTZA</td>\n",
       "      <td>B00000J1V5</td>\n",
       "      <td>5.00</td>\n",
       "      <td>5.00</td>\n",
       "      <td>{'actual_k': 1, 'was_impossible': False}</td>\n",
       "      <td>0.00</td>\n",
       "    </tr>\n",
       "  </tbody>\n",
       "</table>\n",
       "</div>"
      ],
      "text/plain": [
       "              UserID   ProductID  ActualRating  EstRating  \\\n",
       "744   A2R567Q24E6AW5  B00000J1V5          5.00       5.00   \n",
       "504    AR52CXOX54AW6  B00001P505          5.00       5.00   \n",
       "502   A2OKCS5234ZV7S  1400599997          5.00       5.00   \n",
       "497   A2IMLPUXYQJTSY  B00000J4FS          5.00       5.00   \n",
       "721    APV4CA1BTAGQ3  B00001P505          5.00       5.00   \n",
       "689   A2H9S6PTI94ELV  B00000J1V5          5.00       5.00   \n",
       "98    A3GZQJZLSMETLI  B00000K13L          5.00       5.00   \n",
       "1072  A14JBDSWKPKTZA  B00000J1V5          5.00       5.00   \n",
       "\n",
       "                                       Details  Error  \n",
       "744   {'actual_k': 1, 'was_impossible': False}   0.00  \n",
       "504   {'actual_k': 1, 'was_impossible': False}   0.00  \n",
       "502   {'actual_k': 1, 'was_impossible': False}   0.00  \n",
       "497   {'actual_k': 1, 'was_impossible': False}   0.00  \n",
       "721   {'actual_k': 1, 'was_impossible': False}   0.00  \n",
       "689   {'actual_k': 1, 'was_impossible': False}   0.00  \n",
       "98    {'actual_k': 1, 'was_impossible': False}   0.00  \n",
       "1072  {'actual_k': 1, 'was_impossible': False}   0.00  "
      ]
     },
     "metadata": {},
     "output_type": "display_data"
    }
   ],
   "source": [
    "predictions, algo = dump.load('./dump_KNNBaseline_Item')\n",
    "df_user = pd.DataFrame(predictions, columns = ['UserID', 'ProductID', 'ActualRating', 'EstRating', 'Details'])\n",
    "df_user['Error'] = abs(df_user['EstRating'] - df_user['ActualRating'])\n",
    "df_user.sort_values('Error', inplace = True, ascending = True)\n",
    "\n",
    "display(df_user.head(8))"
   ]
  },
  {
   "cell_type": "code",
   "execution_count": 56,
   "metadata": {},
   "outputs": [
    {
     "name": "stdout",
     "output_type": "stream",
     "text": [
      "Actual vs Prediction Comparison\n",
      "------------------------------------------------------------\n"
     ]
    },
    {
     "data": {
      "image/png": "[encoded data removed]",
      "text/plain": [
       "<Figure size 1080x518.4 with 1 Axes>"
      ]
     },
     "metadata": {
      "needs_background": "light"
     },
     "output_type": "display_data"
    }
   ],
   "source": [
    "# Actual vs Prediction Comparison\n",
    "print('Actual vs Prediction Comparison'); print('--'*30)\n",
    "\n",
    "fig, ax = plt.subplots(figsize = (15, 7.2))\n",
    "fig.suptitle('Actual vs Prediction Comparison', fontsize = 14)\n",
    "df_user['EstRating'].plot.hist(bins = 25, alpha = 0.8)\n",
    "df_user['ActualRating'].plot.hist(bins = 25, alpha = 0.8)\n",
    "ax.legend(['Predictions', 'Actual'])\n",
    "plt.show()"
   ]
  },
  {
   "cell_type": "code",
   "execution_count": 69,
   "metadata": {},
   "outputs": [
    {
     "name": "stdout",
     "output_type": "stream",
     "text": [
      "Get top - K ( K = 5) recommendations.\n",
      "Since our goal is to recommend new products to each user based on his/her habits, we will recommend 5 new products.\n",
      "--------------------------------------------------------------------------------\n",
      "A check on what has the user liked in past (based on data available in training set, if there is) and making recommendations\n",
      "-------------------------------------------------------------------------------- \n",
      "\n",
      "User \"A2IMLPUXYQJTSY\" has already rated products (from data in training set): 2\n",
      "Top products from what's already being rated: ['B00000J434', 'B00000JFMK']\n",
      "Top  recommendations for the user are: ['B00000J4FS', 'B00000JFMK']\n",
      "\n",
      "\n",
      "User \"A14JBDSWKPKTZA\" has already rated products (from data in training set): 4\n",
      "Top products from what's already being rated: ['B00000J1V5', 'B00000JDF5', 'B00000J1V1', 'B00000J3UH']\n",
      "Top  recommendations for the user are: ['B00000J1V5', 'B00000JDF5', 'B00000J1V1', 'B00001ZWXA']\n"
     ]
    }
   ],
   "source": [
    "# Query top 5 recommendations for specific UserID\n",
    "print('Get top - K ( K = 5) recommendations.')\n",
    "print('Since our goal is to recommend new products to each user based on his/her habits, we will recommend 5 new products.'); print('--'*40)\n",
    "result = {}\n",
    "\n",
    "def query_user(user_id):\n",
    "  try:\n",
    "    print('User \"{}\" has already rated products (from data in training set): {}'.format(user_id, train_data.loc[(train_data['UserID'] == user_id), 'ProductID'].nunique()))\n",
    "    print('Top products from what\\'s already being rated: {}'.format(list(train_data[(train_data['UserID'] == user_id)].sort_values(by = 'Rating', ascending = False).head(5)['ProductID'])))\n",
    "  except:\n",
    "    print('There\\'s no data for the selected user in training set')\n",
    "  print('Top  recommendations for the user are: {}'.format(list(df_user[(df_user['UserID'] == user_id)].sort_values(by = 'EstRating', ascending = False).head(5)['ProductID'])))\n",
    "  return list(df_user[(df_user['UserID'] == user_id)].sort_values(by = 'EstRating', ascending = False).head(5)['ProductID'])\n",
    "\n",
    "# For e.g. querying for the following user\n",
    "print('A check on what has the user liked in past (based on data available in training set, if there is) and making recommendations');\n",
    "print('--'*40, '\\n')\n",
    "result['A2IMLPUXYQJTSY'] = query_user('A2IMLPUXYQJTSY')\n",
    "print('\\n')\n",
    "result['A14JBDSWKPKTZA'] = query_user('A14JBDSWKPKTZA')"
   ]
  },
  {
   "cell_type": "code",
   "execution_count": 70,
   "metadata": {},
   "outputs": [
    {
     "data": {
      "text/plain": [
       "{'SVD Item-based Collaborative Filtering': {'A10DIDVYDN2Q5Z': ['B00000JSGF',\n",
       "   'B00001P4ZH',\n",
       "   'B000023VUL',\n",
       "   'B00000J061',\n",
       "   'B00001W0DI'],\n",
       "  'A11617B1NW474D': ['B00000JSGF',\n",
       "   'B00001P4XH',\n",
       "   'B000023VUL',\n",
       "   'B00001W0DI',\n",
       "   'B00000J061']},\n",
       " 'k-NN Item-based Collaborative Filtering': {'A2IMLPUXYQJTSY': ['B00000J4FS',\n",
       "   'B00000JFMK'],\n",
       "  'A14JBDSWKPKTZA': ['B00000J1V5', 'B00000JDF5', 'B00000J1V1', 'B00001ZWXA']}}"
      ]
     },
     "metadata": {},
     "output_type": "display_data"
    }
   ],
   "source": [
    "compare_dict['k-NN Item-based Collaborative Filtering'] = result\n",
    "display(compare_dict)"
   ]
  },
  {
   "cell_type": "code",
   "execution_count": 71,
   "metadata": {},
   "outputs": [
    {
     "data": {
      "text/html": [
       "<div>\n",
       "<style scoped>\n",
       "    .dataframe tbody tr th:only-of-type {\n",
       "        vertical-align: middle;\n",
       "    }\n",
       "\n",
       "    .dataframe tbody tr th {\n",
       "        vertical-align: top;\n",
       "    }\n",
       "\n",
       "    .dataframe thead th {\n",
       "        text-align: right;\n",
       "    }\n",
       "</style>\n",
       "<table border=\"1\" class=\"dataframe\">\n",
       "  <thead>\n",
       "    <tr style=\"text-align: right;\">\n",
       "      <th></th>\n",
       "      <th>UserID</th>\n",
       "      <th>ProductID</th>\n",
       "      <th>ActualRating</th>\n",
       "      <th>EstRating</th>\n",
       "      <th>Details</th>\n",
       "      <th>Error</th>\n",
       "    </tr>\n",
       "  </thead>\n",
       "  <tbody>\n",
       "    <tr>\n",
       "      <th>744</th>\n",
       "      <td>A2R567Q24E6AW5</td>\n",
       "      <td>B00000J1V5</td>\n",
       "      <td>5.00</td>\n",
       "      <td>5.00</td>\n",
       "      <td>{'actual_k': 1, 'was_impossible': False}</td>\n",
       "      <td>0.00</td>\n",
       "    </tr>\n",
       "    <tr>\n",
       "      <th>504</th>\n",
       "      <td>AR52CXOX54AW6</td>\n",
       "      <td>B00001P505</td>\n",
       "      <td>5.00</td>\n",
       "      <td>5.00</td>\n",
       "      <td>{'actual_k': 1, 'was_impossible': False}</td>\n",
       "      <td>0.00</td>\n",
       "    </tr>\n",
       "    <tr>\n",
       "      <th>502</th>\n",
       "      <td>A2OKCS5234ZV7S</td>\n",
       "      <td>1400599997</td>\n",
       "      <td>5.00</td>\n",
       "      <td>5.00</td>\n",
       "      <td>{'actual_k': 1, 'was_impossible': False}</td>\n",
       "      <td>0.00</td>\n",
       "    </tr>\n",
       "    <tr>\n",
       "      <th>497</th>\n",
       "      <td>A2IMLPUXYQJTSY</td>\n",
       "      <td>B00000J4FS</td>\n",
       "      <td>5.00</td>\n",
       "      <td>5.00</td>\n",
       "      <td>{'actual_k': 1, 'was_impossible': False}</td>\n",
       "      <td>0.00</td>\n",
       "    </tr>\n",
       "    <tr>\n",
       "      <th>721</th>\n",
       "      <td>APV4CA1BTAGQ3</td>\n",
       "      <td>B00001P505</td>\n",
       "      <td>5.00</td>\n",
       "      <td>5.00</td>\n",
       "      <td>{'actual_k': 1, 'was_impossible': False}</td>\n",
       "      <td>0.00</td>\n",
       "    </tr>\n",
       "  </tbody>\n",
       "</table>\n",
       "</div>"
      ],
      "text/plain": [
       "             UserID   ProductID  ActualRating  EstRating  \\\n",
       "744  A2R567Q24E6AW5  B00000J1V5          5.00       5.00   \n",
       "504   AR52CXOX54AW6  B00001P505          5.00       5.00   \n",
       "502  A2OKCS5234ZV7S  1400599997          5.00       5.00   \n",
       "497  A2IMLPUXYQJTSY  B00000J4FS          5.00       5.00   \n",
       "721   APV4CA1BTAGQ3  B00001P505          5.00       5.00   \n",
       "\n",
       "                                      Details  Error  \n",
       "744  {'actual_k': 1, 'was_impossible': False}   0.00  \n",
       "504  {'actual_k': 1, 'was_impossible': False}   0.00  \n",
       "502  {'actual_k': 1, 'was_impossible': False}   0.00  \n",
       "497  {'actual_k': 1, 'was_impossible': False}   0.00  \n",
       "721  {'actual_k': 1, 'was_impossible': False}   0.00  "
      ]
     },
     "execution_count": 71,
     "metadata": {},
     "output_type": "execute_result"
    }
   ],
   "source": [
    "df_user.head()"
   ]
  },
  {
   "cell_type": "code",
   "execution_count": 72,
   "metadata": {},
   "outputs": [],
   "source": [
    "del (algo, ax, fig, gs_KNNBaseline, kf, param_grid_KNNBaseline, predictions, rmse, rmse_scores, train_, test_)"
   ]
  },
  {
   "cell_type": "markdown",
   "metadata": {},
   "source": [
    "item based collaborative filtering using KNN Method and 2-Fold cross validation, we get a RMSE score of ~1.2247\n",
    "."
   ]
  },
  {
   "cell_type": "markdown",
   "metadata": {},
   "source": [
    "# User Based Collaborative filtering Model using KNN "
   ]
  },
  {
   "cell_type": "code",
   "execution_count": 73,
   "metadata": {},
   "outputs": [
    {
     "name": "stdout",
     "output_type": "stream",
     "text": [
      "USER BASED COLLABORATIVE FILTERING USING KNN Model\n",
      "Grid Search across parameter grid to find best parameters using KNNBaseline algorithm\n",
      "------------------------------------------------------------\n",
      "1.2070148658722444\n",
      "{'bsl_options': {'method': 'sgd', 'reg': 1}, 'k': 2, 'sim_options': {'name': 'pearson_baseline', 'user_based': True}, 'verbose': False}\n"
     ]
    }
   ],
   "source": [
    "print('USER BASED COLLABORATIVE FILTERING USING KNN Model')\n",
    "print('Grid Search across parameter grid to find best parameters using KNNBaseline algorithm'); print('--'*30)\n",
    "param_grid_KNNBaseline = {'bsl_options': {'method': ['als', 'sgd'], 'reg': [1, 2]}, 'k': [2, 3, 5], \n",
    "                          'sim_options': {'name': ['pearson_baseline', 'cosine'], 'user_based': [True]},\n",
    "                          'verbose': [False]}\n",
    "\n",
    "gs_KNNBaseline = GridSearchCV(KNNBaseline, param_grid_KNNBaseline, measures = ['rmse', 'mae'], cv = 5)\n",
    "gs_KNNBaseline.fit(trainset)\n",
    "print(gs_KNNBaseline.best_score['rmse'])\n",
    "print(gs_KNNBaseline.best_params['rmse'])"
   ]
  },
  {
   "cell_type": "code",
   "execution_count": 74,
   "metadata": {},
   "outputs": [
    {
     "name": "stdout",
     "output_type": "stream",
     "text": [
      "2-Fold cross validation using KNNBaseline and with best parameters identified during grid search\n",
      "--------------------------------------------------------------------------------\n",
      "RMSE: 1.2077\n",
      "RMSE: 1.1964\n",
      "--------------------------------------------------------------------------------\n",
      "RMSE OF USER BASED COLLABORATIVE FILTERING USING k-NN INSPIRED ALGORITHM AND 2-FOLD CROSS VALIDATION 1.202\n"
     ]
    }
   ],
   "source": [
    "print('2-Fold cross validation using KNNBaseline and with best parameters identified during grid search'); print('--'*40)\n",
    "kf = KFold(n_splits = 2)\n",
    "algo = KNNBaseline(**gs_KNNBaseline.best_params['rmse'])\n",
    "rmse_scores = []\n",
    "\n",
    "for train_, test_ in kf.split(data):\n",
    "    algo.fit(train_)\n",
    "    predictions = algo.test(test_)\n",
    "    rmse = round(accuracy.rmse(predictions, verbose = True), 4)\n",
    "    rmse_scores.append(rmse)\n",
    "\n",
    "    dump.dump('./dump_KNNBaseline_User', predictions, algo)\n",
    "\n",
    "print('--'*40)\n",
    "print(f'RMSE OF USER BASED COLLABORATIVE FILTERING USING k-NN INSPIRED ALGORITHM AND 2-FOLD CROSS VALIDATION {round(np.mean(rmse_scores), 4)}')"
   ]
  },
  {
   "cell_type": "code",
   "execution_count": 76,
   "metadata": {},
   "outputs": [
    {
     "data": {
      "text/html": [
       "<div>\n",
       "<style scoped>\n",
       "    .dataframe tbody tr th:only-of-type {\n",
       "        vertical-align: middle;\n",
       "    }\n",
       "\n",
       "    .dataframe tbody tr th {\n",
       "        vertical-align: top;\n",
       "    }\n",
       "\n",
       "    .dataframe thead th {\n",
       "        text-align: right;\n",
       "    }\n",
       "</style>\n",
       "<table border=\"1\" class=\"dataframe\">\n",
       "  <thead>\n",
       "    <tr style=\"text-align: right;\">\n",
       "      <th></th>\n",
       "      <th>UserID</th>\n",
       "      <th>ProductID</th>\n",
       "      <th>ActualRating</th>\n",
       "      <th>EstRating</th>\n",
       "      <th>Details</th>\n",
       "      <th>Error</th>\n",
       "    </tr>\n",
       "  </thead>\n",
       "  <tbody>\n",
       "    <tr>\n",
       "      <th>405</th>\n",
       "      <td>A1NZYQ9R9RJS7B</td>\n",
       "      <td>1400532655</td>\n",
       "      <td>4.00</td>\n",
       "      <td>4.00</td>\n",
       "      <td>{'actual_k': 0, 'was_impossible': False}</td>\n",
       "      <td>0.00</td>\n",
       "    </tr>\n",
       "    <tr>\n",
       "      <th>18</th>\n",
       "      <td>A32KV93MO3CX9O</td>\n",
       "      <td>B00000JBHE</td>\n",
       "      <td>4.00</td>\n",
       "      <td>4.00</td>\n",
       "      <td>{'actual_k': 0, 'was_impossible': False}</td>\n",
       "      <td>0.00</td>\n",
       "    </tr>\n",
       "    <tr>\n",
       "      <th>913</th>\n",
       "      <td>A1KY5G5FP31F2F</td>\n",
       "      <td>B0000226L0</td>\n",
       "      <td>4.00</td>\n",
       "      <td>4.00</td>\n",
       "      <td>{'actual_k': 0, 'was_impossible': False}</td>\n",
       "      <td>0.00</td>\n",
       "    </tr>\n",
       "    <tr>\n",
       "      <th>620</th>\n",
       "      <td>A2ZC99NCD826JR</td>\n",
       "      <td>B00001P4YG</td>\n",
       "      <td>4.00</td>\n",
       "      <td>4.00</td>\n",
       "      <td>{'actual_k': 0, 'was_impossible': False}</td>\n",
       "      <td>0.00</td>\n",
       "    </tr>\n",
       "    <tr>\n",
       "      <th>317</th>\n",
       "      <td>A3CMO216CWOF5N</td>\n",
       "      <td>B0000228GF</td>\n",
       "      <td>4.00</td>\n",
       "      <td>4.00</td>\n",
       "      <td>{'actual_k': 0, 'was_impossible': False}</td>\n",
       "      <td>0.00</td>\n",
       "    </tr>\n",
       "    <tr>\n",
       "      <th>939</th>\n",
       "      <td>A1YCDZ4K4G0CN3</td>\n",
       "      <td>B00000JSGF</td>\n",
       "      <td>4.00</td>\n",
       "      <td>3.99</td>\n",
       "      <td>{'actual_k': 0, 'was_impossible': False}</td>\n",
       "      <td>0.01</td>\n",
       "    </tr>\n",
       "    <tr>\n",
       "      <th>1048</th>\n",
       "      <td>A1VU2TOCKEOSQS</td>\n",
       "      <td>B00001P4PM</td>\n",
       "      <td>4.00</td>\n",
       "      <td>3.99</td>\n",
       "      <td>{'actual_k': 0, 'was_impossible': False}</td>\n",
       "      <td>0.01</td>\n",
       "    </tr>\n",
       "    <tr>\n",
       "      <th>606</th>\n",
       "      <td>A5A4374R8I7NB</td>\n",
       "      <td>9043413585</td>\n",
       "      <td>4.00</td>\n",
       "      <td>4.01</td>\n",
       "      <td>{'was_impossible': False}</td>\n",
       "      <td>0.01</td>\n",
       "    </tr>\n",
       "  </tbody>\n",
       "</table>\n",
       "</div>"
      ],
      "text/plain": [
       "              UserID   ProductID  ActualRating  EstRating  \\\n",
       "405   A1NZYQ9R9RJS7B  1400532655          4.00       4.00   \n",
       "18    A32KV93MO3CX9O  B00000JBHE          4.00       4.00   \n",
       "913   A1KY5G5FP31F2F  B0000226L0          4.00       4.00   \n",
       "620   A2ZC99NCD826JR  B00001P4YG          4.00       4.00   \n",
       "317   A3CMO216CWOF5N  B0000228GF          4.00       4.00   \n",
       "939   A1YCDZ4K4G0CN3  B00000JSGF          4.00       3.99   \n",
       "1048  A1VU2TOCKEOSQS  B00001P4PM          4.00       3.99   \n",
       "606    A5A4374R8I7NB  9043413585          4.00       4.01   \n",
       "\n",
       "                                       Details  Error  \n",
       "405   {'actual_k': 0, 'was_impossible': False}   0.00  \n",
       "18    {'actual_k': 0, 'was_impossible': False}   0.00  \n",
       "913   {'actual_k': 0, 'was_impossible': False}   0.00  \n",
       "620   {'actual_k': 0, 'was_impossible': False}   0.00  \n",
       "317   {'actual_k': 0, 'was_impossible': False}   0.00  \n",
       "939   {'actual_k': 0, 'was_impossible': False}   0.01  \n",
       "1048  {'actual_k': 0, 'was_impossible': False}   0.01  \n",
       "606                  {'was_impossible': False}   0.01  "
      ]
     },
     "metadata": {},
     "output_type": "display_data"
    }
   ],
   "source": [
    "predictions, algo = dump.load('./dump_KNNBaseline_User')\n",
    "df_user = pd.DataFrame(predictions, columns = ['UserID', 'ProductID', 'ActualRating', 'EstRating', 'Details'])\n",
    "df_user['Error'] = abs(df_user['EstRating'] - df_user['ActualRating'])\n",
    "df_user.sort_values('Error', inplace = True, ascending = True)\n",
    "\n",
    "display(df_user.head(8))"
   ]
  },
  {
   "cell_type": "code",
   "execution_count": 80,
   "metadata": {},
   "outputs": [
    {
     "name": "stdout",
     "output_type": "stream",
     "text": [
      "Check on what has the user liked in past (based on data available in training set, if there is) and making recommendations\n",
      "------------------------------------------------------------ \n",
      "\n",
      "User \"A11D1KHM7DVOQK\" has already rated products (from data in training set): 4\n",
      "Top products from what's already being rated: ['B00000JCTD', 'B00001ZWRV', 'B000001OMN', 'B00000JBYW']\n",
      "Top  recommendations for the user are: ['B00001W0D4', 'B00000J9Z7', 'B00000JBYW']\n",
      "\n",
      "\n",
      "User \"A149RNR5RH19YY\" has already rated products (from data in training set): 2\n",
      "Top products from what's already being rated: ['B00000JBAM', 'B00001OPJ1']\n",
      "Top  recommendations for the user are: ['B00001OPJ1']\n"
     ]
    }
   ],
   "source": [
    "print('Check on what has the user liked in past (based on data available in training set, if there is) and making recommendations');\n",
    "print('--'*30, '\\n')\n",
    "result = {}\n",
    "\n",
    "result['A11D1KHM7DVOQK'] = query_user('A11D1KHM7DVOQK')\n",
    "print('\\n')\n",
    "result['A149RNR5RH19YY'] = query_user('A149RNR5RH19YY')"
   ]
  },
  {
   "cell_type": "code",
   "execution_count": 81,
   "metadata": {},
   "outputs": [
    {
     "data": {
      "text/plain": [
       "{'SVD Item-based Collaborative Filtering': {'A10DIDVYDN2Q5Z': ['B00000JSGF',\n",
       "   'B00001P4ZH',\n",
       "   'B000023VUL',\n",
       "   'B00000J061',\n",
       "   'B00001W0DI'],\n",
       "  'A11617B1NW474D': ['B00000JSGF',\n",
       "   'B00001P4XH',\n",
       "   'B000023VUL',\n",
       "   'B00001W0DI',\n",
       "   'B00000J061']},\n",
       " 'k-NN Item-based Collaborative Filtering': {'A2IMLPUXYQJTSY': ['B00000J4FS',\n",
       "   'B00000JFMK'],\n",
       "  'A14JBDSWKPKTZA': ['B00000J1V5', 'B00000JDF5', 'B00000J1V1', 'B00001ZWXA']},\n",
       " 'KNN User-based Collaborative Filtering': {'A11D1KHM7DVOQK': ['B00001W0D4',\n",
       "   'B00000J9Z7',\n",
       "   'B00000JBYW'],\n",
       "  'A149RNR5RH19YY': ['B00001OPJ1']}}"
      ]
     },
     "metadata": {},
     "output_type": "display_data"
    }
   ],
   "source": [
    "compare_dict['KNN User-based Collaborative Filtering'] = result\n",
    "display(compare_dict)"
   ]
  },
  {
   "cell_type": "markdown",
   "metadata": {},
   "source": [
    "User based collaborative filtering using KNN method and 2-Fold cross validation, we get a RMSE score of ~1.202\n"
   ]
  },
  {
   "cell_type": "markdown",
   "metadata": {},
   "source": [
    "# 8. Summarise your insights."
   ]
  },
  {
   "cell_type": "markdown",
   "metadata": {},
   "source": [
    "Conclusion\n",
    "\n",
    "Non-personalized based recommendation system (such as popularity) is generated by averaging the recommendations for all the users. Here we recommended top 5 products to the users. Also saw how we can make use of count to suggest popular products to the users and hybrid popularity based recommender based on a combination of mean and count. However in popularity based recommendation, all users receive same recommendations. RMSE of popularity recommendation method based on mean of ratings was \n",
    " 2.7215.\n",
    "\n",
    "\n",
    "Collaborative-based recommendations are personalized since the rating \"prediction\" differs depending on the target user and it is based on\n",
    "\n",
    "\n",
    "Collaborative based filtering method requires a minimal knowledge engineering efforts when compared to methods such as content-based recsys. This method is based on user history, but what if the user is new (where there is no user history)? It's one of the limitations of the method known as cold-start problem.\n",
    "\n",
    "\n",
    "Items with lots of history gets recommended a lot, while those without never make it into the recommendation engine.\n",
    "\n",
    "\n",
    "Additionally, collaborative based filtering methods face scalability issues particularly in our case where the number of users are sparse, especially when recommendations need to be generated in real-time online. \n",
    "\n",
    "\n",
    "Since our objective was to build Recommendation system to recommend products to customers based on their previous ratings for other products, we built an item-based collaborative filtering recommendation system.\n",
    "Used two model-based approaches : SVD and KNN \n",
    "\n",
    " 1)Item Based Collaborative Filtering using MATRIX FACTORIZATION METHOD (SVD)\n",
    "    Evaluated SVD for item-based collaborative filtering and RMSE of SVD model 0.0103.\n",
    "\n",
    "2 ) RMSE OF ITEM BASED COLLABORATIVE FILTERING USING k-NN INSPIRED ALGORITHM AND 2-FOLD CROSS VALIDATION 1.2247 .\n",
    "\n",
    "3) RMSE OF USER BASED COLLABORATIVE FILTERING USING k-NN INSPIRED ALGORITHM AND 2-FOLD CROSS VALIDATION 1.202\n",
    "\n",
    "\n",
    "Item Based Collaborative Filtering using MATRIX FACTORIZATION METHOD is the best possible model for building Product Recommendations system. "
   ]
  }
 ],
 "metadata": {
  "kernelspec": {
   "display_name": "Python 3",
   "language": "python",
   "name": "python3"
  },
  "language_info": {
   "codemirror_mode": {
    "name": "ipython",
    "version": 3
   },
   "file_extension": ".py",
   "mimetype": "text/x-python",
   "name": "python",
   "nbconvert_exporter": "python",
   "pygments_lexer": "ipython3",
   "version": "3.7.6"
  }
 },
 "nbformat": 4,
 "nbformat_minor": 4
}
