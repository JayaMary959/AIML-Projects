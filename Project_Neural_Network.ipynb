{
 "cells": [
  {
   "cell_type": "code",
   "execution_count": 2,
   "metadata": {
    "colab": {
     "base_uri": "https://localhost:8080/"
    },
    "id": "eKEZFbl3ZAs6",
    "outputId": "0c024f4a-666b-49fd-d74e-6ce4f3c2abf7"
   },
   "outputs": [
    {
     "name": "stdout",
     "output_type": "stream",
     "text": [
      "Drive already mounted at /content/drive; to attempt to forcibly remount, call drive.mount(\"/content/drive\", force_remount=True).\n"
     ]
    }
   ],
   "source": [
    "#Import Drive from Google Colab\n",
    "from google.colab import drive\n",
    "drive.mount('/content/drive')"
   ]
  },
  {
   "cell_type": "code",
   "execution_count": 3,
   "metadata": {
    "id": "SJmkpDyUecuu"
   },
   "outputs": [],
   "source": [
    "# Setting the current working directory\n",
    "import os; os.chdir('/content/drive/MyDrive/AIML/Projects/NN&DL')"
   ]
  },
  {
   "cell_type": "code",
   "execution_count": 4,
   "metadata": {
    "id": "5LdN6fj4hf3c"
   },
   "outputs": [],
   "source": [
    "%tensorflow_version 2.x"
   ]
  },
  {
   "cell_type": "code",
   "execution_count": 30,
   "metadata": {
    "id": "u0TK4Ldeex3H"
   },
   "outputs": [],
   "source": [
    "#Import Packages\n",
    "import pandas as pd\n",
    "import numpy as np\n",
    "from sklearn.model_selection import train_test_split\n",
    "from sklearn import preprocessing\n",
    "from tensorflow.keras.models import Sequential\n",
    "from tensorflow.keras.layers import Dense, Dropout, BatchNormalization\n",
    "from sklearn.metrics import accuracy_score, confusion_matrix, precision_score, recall_score, f1_score, precision_recall_curve, auc, precision_recall_fscore_support\n",
    "import matplotlib.pyplot as plt\n",
    "import tensorflow as tf\n",
    "from tensorflow.keras import optimizers\n",
    "from sklearn.model_selection import train_test_split\n",
    "from tensorflow.keras.utils import to_categorical\n",
    "from tensorflow.keras.models import Sequential\n",
    "from tensorflow.keras.layers import Activation\n",
    "\n",
    "\n",
    "\n",
    "#Import h5py library to read data file stored in Google Drive.\n",
    "import h5py\n",
    "\n",
    "import matplotlib.pyplot as plt\n",
    "\n",
    "from sklearn.model_selection import train_test_split\n",
    "from tensorflow.keras.models import Sequential\n",
    "\n",
    "from sklearn.neighbors import KNeighborsClassifier\n",
    "\n",
    "from random import shuffle\n",
    "\n",
    "import math\n",
    "\n"
   ]
  },
  {
   "cell_type": "markdown",
   "metadata": {
    "id": "9QShE4emj4zj"
   },
   "source": [
    "**Read the data from the h5py file and understand the train/test splits**"
   ]
  },
  {
   "cell_type": "code",
   "execution_count": 6,
   "metadata": {
    "id": "1Ik5dWX-gWl2"
   },
   "outputs": [],
   "source": [
    "#Read data from the h5py file.\n",
    "h5f = h5py.File('/content/drive/My Drive/AIML/Projects/NN&DL/SVHN_single_grey1.h5', 'r')\n"
   ]
  },
  {
   "cell_type": "code",
   "execution_count": 7,
   "metadata": {
    "colab": {
     "base_uri": "https://localhost:8080/"
    },
    "id": "hSeTAZY-ex6J",
    "outputId": "d3cb23df-1da6-4e33-9c07-4f69cd08ac7e"
   },
   "outputs": [
    {
     "data": {
      "text/plain": [
       "<KeysViewHDF5 ['X_test', 'X_train', 'X_val', 'y_test', 'y_train', 'y_val']>"
      ]
     },
     "execution_count": 7,
     "metadata": {
      "tags": []
     },
     "output_type": "execute_result"
    }
   ],
   "source": [
    "h5f.keys()"
   ]
  },
  {
   "cell_type": "code",
   "execution_count": null,
   "metadata": {
    "id": "E8r_K0lvjOiV"
   },
   "outputs": [],
   "source": [
    "#understand the train/test splits"
   ]
  },
  {
   "cell_type": "code",
   "execution_count": 8,
   "metadata": {
    "id": "8cWGW4GXkQ1-"
   },
   "outputs": [],
   "source": [
    "#Loading Train, Validation and test set\n",
    "X_train = h5f ['X_train'][:]\n",
    "y_train = h5f['y_train'][:]\n",
    "X_val = h5f['X_val'][:]\n",
    "y_val = h5f['y_val'][:]\n",
    "X_test = h5f ['X_test'][:]\n",
    "y_test = h5f['y_test'][:]"
   ]
  },
  {
   "cell_type": "code",
   "execution_count": 9,
   "metadata": {
    "id": "B-GJLpt3k8OD"
   },
   "outputs": [],
   "source": [
    "#Close file\n",
    "h5f.close()"
   ]
  },
  {
   "cell_type": "code",
   "execution_count": 10,
   "metadata": {
    "colab": {
     "base_uri": "https://localhost:8080/"
    },
    "id": "_ey4lVQvpkLt",
    "outputId": "aa28e5df-24c2-4a69-ef07-c1b056f8ffae"
   },
   "outputs": [
    {
     "name": "stdout",
     "output_type": "stream",
     "text": [
      "Unique labels in y_train: [0 1 2 3 4 5 6 7 8 9]\n",
      "Unique labels in y_val: [0 1 2 3 4 5 6 7 8 9]\n",
      "Unique labels in y_test: [0 1 2 3 4 5 6 7 8 9]\n"
     ]
    }
   ],
   "source": [
    "print('Unique labels in y_train:', np.unique(y_train))\n",
    "print('Unique labels in y_val:', np.unique(y_val))\n",
    "print('Unique labels in y_test:', np.unique(y_test))"
   ]
  },
  {
   "cell_type": "code",
   "execution_count": 11,
   "metadata": {
    "colab": {
     "base_uri": "https://localhost:8080/"
    },
    "id": "Yunq17DIlHuO",
    "outputId": "361f2484-3f34-4c58-a947-68fc7b7210f2"
   },
   "outputs": [
    {
     "name": "stdout",
     "output_type": "stream",
     "text": [
      "X_train shape: (42000, 32, 32)\n",
      "X_val shape: (60000, 32, 32)\n",
      "X_test shape: (18000, 32, 32)\n",
      "\n",
      "\n",
      "y_train shape: (42000,)\n",
      "y_val shape: (60000,)\n",
      "y_test shape: (18000,)\n",
      "\n",
      "\n",
      "Number of images in X_train 42000\n",
      "Number of images in X_val 60000\n",
      "Number of images in X_test 18000\n"
     ]
    }
   ],
   "source": [
    "\n",
    "#Check shapes of data sets.\n",
    "print('X_train shape:', X_train.shape)\n",
    "print('X_val shape:', X_val.shape)\n",
    "print('X_test shape:', X_test.shape)\n",
    "\n",
    "print('\\n')\n",
    "print('y_train shape:', y_train.shape)\n",
    "print('y_val shape:', y_val.shape)\n",
    "print('y_test shape:', y_test.shape)\n",
    "\n",
    "print('\\n')\n",
    "print('Number of images in X_train', X_train.shape[0])\n",
    "print('Number of images in X_val', X_val.shape[0])\n",
    "print('Number of images in X_test', X_test.shape[0])\n"
   ]
  },
  {
   "cell_type": "markdown",
   "metadata": {
    "id": "76U8oorvl6CL"
   },
   "source": [
    "In 60000 records of data,Each data/image is a 32x32 size data in RGB format.\n",
    "42000 records in training set and 18000 records in validation set."
   ]
  },
  {
   "cell_type": "code",
   "execution_count": 12,
   "metadata": {
    "colab": {
     "base_uri": "https://localhost:8080/",
     "height": 112
    },
    "id": "ntLNXjW-rWH9",
    "outputId": "4c06e68a-70f1-4eb5-ba52-e219f39573be"
   },
   "outputs": [
    {
     "data": {
      "image/png": "[encoded data removed]",
      "text/plain": [
       "<Figure size 1080x324 with 10 Axes>"
      ]
     },
     "metadata": {
      "needs_background": "light",
      "tags": []
     },
     "output_type": "display_data"
    },
    {
     "name": "stdout",
     "output_type": "stream",
     "text": [
      "Label for each of the above image: [2 6 7 4 4 0 3 0 7 3]\n"
     ]
    }
   ],
   "source": [
    "# Visualizing first 10 images in the dataset and their labels\n",
    "plt.figure(figsize = (15, 4.5))\n",
    "for i in range(10):  \n",
    "    plt.subplot(1, 10, i+1)\n",
    "    plt.imshow(X_train[i].reshape((32, 32)))\n",
    "    plt.axis('off')\n",
    "plt.subplots_adjust(wspace = -0.1, hspace = -0.1)\n",
    "plt.show()\n",
    "\n",
    "print('Label for each of the above image: %s' % (y_train[0 : 10]))"
   ]
  },
  {
   "cell_type": "code",
   "execution_count": 13,
   "metadata": {
    "colab": {
     "base_uri": "https://localhost:8080/",
     "height": 317
    },
    "id": "dQWrMylBl9hh",
    "outputId": "83986c4e-96c4-496e-811a-eda4ec3d10f9"
   },
   "outputs": [
    {
     "name": "stdout",
     "output_type": "stream",
     "text": [
      "Checking first image and label in training set\n",
      "--------------------------------------------------------------------------------\n"
     ]
    },
    {
     "data": {
      "image/png": "[encoded data removed]",
      "text/plain": [
       "<Figure size 432x288 with 1 Axes>"
      ]
     },
     "metadata": {
      "needs_background": "light",
      "tags": []
     },
     "output_type": "display_data"
    },
    {
     "name": "stdout",
     "output_type": "stream",
     "text": [
      "Label: 2\n"
     ]
    }
   ],
   "source": [
    "#Checking images are viewed up for both training ,validation and test sets.\n",
    "\n",
    "print('Checking first image and label in training set'); print('--'*40)\n",
    "plt.imshow(X_train[0], cmap = plt.cm.binary)    \n",
    "plt.show()\n",
    "print('Label:', y_train[0])\n",
    "\n"
   ]
  },
  {
   "cell_type": "code",
   "execution_count": 14,
   "metadata": {
    "colab": {
     "base_uri": "https://localhost:8080/",
     "height": 317
    },
    "id": "dT-KMCn6qZi4",
    "outputId": "9a691620-ebc4-463d-b929-0c03ef701fcf"
   },
   "outputs": [
    {
     "name": "stdout",
     "output_type": "stream",
     "text": [
      "Checking first image and label in validation set\n",
      "--------------------------------------------------------------------------------\n"
     ]
    },
    {
     "data": {
      "image/png": "[encoded data removed]",
      "text/plain": [
       "<Figure size 432x288 with 1 Axes>"
      ]
     },
     "metadata": {
      "needs_background": "light",
      "tags": []
     },
     "output_type": "display_data"
    },
    {
     "name": "stdout",
     "output_type": "stream",
     "text": [
      "Label: 0\n"
     ]
    }
   ],
   "source": [
    "print('Checking first image and label in validation set'); print('--'*40)\n",
    "plt.imshow(X_val[0], cmap = plt.cm.binary)    \n",
    "plt.show()\n",
    "print('Label:', y_val[0])"
   ]
  },
  {
   "cell_type": "code",
   "execution_count": 15,
   "metadata": {
    "colab": {
     "base_uri": "https://localhost:8080/",
     "height": 317
    },
    "id": "H7hUvlmbr6lt",
    "outputId": "ee8eaa45-ddac-4d31-aa63-39afca12771c"
   },
   "outputs": [
    {
     "name": "stdout",
     "output_type": "stream",
     "text": [
      "Checking first image and label in test set\n",
      "--------------------------------------------------------------------------------\n"
     ]
    },
    {
     "data": {
      "image/png": "[encoded data removed]",
      "text/plain": [
       "<Figure size 432x288 with 1 Axes>"
      ]
     },
     "metadata": {
      "needs_background": "light",
      "tags": []
     },
     "output_type": "display_data"
    },
    {
     "name": "stdout",
     "output_type": "stream",
     "text": [
      "Label: 1\n"
     ]
    }
   ],
   "source": [
    "print('Checking first image and label in test set'); print('--'*40)\n",
    "plt.imshow(X_test[0], cmap = plt.cm.binary)    \n",
    "plt.show()\n",
    "print('Label:', y_test[0])"
   ]
  },
  {
   "cell_type": "markdown",
   "metadata": {
    "id": "9IbrdYakmZqT"
   },
   "source": [
    "***Reshape and normalize the train and test features***"
   ]
  },
  {
   "cell_type": "code",
   "execution_count": 16,
   "metadata": {
    "colab": {
     "base_uri": "https://localhost:8080/"
    },
    "id": "KCtxMnGoscYP",
    "outputId": "d9c1c8fc-6391-44c8-dae7-d888a6f777f1"
   },
   "outputs": [
    {
     "name": "stdout",
     "output_type": "stream",
     "text": [
      "Reshaping X data: (n, 32, 32) => (n, 1024)\n",
      "--------------------------------------------------------------------------------\n",
      "Ensure the values are float so that we would get decimal points after division\n",
      "--------------------------------------------------------------------------------\n",
      "Normalizing the RGB codes by dividing it to the max RGB value\n",
      "--------------------------------------------------------------------------------\n"
     ]
    }
   ],
   "source": [
    "print('Reshaping X data: (n, 32, 32) => (n, 1024)'); print('--'*40)\n",
    "X_train = X_train.reshape((X_train.shape[0], -1))\n",
    "X_val = X_val.reshape((X_val.shape[0], -1))\n",
    "X_test = X_test.reshape((X_test.shape[0], -1))\n",
    "\n",
    "print('Ensure the values are float so that we would get decimal points after division'); print('--'*40)\n",
    "X_train = X_train.astype('float32')\n",
    "X_val = X_val.astype('float32')\n",
    "X_test = X_test.astype('float32')\n",
    "\n",
    "print('Normalizing the RGB codes by dividing it to the max RGB value'); print('--'*40)\n",
    "X_train /= 255\n",
    "X_val /= 255\n",
    "X_test /= 255"
   ]
  },
  {
   "cell_type": "markdown",
   "metadata": {
    "id": "bEBp50StuTJy"
   },
   "source": [
    "**One hot encode the labels for train and test data**"
   ]
  },
  {
   "cell_type": "code",
   "execution_count": 17,
   "metadata": {
    "id": "ARqW3-Ckw7dw"
   },
   "outputs": [],
   "source": [
    "#Converting output labels to binary class matrices (one-hot encoding)\n",
    "y_train = tf.keras.utils.to_categorical(y_train, num_classes = 10)\n",
    "y_test = tf.keras.utils.to_categorical(y_test, num_classes = 10)\n",
    "y_val = tf.keras.utils.to_categorical(y_val, num_classes = 10)"
   ]
  },
  {
   "cell_type": "code",
   "execution_count": 18,
   "metadata": {
    "colab": {
     "base_uri": "https://localhost:8080/"
    },
    "id": "wF69h7NJxM8P",
    "outputId": "79099b77-b41c-444d-affa-e29d7fdaa82e"
   },
   "outputs": [
    {
     "name": "stdout",
     "output_type": "stream",
     "text": [
      "First 3 examples in training dataset now are: \n",
      " [[0. 0. 1. 0. 0. 0. 0. 0. 0. 0.]\n",
      " [0. 0. 0. 0. 0. 0. 1. 0. 0. 0.]\n",
      " [0. 0. 0. 0. 0. 0. 0. 1. 0. 0.]]\n",
      "\n",
      "First 3 examples in validation dataset now are: \n",
      " [[1. 0. 0. 0. 0. 0. 0. 0. 0. 0.]\n",
      " [1. 0. 0. 0. 0. 0. 0. 0. 0. 0.]\n",
      " [1. 0. 0. 0. 0. 0. 0. 0. 0. 0.]]\n",
      "\n",
      "First 3 examples in test dataset now are: \n",
      " [[0. 1. 0. 0. 0. 0. 0. 0. 0. 0.]\n",
      " [0. 0. 0. 0. 0. 0. 0. 1. 0. 0.]\n",
      " [0. 0. 1. 0. 0. 0. 0. 0. 0. 0.]]\n"
     ]
    }
   ],
   "source": [
    "print('First 3 examples in training dataset now are: \\n', y_train[0:3])\n",
    "print('\\nFirst 3 examples in validation dataset now are: \\n', y_val[0:3])\n",
    "print('\\nFirst 3 examples in test dataset now are: \\n', y_test[0:3])"
   ]
  },
  {
   "cell_type": "code",
   "execution_count": 19,
   "metadata": {
    "colab": {
     "base_uri": "https://localhost:8080/"
    },
    "id": "WVrea6BIxeDh",
    "outputId": "bda658bc-343f-4f62-e6f8-8e9c0dc46242"
   },
   "outputs": [
    {
     "name": "stdout",
     "output_type": "stream",
     "text": [
      "The shape of the training dataset: (42000, 1024)\n",
      "The shape of the training (y) dataset: (42000, 10)\n",
      "The shape of the validation dataset: (60000, 1024)\n",
      "The shape of the validation (y) dataset: (60000, 10)\n",
      "The shape of the test dataset: (18000, 1024)\n",
      "The shape of the test (y) dataset: (18000, 10)\n"
     ]
    }
   ],
   "source": [
    "\n",
    "print('The shape of the training dataset:', X_train.shape)\n",
    "print('The shape of the training (y) dataset:', y_train.shape)\n",
    "print('The shape of the validation dataset:', X_val.shape)\n",
    "print('The shape of the validation (y) dataset:', y_val.shape)\n",
    "print('The shape of the test dataset:', X_test.shape)\n",
    "print('The shape of the test (y) dataset:', y_test.shape)"
   ]
  },
  {
   "cell_type": "markdown",
   "metadata": {
    "id": "tRhnGi7gxyDI"
   },
   "source": [
    "**Define the model architecture using TensorFlow with a flatten layer followed by dense layers with activation as ReLu and softmax**"
   ]
  },
  {
   "cell_type": "code",
   "execution_count": 20,
   "metadata": {
    "id": "9wtcWFYvx9jp"
   },
   "outputs": [],
   "source": [
    "##Initialize the Deep Neural Network Classifier\n",
    "keras_model = Sequential()"
   ]
  },
  {
   "cell_type": "code",
   "execution_count": 21,
   "metadata": {
    "id": "3mwHgKJRx_Xg"
   },
   "outputs": [],
   "source": [
    "# Input Layer\n",
    "#Adding Input layer and activation functions ReLU\n",
    "keras_model.add(Dense(512, kernel_initializer = 'he_normal', input_shape = (1024, )))\n",
    "#Adding Activation function\n",
    "keras_model.add(Activation('relu'))\n",
    "\n",
    "#Hidden Layer 1\n",
    "#Adding first Hidden layer of 256 nodes\n",
    "keras_model.add(Dense(256, kernel_initializer = 'he_normal'))\n",
    "#Adding Activation function\n",
    "keras_model.add(Activation('relu'))\n",
    "\n",
    "#Hidden Layer 2\n",
    "#Adding second Hidden layer of 128 nodes\n",
    "keras_model.add(Dense(128, kernel_initializer = 'he_normal'))\n",
    "#Adding Activation function\n",
    "keras_model.add(Activation('relu'))\n",
    "\n",
    "#Hidden Layer 3\n",
    "#Adding third Hidden layer of 64 nodes\n",
    "keras_model.add(Dense(64, kernel_initializer = 'he_normal'))\n",
    "#Adding Activation function\n",
    "keras_model.add(Activation('relu'))\n",
    "\n",
    "#Hidden Layer 4\n",
    "#Adding fourth Hidden layer of 32 nodes\n",
    "keras_model.add(Dense(32, kernel_initializer = 'he_normal'))\n",
    "#Adding Activation function\n",
    "keras_model.add(Activation('relu'))\n",
    "\n",
    "# Output Layer\n",
    "#Adding output layer which is of 10 nodes (digits)\n",
    "keras_model.add(Dense(10))\n",
    "#Adding Activation function\n",
    "# Here, we are using softmax function because we have multiclass classsification\n",
    "keras_model.add(Activation('softmax'))"
   ]
  },
  {
   "cell_type": "code",
   "execution_count": 22,
   "metadata": {
    "colab": {
     "base_uri": "https://localhost:8080/"
    },
    "id": "rexWX1kDyJtR",
    "outputId": "356c7fd5-b802-4afa-e9c5-c5f73669bf34"
   },
   "outputs": [
    {
     "name": "stdout",
     "output_type": "stream",
     "text": [
      "Model: \"sequential\"\n",
      "_________________________________________________________________\n",
      "Layer (type)                 Output Shape              Param #   \n",
      "=================================================================\n",
      "dense (Dense)                (None, 512)               524800    \n",
      "_________________________________________________________________\n",
      "activation (Activation)      (None, 512)               0         \n",
      "_________________________________________________________________\n",
      "dense_1 (Dense)              (None, 256)               131328    \n",
      "_________________________________________________________________\n",
      "activation_1 (Activation)    (None, 256)               0         \n",
      "_________________________________________________________________\n",
      "dense_2 (Dense)              (None, 128)               32896     \n",
      "_________________________________________________________________\n",
      "activation_2 (Activation)    (None, 128)               0         \n",
      "_________________________________________________________________\n",
      "dense_3 (Dense)              (None, 64)                8256      \n",
      "_________________________________________________________________\n",
      "activation_3 (Activation)    (None, 64)                0         \n",
      "_________________________________________________________________\n",
      "dense_4 (Dense)              (None, 32)                2080      \n",
      "_________________________________________________________________\n",
      "activation_4 (Activation)    (None, 32)                0         \n",
      "_________________________________________________________________\n",
      "dense_5 (Dense)              (None, 10)                330       \n",
      "_________________________________________________________________\n",
      "activation_5 (Activation)    (None, 10)                0         \n",
      "=================================================================\n",
      "Total params: 699,690\n",
      "Trainable params: 699,690\n",
      "Non-trainable params: 0\n",
      "_________________________________________________________________\n"
     ]
    }
   ],
   "source": [
    "keras_model.summary()"
   ]
  },
  {
   "cell_type": "markdown",
   "metadata": {
    "id": "pIoT6nLFy6Mi"
   },
   "source": [
    "**Compile the model with loss as categorical cross-entropy and adam optimizers. Use accuracy as the metric for evaluation**\n",
    "\n"
   ]
  },
  {
   "cell_type": "markdown",
   "metadata": {
    "id": "qzK-GVKeKHbD"
   },
   "source": [
    "**Fit and evaluate the model. Print the loss and accuracy for the test data**"
   ]
  },
  {
   "cell_type": "code",
   "execution_count": 23,
   "metadata": {
    "id": "vQS6vW1ay-Iw"
   },
   "outputs": [],
   "source": [
    "# compiling the Neural Network classifier\n",
    "keras_model.compile(optimizer = 'adam', loss = 'categorical_crossentropy', metrics = ['accuracy'])"
   ]
  },
  {
   "cell_type": "code",
   "execution_count": 24,
   "metadata": {
    "colab": {
     "base_uri": "https://localhost:8080/"
    },
    "id": "th1Uo1LAzD06",
    "outputId": "5a745717-0d4d-45a4-931e-8d62d728103d"
   },
   "outputs": [
    {
     "name": "stdout",
     "output_type": "stream",
     "text": [
      "Epoch 1/20\n",
      "210/210 [==============================] - 7s 30ms/step - loss: 2.3353 - accuracy: 0.1006 - val_loss: 2.3044 - val_accuracy: 0.1011\n",
      "Epoch 2/20\n",
      "210/210 [==============================] - 6s 28ms/step - loss: 2.3028 - accuracy: 0.1038 - val_loss: 2.2959 - val_accuracy: 0.1146\n",
      "Epoch 3/20\n",
      "210/210 [==============================] - 6s 28ms/step - loss: 2.2031 - accuracy: 0.1704 - val_loss: 1.6335 - val_accuracy: 0.4234\n",
      "Epoch 4/20\n",
      "210/210 [==============================] - 6s 28ms/step - loss: 1.6044 - accuracy: 0.4415 - val_loss: 1.3949 - val_accuracy: 0.5313\n",
      "Epoch 5/20\n",
      "210/210 [==============================] - 6s 28ms/step - loss: 1.3458 - accuracy: 0.5494 - val_loss: 1.2313 - val_accuracy: 0.6011\n",
      "Epoch 6/20\n",
      "210/210 [==============================] - 6s 28ms/step - loss: 1.1717 - accuracy: 0.6207 - val_loss: 1.0325 - val_accuracy: 0.6765\n",
      "Epoch 7/20\n",
      "210/210 [==============================] - 6s 28ms/step - loss: 1.0458 - accuracy: 0.6743 - val_loss: 1.0266 - val_accuracy: 0.6774\n",
      "Epoch 8/20\n",
      "210/210 [==============================] - 6s 28ms/step - loss: 0.9646 - accuracy: 0.6937 - val_loss: 0.8838 - val_accuracy: 0.7263\n",
      "Epoch 9/20\n",
      "210/210 [==============================] - 6s 28ms/step - loss: 0.9128 - accuracy: 0.7140 - val_loss: 0.8498 - val_accuracy: 0.7324\n",
      "Epoch 10/20\n",
      "210/210 [==============================] - 6s 28ms/step - loss: 0.8418 - accuracy: 0.7370 - val_loss: 0.8329 - val_accuracy: 0.7391\n",
      "Epoch 11/20\n",
      "210/210 [==============================] - 6s 28ms/step - loss: 0.7864 - accuracy: 0.7556 - val_loss: 0.7551 - val_accuracy: 0.7673\n",
      "Epoch 12/20\n",
      "210/210 [==============================] - 6s 28ms/step - loss: 0.7670 - accuracy: 0.7595 - val_loss: 0.7548 - val_accuracy: 0.7638\n",
      "Epoch 13/20\n",
      "210/210 [==============================] - 6s 28ms/step - loss: 0.7259 - accuracy: 0.7714 - val_loss: 0.7026 - val_accuracy: 0.7816\n",
      "Epoch 14/20\n",
      "210/210 [==============================] - 6s 28ms/step - loss: 0.6942 - accuracy: 0.7835 - val_loss: 0.6859 - val_accuracy: 0.7860\n",
      "Epoch 15/20\n",
      "210/210 [==============================] - 6s 28ms/step - loss: 0.6830 - accuracy: 0.7854 - val_loss: 0.6786 - val_accuracy: 0.7925\n",
      "Epoch 16/20\n",
      "210/210 [==============================] - 6s 28ms/step - loss: 0.6485 - accuracy: 0.7968 - val_loss: 0.6602 - val_accuracy: 0.7932\n",
      "Epoch 17/20\n",
      "210/210 [==============================] - 6s 28ms/step - loss: 0.6473 - accuracy: 0.7958 - val_loss: 0.6170 - val_accuracy: 0.8087\n",
      "Epoch 18/20\n",
      "210/210 [==============================] - 6s 28ms/step - loss: 0.6083 - accuracy: 0.8074 - val_loss: 0.6559 - val_accuracy: 0.7922\n",
      "Epoch 19/20\n",
      "210/210 [==============================] - 6s 28ms/step - loss: 0.6090 - accuracy: 0.8036 - val_loss: 0.6740 - val_accuracy: 0.7871\n",
      "Epoch 20/20\n",
      "210/210 [==============================] - 6s 28ms/step - loss: 0.5904 - accuracy: 0.8113 - val_loss: 0.6233 - val_accuracy: 0.8029\n"
     ]
    }
   ],
   "source": [
    "# Fitting the model to the Training data\n",
    "history_1 = keras_model.fit(X_train, y_train, validation_data = (X_val, y_val), batch_size = 200, epochs = 20, verbose = 1)"
   ]
  },
  {
   "cell_type": "code",
   "execution_count": 25,
   "metadata": {
    "colab": {
     "base_uri": "https://localhost:8080/"
    },
    "id": "Vn30otlvAAyj",
    "outputId": "875141a0-5e61-4ebb-ef75-248ea8ecedbe"
   },
   "outputs": [
    {
     "name": "stdout",
     "output_type": "stream",
     "text": [
      "1875/1875 [==============================] - 6s 3ms/step - loss: 0.6233 - accuracy: 0.8029\n",
      "Validation accuracy using basic Neural Network (ADAM) :  0.8029000163078308\n"
     ]
    }
   ],
   "source": [
    "#Evaluating the Model\n",
    "results = keras_model.evaluate(X_val, y_val)\n",
    "print('Validation accuracy using basic Neural Network (ADAM) : ', results[1])"
   ]
  },
  {
   "cell_type": "markdown",
   "metadata": {
    "id": "yOkjLqyiAinA"
   },
   "source": [
    "Validation accuracy using basic Neural Network (ADAM) =80.29%"
   ]
  },
  {
   "cell_type": "code",
   "execution_count": 58,
   "metadata": {
    "colab": {
     "base_uri": "https://localhost:8080/"
    },
    "id": "3llKRf94MLRG",
    "outputId": "3fdf5753-c501-4d65-a2a9-7343ab5d7f36"
   },
   "outputs": [
    {
     "name": "stdout",
     "output_type": "stream",
     "text": [
      "Epoch 1/50\n",
      "210/210 [==============================] - 5s 21ms/step - loss: 0.1327 - accuracy: 0.9583 - val_loss: 1.5171 - val_accuracy: 0.8179\n",
      "Epoch 2/50\n",
      "210/210 [==============================] - 4s 21ms/step - loss: 0.0647 - accuracy: 0.9786 - val_loss: 1.4658 - val_accuracy: 0.8177\n",
      "Epoch 3/50\n",
      "210/210 [==============================] - 4s 21ms/step - loss: 0.0558 - accuracy: 0.9810 - val_loss: 1.4694 - val_accuracy: 0.8254\n",
      "Epoch 4/50\n",
      "210/210 [==============================] - 4s 21ms/step - loss: 0.0657 - accuracy: 0.9779 - val_loss: 1.5133 - val_accuracy: 0.8166\n",
      "Epoch 5/50\n",
      "210/210 [==============================] - 4s 21ms/step - loss: 0.0723 - accuracy: 0.9762 - val_loss: 1.6327 - val_accuracy: 0.8107\n",
      "Epoch 6/50\n",
      "210/210 [==============================] - 4s 21ms/step - loss: 0.1289 - accuracy: 0.9590 - val_loss: 1.4938 - val_accuracy: 0.8130\n",
      "Epoch 7/50\n",
      "210/210 [==============================] - 4s 21ms/step - loss: 0.0847 - accuracy: 0.9720 - val_loss: 1.4679 - val_accuracy: 0.8198\n",
      "Epoch 8/50\n",
      "210/210 [==============================] - 4s 21ms/step - loss: 0.0691 - accuracy: 0.9767 - val_loss: 1.5552 - val_accuracy: 0.8202\n",
      "Epoch 9/50\n",
      "210/210 [==============================] - 4s 21ms/step - loss: 0.0404 - accuracy: 0.9867 - val_loss: 1.5510 - val_accuracy: 0.8232\n",
      "Epoch 10/50\n",
      "210/210 [==============================] - 4s 21ms/step - loss: 0.0839 - accuracy: 0.9727 - val_loss: 1.5247 - val_accuracy: 0.8102\n",
      "Epoch 11/50\n",
      "210/210 [==============================] - 4s 21ms/step - loss: 0.1086 - accuracy: 0.9643 - val_loss: 1.5628 - val_accuracy: 0.8179\n",
      "Epoch 12/50\n",
      "210/210 [==============================] - 4s 21ms/step - loss: 0.0610 - accuracy: 0.9800 - val_loss: 1.5989 - val_accuracy: 0.8091\n",
      "Epoch 13/50\n",
      "210/210 [==============================] - 4s 21ms/step - loss: 0.0629 - accuracy: 0.9795 - val_loss: 1.6058 - val_accuracy: 0.8187\n",
      "Epoch 14/50\n",
      "210/210 [==============================] - 4s 21ms/step - loss: 0.0449 - accuracy: 0.9846 - val_loss: 1.6208 - val_accuracy: 0.8171\n",
      "Epoch 15/50\n",
      "210/210 [==============================] - 4s 21ms/step - loss: 0.1140 - accuracy: 0.9644 - val_loss: 1.6026 - val_accuracy: 0.8086\n",
      "Epoch 16/50\n",
      "210/210 [==============================] - 4s 21ms/step - loss: 0.0711 - accuracy: 0.9768 - val_loss: 1.5030 - val_accuracy: 0.8182\n",
      "Epoch 17/50\n",
      "210/210 [==============================] - 4s 21ms/step - loss: 0.0444 - accuracy: 0.9856 - val_loss: 1.5768 - val_accuracy: 0.8186\n",
      "Epoch 18/50\n",
      "210/210 [==============================] - 4s 21ms/step - loss: 0.0902 - accuracy: 0.9705 - val_loss: 1.5247 - val_accuracy: 0.8152\n",
      "Epoch 19/50\n",
      "210/210 [==============================] - 4s 21ms/step - loss: 0.0794 - accuracy: 0.9742 - val_loss: 1.5580 - val_accuracy: 0.8152\n",
      "Epoch 20/50\n",
      "210/210 [==============================] - 4s 21ms/step - loss: 0.0702 - accuracy: 0.9768 - val_loss: 1.5410 - val_accuracy: 0.8157\n",
      "Epoch 21/50\n",
      "210/210 [==============================] - 4s 21ms/step - loss: 0.1068 - accuracy: 0.9648 - val_loss: 1.6311 - val_accuracy: 0.8132\n",
      "Epoch 22/50\n",
      "210/210 [==============================] - 4s 21ms/step - loss: 0.0717 - accuracy: 0.9756 - val_loss: 1.5565 - val_accuracy: 0.8172\n",
      "Epoch 23/50\n",
      "210/210 [==============================] - 4s 21ms/step - loss: 0.0348 - accuracy: 0.9889 - val_loss: 1.5803 - val_accuracy: 0.8228\n",
      "Epoch 24/50\n",
      "210/210 [==============================] - 4s 21ms/step - loss: 0.0536 - accuracy: 0.9824 - val_loss: 1.6310 - val_accuracy: 0.8156\n",
      "Epoch 25/50\n",
      "210/210 [==============================] - 4s 21ms/step - loss: 0.0849 - accuracy: 0.9721 - val_loss: 1.6790 - val_accuracy: 0.8078\n",
      "Epoch 26/50\n",
      "210/210 [==============================] - 4s 21ms/step - loss: 0.0829 - accuracy: 0.9720 - val_loss: 1.5111 - val_accuracy: 0.8203\n",
      "Epoch 27/50\n",
      "210/210 [==============================] - 4s 21ms/step - loss: 0.0671 - accuracy: 0.9780 - val_loss: 1.5754 - val_accuracy: 0.8206\n",
      "Epoch 28/50\n",
      "210/210 [==============================] - 4s 21ms/step - loss: 0.0550 - accuracy: 0.9816 - val_loss: 1.5272 - val_accuracy: 0.8241\n",
      "Epoch 29/50\n",
      "210/210 [==============================] - 4s 21ms/step - loss: 0.0542 - accuracy: 0.9820 - val_loss: 1.6007 - val_accuracy: 0.8070\n",
      "Epoch 30/50\n",
      "210/210 [==============================] - 4s 21ms/step - loss: 0.1028 - accuracy: 0.9670 - val_loss: 1.5113 - val_accuracy: 0.8182\n",
      "Epoch 31/50\n",
      "210/210 [==============================] - 4s 21ms/step - loss: 0.0672 - accuracy: 0.9777 - val_loss: 1.5284 - val_accuracy: 0.8178\n",
      "Epoch 32/50\n",
      "210/210 [==============================] - 4s 21ms/step - loss: 0.0600 - accuracy: 0.9799 - val_loss: 1.5825 - val_accuracy: 0.8176\n",
      "Epoch 33/50\n",
      "210/210 [==============================] - 4s 21ms/step - loss: 0.0711 - accuracy: 0.9766 - val_loss: 1.5895 - val_accuracy: 0.8176\n",
      "Epoch 34/50\n",
      "210/210 [==============================] - 4s 21ms/step - loss: 0.0585 - accuracy: 0.9798 - val_loss: 1.5854 - val_accuracy: 0.8251\n",
      "Epoch 35/50\n",
      "210/210 [==============================] - 5s 22ms/step - loss: 0.0894 - accuracy: 0.9711 - val_loss: 1.6006 - val_accuracy: 0.8096\n",
      "Epoch 36/50\n",
      "210/210 [==============================] - 5s 22ms/step - loss: 0.0953 - accuracy: 0.9696 - val_loss: 1.6733 - val_accuracy: 0.8101\n",
      "Epoch 37/50\n",
      "210/210 [==============================] - 5s 22ms/step - loss: 0.0441 - accuracy: 0.9864 - val_loss: 1.6155 - val_accuracy: 0.8206\n",
      "Epoch 38/50\n",
      "210/210 [==============================] - 5s 22ms/step - loss: 0.0518 - accuracy: 0.9836 - val_loss: 1.6357 - val_accuracy: 0.8041\n",
      "Epoch 39/50\n",
      "210/210 [==============================] - 5s 21ms/step - loss: 0.1019 - accuracy: 0.9680 - val_loss: 1.5651 - val_accuracy: 0.8183\n",
      "Epoch 40/50\n",
      "210/210 [==============================] - 4s 21ms/step - loss: 0.0416 - accuracy: 0.9863 - val_loss: 1.6218 - val_accuracy: 0.8236\n",
      "Epoch 41/50\n",
      "210/210 [==============================] - 5s 22ms/step - loss: 0.0472 - accuracy: 0.9841 - val_loss: 1.6476 - val_accuracy: 0.8166\n",
      "Epoch 42/50\n",
      "210/210 [==============================] - 4s 21ms/step - loss: 0.0945 - accuracy: 0.9698 - val_loss: 1.6166 - val_accuracy: 0.8084\n",
      "Epoch 43/50\n",
      "210/210 [==============================] - 4s 21ms/step - loss: 0.0762 - accuracy: 0.9739 - val_loss: 1.6486 - val_accuracy: 0.8090\n",
      "Epoch 44/50\n",
      "210/210 [==============================] - 4s 21ms/step - loss: 0.0850 - accuracy: 0.9732 - val_loss: 1.6003 - val_accuracy: 0.8130\n",
      "Epoch 45/50\n",
      "210/210 [==============================] - 4s 21ms/step - loss: 0.0881 - accuracy: 0.9711 - val_loss: 1.5570 - val_accuracy: 0.8145\n",
      "Epoch 46/50\n",
      "210/210 [==============================] - 4s 21ms/step - loss: 0.0448 - accuracy: 0.9852 - val_loss: 1.5616 - val_accuracy: 0.8231\n",
      "Epoch 47/50\n",
      "210/210 [==============================] - 4s 21ms/step - loss: 0.0233 - accuracy: 0.9925 - val_loss: 1.5792 - val_accuracy: 0.8257\n",
      "Epoch 48/50\n",
      "210/210 [==============================] - 4s 21ms/step - loss: 0.1230 - accuracy: 0.9654 - val_loss: 1.5427 - val_accuracy: 0.8052\n",
      "Epoch 49/50\n",
      "210/210 [==============================] - 4s 21ms/step - loss: 0.0709 - accuracy: 0.9771 - val_loss: 1.5475 - val_accuracy: 0.8236\n",
      "Epoch 50/50\n",
      "210/210 [==============================] - 4s 21ms/step - loss: 0.0280 - accuracy: 0.9911 - val_loss: 1.5949 - val_accuracy: 0.8193\n"
     ]
    }
   ],
   "source": [
    "#Testing NN model to test data\n",
    "history_t = keras_model.fit(X_train, y_train, validation_data=(X_test, y_test), batch_size = 200, epochs = 50, verbose = 1)"
   ]
  },
  {
   "cell_type": "code",
   "execution_count": 59,
   "metadata": {
    "colab": {
     "base_uri": "https://localhost:8080/"
    },
    "id": "OsRg2czsM_Q7",
    "outputId": "1ab60f6e-5a49-46b7-dd0d-5c823ecef046"
   },
   "outputs": [
    {
     "name": "stdout",
     "output_type": "stream",
     "text": [
      "563/563 [==============================] - 2s 4ms/step - loss: 1.5949 - accuracy: 0.8193\n",
      "Loss and accuracy using basic Neural Network (ADAM) :  0.8193333148956299\n"
     ]
    }
   ],
   "source": [
    "#Print the loss and accuracy for the test data\n",
    "test = keras_model.evaluate(X_test, y_test)\n",
    "print('Loss and accuracy using basic Neural Network (ADAM) : ', test[1])"
   ]
  },
  {
   "cell_type": "markdown",
   "metadata": {
    "id": "TV9NSQOLRTa8"
   },
   "source": [
    "Loss and accuracy using basic Neural Network (ADAM) for the test data is 81.93%"
   ]
  },
  {
   "cell_type": "markdown",
   "metadata": {
    "id": "gf-vzkhoBDra"
   },
   "source": [
    "changing the learning rate in ADAM optimizer.\n",
    "Taking learning rate small, means model will learn slowly. So,taking more number of epochs."
   ]
  },
  {
   "cell_type": "code",
   "execution_count": 40,
   "metadata": {
    "id": "p8tNiLr0FlWq"
   },
   "outputs": [],
   "source": [
    "from keras import optimizers\n",
    "from keras.optimizers import Adam"
   ]
  },
  {
   "cell_type": "code",
   "execution_count": 41,
   "metadata": {
    "colab": {
     "base_uri": "https://localhost:8080/"
    },
    "id": "Up1JHqoVBMvS",
    "outputId": "efb345c9-bfea-40a3-9a9d-8b8e1c13fa7d"
   },
   "outputs": [
    {
     "name": "stdout",
     "output_type": "stream",
     "text": [
      "Epoch 1/100\n",
      "210/210 [==============================] - 6s 29ms/step - loss: 0.1615 - accuracy: 0.9468 - val_loss: 0.4245 - val_accuracy: 0.9160\n",
      "Epoch 2/100\n",
      "210/210 [==============================] - 6s 28ms/step - loss: 0.1373 - accuracy: 0.9547 - val_loss: 0.4280 - val_accuracy: 0.9170\n",
      "Epoch 3/100\n",
      "210/210 [==============================] - 6s 28ms/step - loss: 0.1440 - accuracy: 0.9500 - val_loss: 0.4375 - val_accuracy: 0.9125\n",
      "Epoch 4/100\n",
      "210/210 [==============================] - 6s 28ms/step - loss: 0.1171 - accuracy: 0.9606 - val_loss: 0.4679 - val_accuracy: 0.9035\n",
      "Epoch 5/100\n",
      "210/210 [==============================] - 6s 28ms/step - loss: 0.1078 - accuracy: 0.9631 - val_loss: 0.4656 - val_accuracy: 0.9107\n",
      "Epoch 6/100\n",
      "210/210 [==============================] - 6s 29ms/step - loss: 0.1508 - accuracy: 0.9495 - val_loss: 0.4054 - val_accuracy: 0.9264\n",
      "Epoch 7/100\n",
      "210/210 [==============================] - 6s 29ms/step - loss: 0.1021 - accuracy: 0.9651 - val_loss: 0.4007 - val_accuracy: 0.9271\n",
      "Epoch 8/100\n",
      "210/210 [==============================] - 6s 28ms/step - loss: 0.1331 - accuracy: 0.9557 - val_loss: 0.4033 - val_accuracy: 0.9266\n",
      "Epoch 9/100\n",
      "210/210 [==============================] - 6s 28ms/step - loss: 0.1186 - accuracy: 0.9600 - val_loss: 0.4296 - val_accuracy: 0.9216\n",
      "Epoch 10/100\n",
      "210/210 [==============================] - 6s 28ms/step - loss: 0.1060 - accuracy: 0.9654 - val_loss: 0.5016 - val_accuracy: 0.8981\n",
      "Epoch 11/100\n",
      "210/210 [==============================] - 6s 28ms/step - loss: 0.1198 - accuracy: 0.9605 - val_loss: 0.4376 - val_accuracy: 0.9211\n",
      "Epoch 12/100\n",
      "210/210 [==============================] - 6s 28ms/step - loss: 0.1201 - accuracy: 0.9600 - val_loss: 0.4205 - val_accuracy: 0.9266\n",
      "Epoch 13/100\n",
      "210/210 [==============================] - 6s 28ms/step - loss: 0.0950 - accuracy: 0.9672 - val_loss: 0.4696 - val_accuracy: 0.9084\n",
      "Epoch 14/100\n",
      "210/210 [==============================] - 6s 28ms/step - loss: 0.1603 - accuracy: 0.9464 - val_loss: 0.4846 - val_accuracy: 0.9043\n",
      "Epoch 15/100\n",
      "210/210 [==============================] - 6s 28ms/step - loss: 0.1329 - accuracy: 0.9544 - val_loss: 0.4587 - val_accuracy: 0.9139\n",
      "Epoch 16/100\n",
      "210/210 [==============================] - 6s 28ms/step - loss: 0.1157 - accuracy: 0.9607 - val_loss: 0.4513 - val_accuracy: 0.9133\n",
      "Epoch 17/100\n",
      "210/210 [==============================] - 6s 28ms/step - loss: 0.0971 - accuracy: 0.9672 - val_loss: 0.4586 - val_accuracy: 0.9178\n",
      "Epoch 18/100\n",
      "210/210 [==============================] - 6s 29ms/step - loss: 0.0972 - accuracy: 0.9655 - val_loss: 0.4425 - val_accuracy: 0.9205\n",
      "Epoch 19/100\n",
      "210/210 [==============================] - 6s 29ms/step - loss: 0.0964 - accuracy: 0.9686 - val_loss: 0.4526 - val_accuracy: 0.9189\n",
      "Epoch 20/100\n",
      "210/210 [==============================] - 6s 30ms/step - loss: 0.1086 - accuracy: 0.9642 - val_loss: 0.4673 - val_accuracy: 0.9103\n",
      "Epoch 21/100\n",
      "210/210 [==============================] - 6s 29ms/step - loss: 0.1078 - accuracy: 0.9616 - val_loss: 0.5521 - val_accuracy: 0.8924\n",
      "Epoch 22/100\n",
      "210/210 [==============================] - 6s 29ms/step - loss: 0.1366 - accuracy: 0.9547 - val_loss: 0.4304 - val_accuracy: 0.9267\n",
      "Epoch 23/100\n",
      "210/210 [==============================] - 6s 28ms/step - loss: 0.0853 - accuracy: 0.9713 - val_loss: 0.4538 - val_accuracy: 0.9192\n",
      "Epoch 24/100\n",
      "210/210 [==============================] - 6s 28ms/step - loss: 0.1119 - accuracy: 0.9628 - val_loss: 0.4499 - val_accuracy: 0.9183\n",
      "Epoch 25/100\n",
      "210/210 [==============================] - 6s 28ms/step - loss: 0.1110 - accuracy: 0.9625 - val_loss: 0.4671 - val_accuracy: 0.9150\n",
      "Epoch 26/100\n",
      "210/210 [==============================] - 6s 28ms/step - loss: 0.0933 - accuracy: 0.9679 - val_loss: 0.4448 - val_accuracy: 0.9252\n",
      "Epoch 27/100\n",
      "210/210 [==============================] - 6s 28ms/step - loss: 0.0995 - accuracy: 0.9657 - val_loss: 0.4657 - val_accuracy: 0.9195\n",
      "Epoch 28/100\n",
      "210/210 [==============================] - 6s 28ms/step - loss: 0.1382 - accuracy: 0.9550 - val_loss: 0.5053 - val_accuracy: 0.9108\n",
      "Epoch 29/100\n",
      "210/210 [==============================] - 6s 28ms/step - loss: 0.1347 - accuracy: 0.9542 - val_loss: 0.4287 - val_accuracy: 0.9251\n",
      "Epoch 30/100\n",
      "210/210 [==============================] - 6s 28ms/step - loss: 0.0924 - accuracy: 0.9689 - val_loss: 0.4559 - val_accuracy: 0.9210\n",
      "Epoch 31/100\n",
      "210/210 [==============================] - 6s 28ms/step - loss: 0.1131 - accuracy: 0.9615 - val_loss: 0.4613 - val_accuracy: 0.9166\n",
      "Epoch 32/100\n",
      "210/210 [==============================] - 6s 28ms/step - loss: 0.1227 - accuracy: 0.9596 - val_loss: 0.4991 - val_accuracy: 0.9086\n",
      "Epoch 33/100\n",
      "210/210 [==============================] - 6s 28ms/step - loss: 0.0966 - accuracy: 0.9679 - val_loss: 0.4504 - val_accuracy: 0.9267\n",
      "Epoch 34/100\n",
      "210/210 [==============================] - 6s 28ms/step - loss: 0.1049 - accuracy: 0.9636 - val_loss: 0.4808 - val_accuracy: 0.9140\n",
      "Epoch 35/100\n",
      "210/210 [==============================] - 6s 28ms/step - loss: 0.1016 - accuracy: 0.9646 - val_loss: 0.4558 - val_accuracy: 0.9250\n",
      "Epoch 36/100\n",
      "210/210 [==============================] - 6s 28ms/step - loss: 0.0860 - accuracy: 0.9702 - val_loss: 0.5131 - val_accuracy: 0.9126\n",
      "Epoch 37/100\n",
      "210/210 [==============================] - 6s 28ms/step - loss: 0.1360 - accuracy: 0.9544 - val_loss: 0.4455 - val_accuracy: 0.9222\n",
      "Epoch 38/100\n",
      "210/210 [==============================] - 6s 28ms/step - loss: 0.0969 - accuracy: 0.9669 - val_loss: 0.5144 - val_accuracy: 0.9072\n",
      "Epoch 39/100\n",
      "210/210 [==============================] - 6s 28ms/step - loss: 0.1171 - accuracy: 0.9605 - val_loss: 0.4334 - val_accuracy: 0.9319\n",
      "Epoch 40/100\n",
      "210/210 [==============================] - 6s 28ms/step - loss: 0.0712 - accuracy: 0.9767 - val_loss: 0.4628 - val_accuracy: 0.9251\n",
      "Epoch 41/100\n",
      "210/210 [==============================] - 6s 28ms/step - loss: 0.0924 - accuracy: 0.9687 - val_loss: 0.4985 - val_accuracy: 0.9075\n",
      "Epoch 42/100\n",
      "210/210 [==============================] - 6s 28ms/step - loss: 0.1183 - accuracy: 0.9588 - val_loss: 0.4843 - val_accuracy: 0.9124\n",
      "Epoch 43/100\n",
      "210/210 [==============================] - 6s 28ms/step - loss: 0.0927 - accuracy: 0.9678 - val_loss: 0.4238 - val_accuracy: 0.9336\n",
      "Epoch 44/100\n",
      "210/210 [==============================] - 6s 28ms/step - loss: 0.0566 - accuracy: 0.9809 - val_loss: 0.4867 - val_accuracy: 0.9203\n",
      "Epoch 45/100\n",
      "210/210 [==============================] - 6s 28ms/step - loss: 0.0883 - accuracy: 0.9711 - val_loss: 0.4525 - val_accuracy: 0.9286\n",
      "Epoch 46/100\n",
      "210/210 [==============================] - 6s 28ms/step - loss: 0.0892 - accuracy: 0.9708 - val_loss: 0.4863 - val_accuracy: 0.9177\n",
      "Epoch 47/100\n",
      "210/210 [==============================] - 6s 28ms/step - loss: 0.0952 - accuracy: 0.9673 - val_loss: 0.4781 - val_accuracy: 0.9220\n",
      "Epoch 48/100\n",
      "210/210 [==============================] - 6s 28ms/step - loss: 0.0748 - accuracy: 0.9746 - val_loss: 0.4588 - val_accuracy: 0.9302\n",
      "Epoch 49/100\n",
      "210/210 [==============================] - 6s 28ms/step - loss: 0.1101 - accuracy: 0.9620 - val_loss: 0.5187 - val_accuracy: 0.9124\n",
      "Epoch 50/100\n",
      "210/210 [==============================] - 6s 28ms/step - loss: 0.0933 - accuracy: 0.9686 - val_loss: 0.4956 - val_accuracy: 0.9196\n",
      "Epoch 51/100\n",
      "210/210 [==============================] - 6s 28ms/step - loss: 0.1170 - accuracy: 0.9602 - val_loss: 0.4686 - val_accuracy: 0.9247\n",
      "Epoch 52/100\n",
      "210/210 [==============================] - 6s 28ms/step - loss: 0.0701 - accuracy: 0.9768 - val_loss: 0.4680 - val_accuracy: 0.9275\n",
      "Epoch 53/100\n",
      "210/210 [==============================] - 6s 28ms/step - loss: 0.0961 - accuracy: 0.9681 - val_loss: 0.4974 - val_accuracy: 0.9197\n",
      "Epoch 54/100\n",
      "210/210 [==============================] - 6s 28ms/step - loss: 0.0935 - accuracy: 0.9689 - val_loss: 0.4857 - val_accuracy: 0.9193\n",
      "Epoch 55/100\n",
      "210/210 [==============================] - 6s 28ms/step - loss: 0.0914 - accuracy: 0.9692 - val_loss: 0.5304 - val_accuracy: 0.9164\n",
      "Epoch 56/100\n",
      "210/210 [==============================] - 6s 28ms/step - loss: 0.1118 - accuracy: 0.9637 - val_loss: 0.4894 - val_accuracy: 0.9183\n",
      "Epoch 57/100\n",
      "210/210 [==============================] - 6s 28ms/step - loss: 0.1188 - accuracy: 0.9600 - val_loss: 0.5072 - val_accuracy: 0.9172\n",
      "Epoch 58/100\n",
      "210/210 [==============================] - 6s 28ms/step - loss: 0.0747 - accuracy: 0.9746 - val_loss: 0.4789 - val_accuracy: 0.9230\n",
      "Epoch 59/100\n",
      "210/210 [==============================] - 6s 29ms/step - loss: 0.0989 - accuracy: 0.9670 - val_loss: 0.5193 - val_accuracy: 0.9135\n",
      "Epoch 60/100\n",
      "210/210 [==============================] - 6s 29ms/step - loss: 0.1345 - accuracy: 0.9555 - val_loss: 0.4859 - val_accuracy: 0.9174\n",
      "Epoch 61/100\n",
      "210/210 [==============================] - 6s 28ms/step - loss: 0.0965 - accuracy: 0.9694 - val_loss: 0.4410 - val_accuracy: 0.9365\n",
      "Epoch 62/100\n",
      "210/210 [==============================] - 6s 28ms/step - loss: 0.0514 - accuracy: 0.9824 - val_loss: 0.4543 - val_accuracy: 0.9377\n",
      "Epoch 63/100\n",
      "210/210 [==============================] - 6s 28ms/step - loss: 0.0662 - accuracy: 0.9782 - val_loss: 0.4821 - val_accuracy: 0.9268\n",
      "Epoch 64/100\n",
      "210/210 [==============================] - 6s 28ms/step - loss: 0.0727 - accuracy: 0.9762 - val_loss: 0.4685 - val_accuracy: 0.9330\n",
      "Epoch 65/100\n",
      "210/210 [==============================] - 6s 28ms/step - loss: 0.1131 - accuracy: 0.9635 - val_loss: 0.4959 - val_accuracy: 0.9148\n",
      "Epoch 66/100\n",
      "210/210 [==============================] - 6s 28ms/step - loss: 0.1200 - accuracy: 0.9602 - val_loss: 0.4958 - val_accuracy: 0.9171\n",
      "Epoch 67/100\n",
      "210/210 [==============================] - 6s 28ms/step - loss: 0.0713 - accuracy: 0.9752 - val_loss: 0.4705 - val_accuracy: 0.9322\n",
      "Epoch 68/100\n",
      "210/210 [==============================] - 6s 28ms/step - loss: 0.0866 - accuracy: 0.9704 - val_loss: 0.5221 - val_accuracy: 0.9178\n",
      "Epoch 69/100\n",
      "210/210 [==============================] - 6s 28ms/step - loss: 0.0721 - accuracy: 0.9757 - val_loss: 0.4741 - val_accuracy: 0.9298\n",
      "Epoch 70/100\n",
      "210/210 [==============================] - 6s 29ms/step - loss: 0.0976 - accuracy: 0.9685 - val_loss: 0.4955 - val_accuracy: 0.9255\n",
      "Epoch 71/100\n",
      "210/210 [==============================] - 6s 28ms/step - loss: 0.0669 - accuracy: 0.9770 - val_loss: 0.5194 - val_accuracy: 0.9174\n",
      "Epoch 72/100\n",
      "210/210 [==============================] - 6s 29ms/step - loss: 0.0956 - accuracy: 0.9676 - val_loss: 0.4666 - val_accuracy: 0.9255\n",
      "Epoch 73/100\n",
      "210/210 [==============================] - 6s 29ms/step - loss: 0.0628 - accuracy: 0.9794 - val_loss: 0.4900 - val_accuracy: 0.9253\n",
      "Epoch 74/100\n",
      "210/210 [==============================] - 6s 28ms/step - loss: 0.0689 - accuracy: 0.9762 - val_loss: 0.4599 - val_accuracy: 0.9344\n",
      "Epoch 75/100\n",
      "210/210 [==============================] - 6s 28ms/step - loss: 0.0758 - accuracy: 0.9736 - val_loss: 0.4633 - val_accuracy: 0.9363\n",
      "Epoch 76/100\n",
      "210/210 [==============================] - 6s 28ms/step - loss: 0.0875 - accuracy: 0.9717 - val_loss: 0.4604 - val_accuracy: 0.9323\n",
      "Epoch 77/100\n",
      "210/210 [==============================] - 6s 28ms/step - loss: 0.0687 - accuracy: 0.9763 - val_loss: 0.4816 - val_accuracy: 0.9344\n",
      "Epoch 78/100\n",
      "210/210 [==============================] - 6s 28ms/step - loss: 0.0711 - accuracy: 0.9772 - val_loss: 0.5164 - val_accuracy: 0.9223\n",
      "Epoch 79/100\n",
      "210/210 [==============================] - 6s 28ms/step - loss: 0.0853 - accuracy: 0.9709 - val_loss: 0.4984 - val_accuracy: 0.9273\n",
      "Epoch 80/100\n",
      "210/210 [==============================] - 6s 28ms/step - loss: 0.1145 - accuracy: 0.9621 - val_loss: 0.4758 - val_accuracy: 0.9280\n",
      "Epoch 81/100\n",
      "210/210 [==============================] - 6s 28ms/step - loss: 0.0718 - accuracy: 0.9752 - val_loss: 0.4674 - val_accuracy: 0.9360\n",
      "Epoch 82/100\n",
      "210/210 [==============================] - 6s 28ms/step - loss: 0.0575 - accuracy: 0.9804 - val_loss: 0.5704 - val_accuracy: 0.9092\n",
      "Epoch 83/100\n",
      "210/210 [==============================] - 6s 28ms/step - loss: 0.1265 - accuracy: 0.9582 - val_loss: 0.4730 - val_accuracy: 0.9288\n",
      "Epoch 84/100\n",
      "210/210 [==============================] - 6s 28ms/step - loss: 0.0570 - accuracy: 0.9811 - val_loss: 0.4971 - val_accuracy: 0.9283\n",
      "Epoch 85/100\n",
      "210/210 [==============================] - 6s 28ms/step - loss: 0.0614 - accuracy: 0.9787 - val_loss: 0.6182 - val_accuracy: 0.8985\n",
      "Epoch 86/100\n",
      "210/210 [==============================] - 6s 28ms/step - loss: 0.1103 - accuracy: 0.9637 - val_loss: 0.5141 - val_accuracy: 0.9220\n",
      "Epoch 87/100\n",
      "210/210 [==============================] - 6s 28ms/step - loss: 0.0997 - accuracy: 0.9676 - val_loss: 0.4836 - val_accuracy: 0.9326\n",
      "Epoch 88/100\n",
      "210/210 [==============================] - 6s 28ms/step - loss: 0.0602 - accuracy: 0.9800 - val_loss: 0.5710 - val_accuracy: 0.9115\n",
      "Epoch 89/100\n",
      "210/210 [==============================] - 6s 28ms/step - loss: 0.0783 - accuracy: 0.9744 - val_loss: 0.5358 - val_accuracy: 0.9205\n",
      "Epoch 90/100\n",
      "210/210 [==============================] - 6s 28ms/step - loss: 0.0974 - accuracy: 0.9683 - val_loss: 0.5244 - val_accuracy: 0.9244\n",
      "Epoch 91/100\n",
      "210/210 [==============================] - 6s 28ms/step - loss: 0.0717 - accuracy: 0.9754 - val_loss: 0.4973 - val_accuracy: 0.9305\n",
      "Epoch 92/100\n",
      "210/210 [==============================] - 6s 28ms/step - loss: 0.0604 - accuracy: 0.9797 - val_loss: 0.5119 - val_accuracy: 0.9227\n",
      "Epoch 93/100\n",
      "210/210 [==============================] - 6s 28ms/step - loss: 0.0921 - accuracy: 0.9696 - val_loss: 0.5776 - val_accuracy: 0.9072\n",
      "Epoch 94/100\n",
      "210/210 [==============================] - 6s 28ms/step - loss: 0.0630 - accuracy: 0.9788 - val_loss: 0.4961 - val_accuracy: 0.9325\n",
      "Epoch 95/100\n",
      "210/210 [==============================] - 6s 28ms/step - loss: 0.0696 - accuracy: 0.9769 - val_loss: 0.5229 - val_accuracy: 0.9189\n",
      "Epoch 96/100\n",
      "210/210 [==============================] - 6s 28ms/step - loss: 0.1213 - accuracy: 0.9598 - val_loss: 0.5709 - val_accuracy: 0.9082\n",
      "Epoch 97/100\n",
      "210/210 [==============================] - 6s 28ms/step - loss: 0.0982 - accuracy: 0.9676 - val_loss: 0.4786 - val_accuracy: 0.9343\n",
      "Epoch 98/100\n",
      "210/210 [==============================] - 6s 28ms/step - loss: 0.0480 - accuracy: 0.9847 - val_loss: 0.4669 - val_accuracy: 0.9426\n",
      "Epoch 99/100\n",
      "210/210 [==============================] - 6s 28ms/step - loss: 0.0439 - accuracy: 0.9854 - val_loss: 0.4958 - val_accuracy: 0.9342\n",
      "Epoch 100/100\n",
      "210/210 [==============================] - 6s 29ms/step - loss: 0.0630 - accuracy: 0.9791 - val_loss: 0.5507 - val_accuracy: 0.9200\n"
     ]
    }
   ],
   "source": [
    "\n",
    "#Setting the learning rate and decay in adam\n",
    "adam = optimizers.Adam(lr = 0.0001)\n",
    "# compiling the ANN classifier\n",
    "keras_model.compile(optimizer = 'adam', loss = 'categorical_crossentropy', metrics = ['accuracy'])\n",
    "# Fitting the ANN to the Training data\n",
    "history_3 = keras_model.fit(X_train, y_train, validation_data=(X_val, y_val), batch_size = 200, epochs = 100, verbose = 1)"
   ]
  },
  {
   "cell_type": "code",
   "execution_count": 43,
   "metadata": {
    "colab": {
     "base_uri": "https://localhost:8080/"
    },
    "id": "dgwxr76wEe_j",
    "outputId": "3956b4e0-d077-4431-c3d6-a62e418714fc"
   },
   "outputs": [
    {
     "name": "stdout",
     "output_type": "stream",
     "text": [
      "1875/1875 [==============================] - 7s 3ms/step - loss: 0.5507 - accuracy: 0.9200\n",
      "Validation accuracy using learning rate = 0.0001 (ADAM) :  0.9199666380882263\n"
     ]
    }
   ],
   "source": [
    "results_adam = keras_model.evaluate(X_val, y_val)\n",
    "print('Validation accuracy using learning rate = 0.0001 (ADAM) : ', results_adam[1])"
   ]
  },
  {
   "cell_type": "markdown",
   "metadata": {
    "id": "dQWDJNk4FEFj"
   },
   "source": [
    "The accuracy of the model on validation data using ADAM with learning rate = 0.0001 has shown significant improvement from 80.29% to 91.99%"
   ]
  },
  {
   "cell_type": "code",
   "execution_count": 60,
   "metadata": {
    "colab": {
     "base_uri": "https://localhost:8080/"
    },
    "id": "_9ocoBxhN5mW",
    "outputId": "b535f04b-4537-41b1-c6b5-7ecf6f2df5aa"
   },
   "outputs": [
    {
     "name": "stdout",
     "output_type": "stream",
     "text": [
      "Epoch 1/50\n",
      "210/210 [==============================] - 5s 22ms/step - loss: 0.0800 - accuracy: 0.9750 - val_loss: 1.6323 - val_accuracy: 0.8239\n",
      "Epoch 2/50\n",
      "210/210 [==============================] - 4s 21ms/step - loss: 0.0596 - accuracy: 0.9802 - val_loss: 1.7162 - val_accuracy: 0.8108\n",
      "Epoch 3/50\n",
      "210/210 [==============================] - 4s 21ms/step - loss: 0.0955 - accuracy: 0.9700 - val_loss: 1.5805 - val_accuracy: 0.8240\n",
      "Epoch 4/50\n",
      "210/210 [==============================] - 4s 21ms/step - loss: 0.0332 - accuracy: 0.9897 - val_loss: 1.6561 - val_accuracy: 0.8196\n",
      "Epoch 5/50\n",
      "210/210 [==============================] - 4s 21ms/step - loss: 0.0582 - accuracy: 0.9800 - val_loss: 1.6165 - val_accuracy: 0.8083\n",
      "Epoch 6/50\n",
      "210/210 [==============================] - 4s 21ms/step - loss: 0.0617 - accuracy: 0.9793 - val_loss: 1.6479 - val_accuracy: 0.8189\n",
      "Epoch 7/50\n",
      "210/210 [==============================] - 4s 21ms/step - loss: 0.0966 - accuracy: 0.9700 - val_loss: 1.5737 - val_accuracy: 0.8196\n",
      "Epoch 8/50\n",
      "210/210 [==============================] - 4s 21ms/step - loss: 0.0575 - accuracy: 0.9807 - val_loss: 1.5896 - val_accuracy: 0.8240\n",
      "Epoch 9/50\n",
      "210/210 [==============================] - 4s 21ms/step - loss: 0.0137 - accuracy: 0.9967 - val_loss: 1.7399 - val_accuracy: 0.8122\n",
      "Epoch 10/50\n",
      "210/210 [==============================] - 4s 21ms/step - loss: 0.0968 - accuracy: 0.9691 - val_loss: 1.6995 - val_accuracy: 0.8124\n",
      "Epoch 11/50\n",
      "210/210 [==============================] - 4s 21ms/step - loss: 0.0704 - accuracy: 0.9759 - val_loss: 1.6023 - val_accuracy: 0.8209\n",
      "Epoch 12/50\n",
      "210/210 [==============================] - 4s 21ms/step - loss: 0.0314 - accuracy: 0.9903 - val_loss: 1.6964 - val_accuracy: 0.8163\n",
      "Epoch 13/50\n",
      "210/210 [==============================] - 4s 21ms/step - loss: 0.0877 - accuracy: 0.9729 - val_loss: 1.6618 - val_accuracy: 0.8041\n",
      "Epoch 14/50\n",
      "210/210 [==============================] - 4s 21ms/step - loss: 0.1130 - accuracy: 0.9630 - val_loss: 1.5413 - val_accuracy: 0.8271\n",
      "Epoch 15/50\n",
      "210/210 [==============================] - 4s 21ms/step - loss: 0.0323 - accuracy: 0.9900 - val_loss: 1.6639 - val_accuracy: 0.8248\n",
      "Epoch 16/50\n",
      "210/210 [==============================] - 4s 21ms/step - loss: 0.0311 - accuracy: 0.9897 - val_loss: 1.7156 - val_accuracy: 0.8144\n",
      "Epoch 17/50\n",
      "210/210 [==============================] - 4s 21ms/step - loss: 0.0507 - accuracy: 0.9832 - val_loss: 1.7331 - val_accuracy: 0.7947\n",
      "Epoch 18/50\n",
      "210/210 [==============================] - 4s 21ms/step - loss: 0.1316 - accuracy: 0.9594 - val_loss: 1.5763 - val_accuracy: 0.8270\n",
      "Epoch 19/50\n",
      "210/210 [==============================] - 4s 21ms/step - loss: 0.0380 - accuracy: 0.9874 - val_loss: 1.6193 - val_accuracy: 0.8248\n",
      "Epoch 20/50\n",
      "210/210 [==============================] - 4s 21ms/step - loss: 0.0569 - accuracy: 0.9808 - val_loss: 1.6732 - val_accuracy: 0.8201\n",
      "Epoch 21/50\n",
      "210/210 [==============================] - 4s 21ms/step - loss: 0.0996 - accuracy: 0.9696 - val_loss: 1.6511 - val_accuracy: 0.8156\n",
      "Epoch 22/50\n",
      "210/210 [==============================] - 4s 21ms/step - loss: 0.0711 - accuracy: 0.9771 - val_loss: 1.5931 - val_accuracy: 0.8136\n",
      "Epoch 23/50\n",
      "210/210 [==============================] - 4s 21ms/step - loss: 0.0459 - accuracy: 0.9841 - val_loss: 1.6610 - val_accuracy: 0.8165\n",
      "Epoch 24/50\n",
      "210/210 [==============================] - 4s 21ms/step - loss: 0.0519 - accuracy: 0.9825 - val_loss: 1.6490 - val_accuracy: 0.8236\n",
      "Epoch 25/50\n",
      "210/210 [==============================] - 4s 21ms/step - loss: 0.0414 - accuracy: 0.9866 - val_loss: 1.6675 - val_accuracy: 0.8167\n",
      "Epoch 26/50\n",
      "210/210 [==============================] - 4s 21ms/step - loss: 0.0503 - accuracy: 0.9840 - val_loss: 1.6882 - val_accuracy: 0.8174\n",
      "Epoch 27/50\n",
      "210/210 [==============================] - 4s 21ms/step - loss: 0.0853 - accuracy: 0.9717 - val_loss: 1.6803 - val_accuracy: 0.8162\n",
      "Epoch 28/50\n",
      "210/210 [==============================] - 4s 21ms/step - loss: 0.0990 - accuracy: 0.9684 - val_loss: 1.6096 - val_accuracy: 0.8201\n",
      "Epoch 29/50\n",
      "210/210 [==============================] - 4s 21ms/step - loss: 0.0488 - accuracy: 0.9843 - val_loss: 1.6411 - val_accuracy: 0.8273\n",
      "Epoch 30/50\n",
      "210/210 [==============================] - 4s 21ms/step - loss: 0.0223 - accuracy: 0.9925 - val_loss: 1.7172 - val_accuracy: 0.8188\n",
      "Epoch 31/50\n",
      "210/210 [==============================] - 4s 21ms/step - loss: 0.0543 - accuracy: 0.9816 - val_loss: 1.6629 - val_accuracy: 0.8169\n",
      "Epoch 32/50\n",
      "210/210 [==============================] - 4s 21ms/step - loss: 0.0912 - accuracy: 0.9723 - val_loss: 1.6206 - val_accuracy: 0.8240\n",
      "Epoch 33/50\n",
      "210/210 [==============================] - 5s 22ms/step - loss: 0.0691 - accuracy: 0.9776 - val_loss: 1.6640 - val_accuracy: 0.8119\n",
      "Epoch 34/50\n",
      "210/210 [==============================] - 4s 21ms/step - loss: 0.0505 - accuracy: 0.9843 - val_loss: 1.6387 - val_accuracy: 0.8242\n",
      "Epoch 35/50\n",
      "210/210 [==============================] - 4s 21ms/step - loss: 0.0173 - accuracy: 0.9945 - val_loss: 1.6806 - val_accuracy: 0.8292\n",
      "Epoch 36/50\n",
      "210/210 [==============================] - 4s 21ms/step - loss: 0.0091 - accuracy: 0.9978 - val_loss: 1.7273 - val_accuracy: 0.8269\n",
      "Epoch 37/50\n",
      "210/210 [==============================] - 4s 21ms/step - loss: 0.0389 - accuracy: 0.9878 - val_loss: 1.7602 - val_accuracy: 0.7963\n",
      "Epoch 38/50\n",
      "210/210 [==============================] - 4s 21ms/step - loss: 0.2066 - accuracy: 0.9419 - val_loss: 1.4910 - val_accuracy: 0.8227\n",
      "Epoch 39/50\n",
      "210/210 [==============================] - 4s 21ms/step - loss: 0.0305 - accuracy: 0.9910 - val_loss: 1.6395 - val_accuracy: 0.8182\n",
      "Epoch 40/50\n",
      "210/210 [==============================] - 5s 22ms/step - loss: 0.0332 - accuracy: 0.9893 - val_loss: 1.6449 - val_accuracy: 0.8261\n",
      "Epoch 41/50\n",
      "210/210 [==============================] - 5s 22ms/step - loss: 0.0331 - accuracy: 0.9899 - val_loss: 1.6549 - val_accuracy: 0.8113\n",
      "Epoch 42/50\n",
      "210/210 [==============================] - 5s 22ms/step - loss: 0.0868 - accuracy: 0.9730 - val_loss: 1.6383 - val_accuracy: 0.8235\n",
      "Epoch 43/50\n",
      "210/210 [==============================] - 5s 22ms/step - loss: 0.0604 - accuracy: 0.9803 - val_loss: 1.6933 - val_accuracy: 0.8196\n",
      "Epoch 44/50\n",
      "210/210 [==============================] - 5s 22ms/step - loss: 0.0398 - accuracy: 0.9870 - val_loss: 1.6703 - val_accuracy: 0.8176\n",
      "Epoch 45/50\n",
      "210/210 [==============================] - 5s 22ms/step - loss: 0.0823 - accuracy: 0.9738 - val_loss: 1.5878 - val_accuracy: 0.8178\n",
      "Epoch 46/50\n",
      "210/210 [==============================] - 4s 21ms/step - loss: 0.0604 - accuracy: 0.9809 - val_loss: 1.6504 - val_accuracy: 0.8207\n",
      "Epoch 47/50\n",
      "210/210 [==============================] - 4s 21ms/step - loss: 0.0314 - accuracy: 0.9909 - val_loss: 1.6365 - val_accuracy: 0.8228\n",
      "Epoch 48/50\n",
      "210/210 [==============================] - 4s 21ms/step - loss: 0.0097 - accuracy: 0.9975 - val_loss: 1.7299 - val_accuracy: 0.8190\n",
      "Epoch 49/50\n",
      "210/210 [==============================] - 4s 21ms/step - loss: 0.0603 - accuracy: 0.9814 - val_loss: 1.6715 - val_accuracy: 0.8122\n",
      "Epoch 50/50\n",
      "210/210 [==============================] - 4s 21ms/step - loss: 0.0607 - accuracy: 0.9794 - val_loss: 1.6113 - val_accuracy: 0.8196\n"
     ]
    }
   ],
   "source": [
    "#Testing model on test data\n",
    "adam = optimizers.Adam(lr = 0.0001)\n",
    "# compiling the ANN classifier\n",
    "keras_model.compile(optimizer = 'adam', loss = 'categorical_crossentropy', metrics = ['accuracy'])\n",
    "# Fitting the ANN to the Training data\n",
    "history_t1 = keras_model.fit(X_train, y_train, validation_data=(X_test, y_test), batch_size = 200, epochs = 50, verbose = 1)"
   ]
  },
  {
   "cell_type": "code",
   "execution_count": 61,
   "metadata": {
    "colab": {
     "base_uri": "https://localhost:8080/"
    },
    "id": "y4ncywYnOLq7",
    "outputId": "56ff0b0f-55a7-4e07-bc8e-af2ed6a0ed24"
   },
   "outputs": [
    {
     "name": "stdout",
     "output_type": "stream",
     "text": [
      "563/563 [==============================] - 2s 3ms/step - loss: 1.6113 - accuracy: 0.8196\n",
      "Loss and accuracy using learning rate = 0.0001 (ADAM) :  0.819611132144928\n"
     ]
    }
   ],
   "source": [
    "test1 = keras_model.evaluate(X_test, y_test)\n",
    "print('Loss and accuracy using learning rate = 0.0001 (ADAM) : ', test1[1])"
   ]
  },
  {
   "cell_type": "markdown",
   "metadata": {
    "id": "4hHIJdQnTEvE"
   },
   "source": [
    "Loss and accuracy using learning rate 0.0001 (ADAM) for the test data = 81.96%"
   ]
  },
  {
   "cell_type": "markdown",
   "metadata": {
    "id": "VcqzGzHIFMna"
   },
   "source": [
    "**Implementing (vectorized) Backpropagation (cost stochastic gradient descent, cross entropy loss, cost functions)**"
   ]
  },
  {
   "cell_type": "code",
   "execution_count": 44,
   "metadata": {
    "id": "ba_bAw2SFWwQ"
   },
   "outputs": [],
   "source": [
    "#Initialize Artificial Neural Network Classifier\n",
    "keras_model_2 = Sequential()"
   ]
  },
  {
   "cell_type": "code",
   "execution_count": 45,
   "metadata": {
    "id": "sEwLAuAzFZFC"
   },
   "outputs": [],
   "source": [
    "# Input Layer\n",
    "#Adding Input layer and activation functions ReLU\n",
    "keras_model_2.add(Dense(512, kernel_initializer = 'he_normal', input_shape = (1024, )))\n",
    "\n",
    "#Adding Activation function\n",
    "keras_model_2.add(Activation('relu'))\n",
    "\n",
    "#Hidden Layer 1\n",
    "#Adding first Hidden layer of 256 nodes\n",
    "keras_model_2.add(Dense(256, kernel_initializer = 'he_normal'))\n",
    "\n",
    "#Adding Activation function\n",
    "keras_model_2.add(Activation('relu'))\n",
    "\n",
    "#Hidden Layer 2\n",
    "#Adding second Hidden layer of 128 nodes\n",
    "keras_model_2.add(Dense(128, kernel_initializer = 'he_normal'))\n",
    "\n",
    "#Adding Activation function\n",
    "keras_model_2.add(Activation('relu'))\n",
    "\n",
    "#Hidden Layer 3\n",
    "#Adding third Hidden layer of 64 nodes\n",
    "keras_model_2.add(Dense(64, kernel_initializer = 'he_normal'))\n",
    "\n",
    "#Adding Activation function\n",
    "keras_model_2.add(Activation('relu'))\n",
    "\n",
    "#Hidden Layer 4\n",
    "#Adding fourth Hidden layer of 32 nodes\n",
    "keras_model_2.add(Dense(32, kernel_initializer = 'he_normal'))\n",
    "\n",
    "#Adding Activation function\n",
    "keras_model_2.add(Activation('relu'))\n",
    "\n",
    "# Output Layer\n",
    "#Adding output layer which is of 10 nodes (digits)\n",
    "keras_model_2.add(Dense(10))\n",
    "#Adding Activation function\n",
    "# Here, we are using softmax function because we have multiclass classsification\n",
    "keras_model_2.add(Activation('softmax'))"
   ]
  },
  {
   "cell_type": "code",
   "execution_count": 46,
   "metadata": {
    "colab": {
     "base_uri": "https://localhost:8080/"
    },
    "id": "E0t1QxLsFqYK",
    "outputId": "3ee32e3c-9f60-47b5-f18a-8be5954a9467"
   },
   "outputs": [
    {
     "name": "stdout",
     "output_type": "stream",
     "text": [
      "Model: \"sequential_1\"\n",
      "_________________________________________________________________\n",
      "Layer (type)                 Output Shape              Param #   \n",
      "=================================================================\n",
      "dense_6 (Dense)              (None, 512)               524800    \n",
      "_________________________________________________________________\n",
      "activation_6 (Activation)    (None, 512)               0         \n",
      "_________________________________________________________________\n",
      "dense_7 (Dense)              (None, 256)               131328    \n",
      "_________________________________________________________________\n",
      "activation_7 (Activation)    (None, 256)               0         \n",
      "_________________________________________________________________\n",
      "dense_8 (Dense)              (None, 128)               32896     \n",
      "_________________________________________________________________\n",
      "activation_8 (Activation)    (None, 128)               0         \n",
      "_________________________________________________________________\n",
      "dense_9 (Dense)              (None, 64)                8256      \n",
      "_________________________________________________________________\n",
      "activation_9 (Activation)    (None, 64)                0         \n",
      "_________________________________________________________________\n",
      "dense_10 (Dense)             (None, 32)                2080      \n",
      "_________________________________________________________________\n",
      "activation_10 (Activation)   (None, 32)                0         \n",
      "_________________________________________________________________\n",
      "dense_11 (Dense)             (None, 10)                330       \n",
      "_________________________________________________________________\n",
      "activation_11 (Activation)   (None, 10)                0         \n",
      "=================================================================\n",
      "Total params: 699,690\n",
      "Trainable params: 699,690\n",
      "Non-trainable params: 0\n",
      "_________________________________________________________________\n"
     ]
    }
   ],
   "source": [
    "keras_model_2.summary()"
   ]
  },
  {
   "cell_type": "code",
   "execution_count": 47,
   "metadata": {
    "id": "zypLOZe-Fvua"
   },
   "outputs": [],
   "source": [
    "#Setting the learning rate in Adam\n",
    "adam = optimizers.Adam(lr = 0.001)\n",
    "# compiling the ANN classifier\n",
    "keras_model_2.compile(optimizer = 'adam', loss = 'categorical_crossentropy', metrics = ['accuracy'])"
   ]
  },
  {
   "cell_type": "code",
   "execution_count": 48,
   "metadata": {
    "colab": {
     "base_uri": "https://localhost:8080/"
    },
    "id": "Ef9QzlE4G-_y",
    "outputId": "86167a7f-01e2-422b-9f82-bb477929c06c"
   },
   "outputs": [
    {
     "name": "stdout",
     "output_type": "stream",
     "text": [
      "Epoch 1/100\n",
      "210/210 [==============================] - 7s 29ms/step - loss: 2.3283 - accuracy: 0.0983 - val_loss: 2.3026 - val_accuracy: 0.1000\n",
      "Epoch 2/100\n",
      "210/210 [==============================] - 6s 29ms/step - loss: 2.3027 - accuracy: 0.0972 - val_loss: 2.3026 - val_accuracy: 0.1000\n",
      "Epoch 3/100\n",
      "210/210 [==============================] - 6s 29ms/step - loss: 2.3025 - accuracy: 0.1012 - val_loss: 2.3026 - val_accuracy: 0.1000\n",
      "Epoch 4/100\n",
      "210/210 [==============================] - 6s 29ms/step - loss: 2.3026 - accuracy: 0.1019 - val_loss: 2.3026 - val_accuracy: 0.1000\n",
      "Epoch 5/100\n",
      "210/210 [==============================] - 6s 28ms/step - loss: 2.3027 - accuracy: 0.1005 - val_loss: 2.3026 - val_accuracy: 0.1000\n",
      "Epoch 6/100\n",
      "210/210 [==============================] - 6s 28ms/step - loss: 2.3027 - accuracy: 0.1003 - val_loss: 2.3026 - val_accuracy: 0.1000\n",
      "Epoch 7/100\n",
      "210/210 [==============================] - 6s 28ms/step - loss: 2.3026 - accuracy: 0.1012 - val_loss: 2.3026 - val_accuracy: 0.1000\n",
      "Epoch 8/100\n",
      "210/210 [==============================] - 6s 28ms/step - loss: 2.3026 - accuracy: 0.1010 - val_loss: 2.3026 - val_accuracy: 0.1000\n",
      "Epoch 9/100\n",
      "210/210 [==============================] - 6s 28ms/step - loss: 2.3026 - accuracy: 0.1033 - val_loss: 2.3026 - val_accuracy: 0.1000\n",
      "Epoch 10/100\n",
      "210/210 [==============================] - 6s 28ms/step - loss: 2.3026 - accuracy: 0.1039 - val_loss: 2.3026 - val_accuracy: 0.1000\n",
      "Epoch 11/100\n",
      "210/210 [==============================] - 6s 28ms/step - loss: 2.3026 - accuracy: 0.1026 - val_loss: 2.3026 - val_accuracy: 0.1000\n",
      "Epoch 12/100\n",
      "210/210 [==============================] - 6s 28ms/step - loss: 2.3026 - accuracy: 0.1027 - val_loss: 2.3026 - val_accuracy: 0.1000\n",
      "Epoch 13/100\n",
      "210/210 [==============================] - 6s 28ms/step - loss: 2.3026 - accuracy: 0.1024 - val_loss: 2.3026 - val_accuracy: 0.1000\n",
      "Epoch 14/100\n",
      "210/210 [==============================] - 6s 28ms/step - loss: 2.3026 - accuracy: 0.1025 - val_loss: 2.3026 - val_accuracy: 0.1000\n",
      "Epoch 15/100\n",
      "210/210 [==============================] - 6s 28ms/step - loss: 2.3026 - accuracy: 0.1004 - val_loss: 2.3026 - val_accuracy: 0.1000\n",
      "Epoch 16/100\n",
      "210/210 [==============================] - 6s 28ms/step - loss: 2.3026 - accuracy: 0.1008 - val_loss: 2.3026 - val_accuracy: 0.1000\n",
      "Epoch 17/100\n",
      "210/210 [==============================] - 6s 28ms/step - loss: 2.3026 - accuracy: 0.1002 - val_loss: 2.3026 - val_accuracy: 0.1000\n",
      "Epoch 18/100\n",
      "210/210 [==============================] - 6s 28ms/step - loss: 2.3026 - accuracy: 0.1011 - val_loss: 2.3026 - val_accuracy: 0.1000\n",
      "Epoch 19/100\n",
      "210/210 [==============================] - 6s 28ms/step - loss: 2.3026 - accuracy: 0.1015 - val_loss: 2.3026 - val_accuracy: 0.1000\n",
      "Epoch 20/100\n",
      "210/210 [==============================] - 6s 28ms/step - loss: 2.3026 - accuracy: 0.1031 - val_loss: 2.3026 - val_accuracy: 0.1000\n",
      "Epoch 21/100\n",
      "210/210 [==============================] - 6s 28ms/step - loss: 2.3026 - accuracy: 0.1021 - val_loss: 2.3026 - val_accuracy: 0.1000\n",
      "Epoch 22/100\n",
      "210/210 [==============================] - 6s 28ms/step - loss: 2.3027 - accuracy: 0.0988 - val_loss: 2.3026 - val_accuracy: 0.1000\n",
      "Epoch 23/100\n",
      "210/210 [==============================] - 6s 28ms/step - loss: 2.3026 - accuracy: 0.1016 - val_loss: 2.3026 - val_accuracy: 0.1000\n",
      "Epoch 24/100\n",
      "210/210 [==============================] - 6s 28ms/step - loss: 2.3026 - accuracy: 0.0993 - val_loss: 2.3026 - val_accuracy: 0.1000\n",
      "Epoch 25/100\n",
      "210/210 [==============================] - 6s 28ms/step - loss: 2.3026 - accuracy: 0.1025 - val_loss: 2.3026 - val_accuracy: 0.1000\n",
      "Epoch 26/100\n",
      "210/210 [==============================] - 6s 28ms/step - loss: 2.3026 - accuracy: 0.1017 - val_loss: 2.3026 - val_accuracy: 0.1000\n",
      "Epoch 27/100\n",
      "210/210 [==============================] - 6s 28ms/step - loss: 2.3026 - accuracy: 0.1000 - val_loss: 2.3026 - val_accuracy: 0.1000\n",
      "Epoch 28/100\n",
      "210/210 [==============================] - 6s 28ms/step - loss: 2.3026 - accuracy: 0.0967 - val_loss: 2.3026 - val_accuracy: 0.1000\n",
      "Epoch 29/100\n",
      "210/210 [==============================] - 6s 28ms/step - loss: 2.3026 - accuracy: 0.1028 - val_loss: 2.3026 - val_accuracy: 0.1000\n",
      "Epoch 30/100\n",
      "210/210 [==============================] - 6s 28ms/step - loss: 2.3026 - accuracy: 0.0985 - val_loss: 2.3026 - val_accuracy: 0.1000\n",
      "Epoch 31/100\n",
      "210/210 [==============================] - 6s 28ms/step - loss: 2.3026 - accuracy: 0.1031 - val_loss: 2.3026 - val_accuracy: 0.1000\n",
      "Epoch 32/100\n",
      "210/210 [==============================] - 6s 28ms/step - loss: 2.3025 - accuracy: 0.1050 - val_loss: 2.3026 - val_accuracy: 0.1000\n",
      "Epoch 33/100\n",
      "210/210 [==============================] - 6s 28ms/step - loss: 2.3026 - accuracy: 0.0984 - val_loss: 2.3026 - val_accuracy: 0.1000\n",
      "Epoch 34/100\n",
      "210/210 [==============================] - 6s 28ms/step - loss: 2.3026 - accuracy: 0.1041 - val_loss: 2.3026 - val_accuracy: 0.1000\n",
      "Epoch 35/100\n",
      "210/210 [==============================] - 6s 28ms/step - loss: 2.3026 - accuracy: 0.1018 - val_loss: 2.3026 - val_accuracy: 0.1000\n",
      "Epoch 36/100\n",
      "210/210 [==============================] - 6s 28ms/step - loss: 2.3026 - accuracy: 0.1013 - val_loss: 2.3026 - val_accuracy: 0.1000\n",
      "Epoch 37/100\n",
      "210/210 [==============================] - 6s 28ms/step - loss: 2.3026 - accuracy: 0.1007 - val_loss: 2.3026 - val_accuracy: 0.1000\n",
      "Epoch 38/100\n",
      "210/210 [==============================] - 6s 28ms/step - loss: 2.3026 - accuracy: 0.1035 - val_loss: 2.3026 - val_accuracy: 0.1000\n",
      "Epoch 39/100\n",
      "210/210 [==============================] - 6s 28ms/step - loss: 2.3026 - accuracy: 0.1001 - val_loss: 2.3026 - val_accuracy: 0.1000\n",
      "Epoch 40/100\n",
      "210/210 [==============================] - 6s 29ms/step - loss: 2.3026 - accuracy: 0.1002 - val_loss: 2.3026 - val_accuracy: 0.1000\n",
      "Epoch 41/100\n",
      "210/210 [==============================] - 6s 28ms/step - loss: 2.3026 - accuracy: 0.1012 - val_loss: 2.3026 - val_accuracy: 0.1000\n",
      "Epoch 42/100\n",
      "210/210 [==============================] - 6s 28ms/step - loss: 2.3026 - accuracy: 0.1020 - val_loss: 2.3026 - val_accuracy: 0.1000\n",
      "Epoch 43/100\n",
      "210/210 [==============================] - 6s 28ms/step - loss: 2.3025 - accuracy: 0.1020 - val_loss: 2.3026 - val_accuracy: 0.1000\n",
      "Epoch 44/100\n",
      "210/210 [==============================] - 6s 28ms/step - loss: 2.3026 - accuracy: 0.1007 - val_loss: 2.3026 - val_accuracy: 0.1000\n",
      "Epoch 45/100\n",
      "210/210 [==============================] - 6s 28ms/step - loss: 2.3026 - accuracy: 0.1013 - val_loss: 2.3026 - val_accuracy: 0.1000\n",
      "Epoch 46/100\n",
      "210/210 [==============================] - 6s 28ms/step - loss: 2.3026 - accuracy: 0.1019 - val_loss: 2.3026 - val_accuracy: 0.1000\n",
      "Epoch 47/100\n",
      "210/210 [==============================] - 6s 28ms/step - loss: 2.3026 - accuracy: 0.1023 - val_loss: 2.3026 - val_accuracy: 0.1000\n",
      "Epoch 48/100\n",
      "210/210 [==============================] - 6s 28ms/step - loss: 2.3026 - accuracy: 0.1010 - val_loss: 2.3026 - val_accuracy: 0.1000\n",
      "Epoch 49/100\n",
      "210/210 [==============================] - 6s 28ms/step - loss: 2.3026 - accuracy: 0.1017 - val_loss: 2.3026 - val_accuracy: 0.1000\n",
      "Epoch 50/100\n",
      "210/210 [==============================] - 6s 28ms/step - loss: 2.3026 - accuracy: 0.1026 - val_loss: 2.3026 - val_accuracy: 0.1000\n",
      "Epoch 51/100\n",
      "210/210 [==============================] - 6s 28ms/step - loss: 2.3027 - accuracy: 0.0993 - val_loss: 2.3026 - val_accuracy: 0.1000\n",
      "Epoch 52/100\n",
      "210/210 [==============================] - 6s 28ms/step - loss: 2.3026 - accuracy: 0.0991 - val_loss: 2.3026 - val_accuracy: 0.1000\n",
      "Epoch 53/100\n",
      "210/210 [==============================] - 6s 28ms/step - loss: 2.3026 - accuracy: 0.0991 - val_loss: 2.3026 - val_accuracy: 0.1000\n",
      "Epoch 54/100\n",
      "210/210 [==============================] - 6s 28ms/step - loss: 2.3026 - accuracy: 0.0991 - val_loss: 2.3026 - val_accuracy: 0.1000\n",
      "Epoch 55/100\n",
      "210/210 [==============================] - 6s 29ms/step - loss: 2.3026 - accuracy: 0.1032 - val_loss: 2.3026 - val_accuracy: 0.1000\n",
      "Epoch 56/100\n",
      "210/210 [==============================] - 6s 29ms/step - loss: 2.3027 - accuracy: 0.1000 - val_loss: 2.3026 - val_accuracy: 0.1000\n",
      "Epoch 57/100\n",
      "210/210 [==============================] - 6s 29ms/step - loss: 2.3026 - accuracy: 0.1016 - val_loss: 2.3026 - val_accuracy: 0.1000\n",
      "Epoch 58/100\n",
      "210/210 [==============================] - 6s 29ms/step - loss: 2.3026 - accuracy: 0.1000 - val_loss: 2.3026 - val_accuracy: 0.1000\n",
      "Epoch 59/100\n",
      "210/210 [==============================] - 6s 29ms/step - loss: 2.3026 - accuracy: 0.1030 - val_loss: 2.3026 - val_accuracy: 0.1000\n",
      "Epoch 60/100\n",
      "210/210 [==============================] - 6s 28ms/step - loss: 2.3026 - accuracy: 0.1033 - val_loss: 2.3026 - val_accuracy: 0.1000\n",
      "Epoch 61/100\n",
      "210/210 [==============================] - 6s 28ms/step - loss: 2.3026 - accuracy: 0.1034 - val_loss: 2.3026 - val_accuracy: 0.1000\n",
      "Epoch 62/100\n",
      "210/210 [==============================] - 6s 28ms/step - loss: 2.3026 - accuracy: 0.1019 - val_loss: 2.3026 - val_accuracy: 0.1000\n",
      "Epoch 63/100\n",
      "210/210 [==============================] - 6s 28ms/step - loss: 2.3026 - accuracy: 0.1006 - val_loss: 2.3026 - val_accuracy: 0.1000\n",
      "Epoch 64/100\n",
      "210/210 [==============================] - 6s 28ms/step - loss: 2.3026 - accuracy: 0.1008 - val_loss: 2.3026 - val_accuracy: 0.1000\n",
      "Epoch 65/100\n",
      "210/210 [==============================] - 6s 28ms/step - loss: 2.3026 - accuracy: 0.1025 - val_loss: 2.3026 - val_accuracy: 0.1000\n",
      "Epoch 66/100\n",
      "210/210 [==============================] - 6s 28ms/step - loss: 2.3026 - accuracy: 0.1014 - val_loss: 2.3026 - val_accuracy: 0.1000\n",
      "Epoch 67/100\n",
      "210/210 [==============================] - 6s 28ms/step - loss: 2.3026 - accuracy: 0.1027 - val_loss: 2.3026 - val_accuracy: 0.1000\n",
      "Epoch 68/100\n",
      "210/210 [==============================] - 6s 28ms/step - loss: 2.3026 - accuracy: 0.1041 - val_loss: 2.3026 - val_accuracy: 0.1000\n",
      "Epoch 69/100\n",
      "210/210 [==============================] - 6s 28ms/step - loss: 2.3026 - accuracy: 0.1020 - val_loss: 2.3026 - val_accuracy: 0.1000\n",
      "Epoch 70/100\n",
      "210/210 [==============================] - 6s 28ms/step - loss: 2.3026 - accuracy: 0.1034 - val_loss: 2.3026 - val_accuracy: 0.1000\n",
      "Epoch 71/100\n",
      "210/210 [==============================] - 6s 28ms/step - loss: 2.3026 - accuracy: 0.1008 - val_loss: 2.3026 - val_accuracy: 0.1000\n",
      "Epoch 72/100\n",
      "210/210 [==============================] - 6s 28ms/step - loss: 2.3027 - accuracy: 0.0997 - val_loss: 2.3026 - val_accuracy: 0.1000\n",
      "Epoch 73/100\n",
      "210/210 [==============================] - 6s 28ms/step - loss: 2.3025 - accuracy: 0.1027 - val_loss: 2.3026 - val_accuracy: 0.1000\n",
      "Epoch 74/100\n",
      "210/210 [==============================] - 6s 28ms/step - loss: 2.3026 - accuracy: 0.1034 - val_loss: 2.3026 - val_accuracy: 0.1000\n",
      "Epoch 75/100\n",
      "210/210 [==============================] - 6s 28ms/step - loss: 2.3026 - accuracy: 0.1025 - val_loss: 2.3026 - val_accuracy: 0.1000\n",
      "Epoch 76/100\n",
      "210/210 [==============================] - 6s 28ms/step - loss: 2.3026 - accuracy: 0.1014 - val_loss: 2.3026 - val_accuracy: 0.1000\n",
      "Epoch 77/100\n",
      "210/210 [==============================] - 6s 28ms/step - loss: 2.3026 - accuracy: 0.1031 - val_loss: 2.3026 - val_accuracy: 0.1000\n",
      "Epoch 78/100\n",
      "210/210 [==============================] - 6s 28ms/step - loss: 2.3026 - accuracy: 0.0995 - val_loss: 2.3026 - val_accuracy: 0.1000\n",
      "Epoch 79/100\n",
      "210/210 [==============================] - 6s 28ms/step - loss: 2.3027 - accuracy: 0.1013 - val_loss: 2.3026 - val_accuracy: 0.1000\n",
      "Epoch 80/100\n",
      "210/210 [==============================] - 6s 28ms/step - loss: 2.3025 - accuracy: 0.1046 - val_loss: 2.3026 - val_accuracy: 0.1000\n",
      "Epoch 81/100\n",
      "210/210 [==============================] - 6s 28ms/step - loss: 2.3026 - accuracy: 0.1022 - val_loss: 2.3026 - val_accuracy: 0.1000\n",
      "Epoch 82/100\n",
      "210/210 [==============================] - 6s 28ms/step - loss: 2.3025 - accuracy: 0.1050 - val_loss: 2.3026 - val_accuracy: 0.1000\n",
      "Epoch 83/100\n",
      "210/210 [==============================] - 6s 28ms/step - loss: 2.3026 - accuracy: 0.1019 - val_loss: 2.3026 - val_accuracy: 0.1000\n",
      "Epoch 84/100\n",
      "210/210 [==============================] - 6s 28ms/step - loss: 2.3026 - accuracy: 0.1007 - val_loss: 2.3026 - val_accuracy: 0.1000\n",
      "Epoch 85/100\n",
      "210/210 [==============================] - 6s 28ms/step - loss: 2.3026 - accuracy: 0.1024 - val_loss: 2.3026 - val_accuracy: 0.1000\n",
      "Epoch 86/100\n",
      "210/210 [==============================] - 6s 28ms/step - loss: 2.3026 - accuracy: 0.1016 - val_loss: 2.3026 - val_accuracy: 0.1000\n",
      "Epoch 87/100\n",
      "210/210 [==============================] - 6s 28ms/step - loss: 2.3026 - accuracy: 0.1030 - val_loss: 2.3026 - val_accuracy: 0.1000\n",
      "Epoch 88/100\n",
      "210/210 [==============================] - 6s 28ms/step - loss: 2.3026 - accuracy: 0.1024 - val_loss: 2.3026 - val_accuracy: 0.1000\n",
      "Epoch 89/100\n",
      "210/210 [==============================] - 6s 28ms/step - loss: 2.3026 - accuracy: 0.1033 - val_loss: 2.3026 - val_accuracy: 0.1000\n",
      "Epoch 90/100\n",
      "210/210 [==============================] - 6s 28ms/step - loss: 2.3026 - accuracy: 0.1009 - val_loss: 2.3026 - val_accuracy: 0.1000\n",
      "Epoch 91/100\n",
      "210/210 [==============================] - 6s 29ms/step - loss: 2.3026 - accuracy: 0.1023 - val_loss: 2.3026 - val_accuracy: 0.1000\n",
      "Epoch 92/100\n",
      "210/210 [==============================] - 6s 29ms/step - loss: 2.3026 - accuracy: 0.1007 - val_loss: 2.3026 - val_accuracy: 0.1000\n",
      "Epoch 93/100\n",
      "210/210 [==============================] - 6s 28ms/step - loss: 2.3026 - accuracy: 0.1028 - val_loss: 2.3026 - val_accuracy: 0.1000\n",
      "Epoch 94/100\n",
      "210/210 [==============================] - 6s 28ms/step - loss: 2.3026 - accuracy: 0.0980 - val_loss: 2.3026 - val_accuracy: 0.1000\n",
      "Epoch 95/100\n",
      "210/210 [==============================] - 6s 28ms/step - loss: 2.3026 - accuracy: 0.1044 - val_loss: 2.3026 - val_accuracy: 0.1000\n",
      "Epoch 96/100\n",
      "210/210 [==============================] - 6s 28ms/step - loss: 2.3026 - accuracy: 0.1002 - val_loss: 2.3026 - val_accuracy: 0.1000\n",
      "Epoch 97/100\n",
      "210/210 [==============================] - 6s 28ms/step - loss: 2.3027 - accuracy: 0.1012 - val_loss: 2.3026 - val_accuracy: 0.1000\n",
      "Epoch 98/100\n",
      "210/210 [==============================] - 6s 28ms/step - loss: 2.3026 - accuracy: 0.1009 - val_loss: 2.3026 - val_accuracy: 0.1000\n",
      "Epoch 99/100\n",
      "210/210 [==============================] - 6s 28ms/step - loss: 2.3027 - accuracy: 0.0986 - val_loss: 2.3026 - val_accuracy: 0.1000\n",
      "Epoch 100/100\n",
      "210/210 [==============================] - 6s 28ms/step - loss: 2.3026 - accuracy: 0.1030 - val_loss: 2.3026 - val_accuracy: 0.1000\n"
     ]
    }
   ],
   "source": [
    "# Fitting the NN to the Training data\n",
    "history_adam_bp = keras_model_2.fit(X_train, y_train, validation_data=(X_val, y_val), batch_size = 200, epochs = 100, verbose = 1)"
   ]
  },
  {
   "cell_type": "code",
   "execution_count": 49,
   "metadata": {
    "colab": {
     "base_uri": "https://localhost:8080/"
    },
    "id": "8d0asefkHDuK",
    "outputId": "fcd90a39-53ef-4963-9997-858f90eca93f"
   },
   "outputs": [
    {
     "name": "stdout",
     "output_type": "stream",
     "text": [
      "1875/1875 [==============================] - 6s 3ms/step - loss: 2.3026 - accuracy: 0.1000\n",
      "Validation accuracy using ADAM :  0.10000000149011612\n"
     ]
    }
   ],
   "source": [
    "results_2 = keras_model_2.evaluate(X_val, y_val)\n",
    "print('Validation accuracy using ADAM : ', results_2[1])"
   ]
  },
  {
   "cell_type": "markdown",
   "metadata": {
    "id": "3dX71RMbLWIT"
   },
   "source": [
    "Validation accuracy using ADAM in Backpropagation method shows 100%"
   ]
  },
  {
   "cell_type": "code",
   "execution_count": 63,
   "metadata": {
    "colab": {
     "base_uri": "https://localhost:8080/"
    },
    "id": "uJW88jkmPd6E",
    "outputId": "4eb4e948-c34e-4c8a-a153-9a0c8b3a9f2b"
   },
   "outputs": [
    {
     "name": "stdout",
     "output_type": "stream",
     "text": [
      "Epoch 1/50\n",
      "210/210 [==============================] - 5s 22ms/step - loss: 2.3026 - accuracy: 0.1023 - val_loss: 2.3027 - val_accuracy: 0.0955\n",
      "Epoch 2/50\n",
      "210/210 [==============================] - 4s 21ms/step - loss: 2.3026 - accuracy: 0.1026 - val_loss: 2.3027 - val_accuracy: 0.0955\n",
      "Epoch 3/50\n",
      "210/210 [==============================] - 4s 21ms/step - loss: 2.3026 - accuracy: 0.1024 - val_loss: 2.3027 - val_accuracy: 0.0955\n",
      "Epoch 4/50\n",
      "210/210 [==============================] - 4s 21ms/step - loss: 2.3026 - accuracy: 0.1027 - val_loss: 2.3027 - val_accuracy: 0.0955\n",
      "Epoch 5/50\n",
      "210/210 [==============================] - 4s 21ms/step - loss: 2.3026 - accuracy: 0.1011 - val_loss: 2.3028 - val_accuracy: 0.0955\n",
      "Epoch 6/50\n",
      "210/210 [==============================] - 4s 21ms/step - loss: 2.3026 - accuracy: 0.1013 - val_loss: 2.3028 - val_accuracy: 0.0955\n",
      "Epoch 7/50\n",
      "210/210 [==============================] - 4s 21ms/step - loss: 2.3026 - accuracy: 0.1031 - val_loss: 2.3027 - val_accuracy: 0.0955\n",
      "Epoch 8/50\n",
      "210/210 [==============================] - 4s 21ms/step - loss: 2.3026 - accuracy: 0.0980 - val_loss: 2.3027 - val_accuracy: 0.0955\n",
      "Epoch 9/50\n",
      "210/210 [==============================] - 4s 21ms/step - loss: 2.3026 - accuracy: 0.1030 - val_loss: 2.3027 - val_accuracy: 0.0955\n",
      "Epoch 10/50\n",
      "210/210 [==============================] - 4s 21ms/step - loss: 2.3026 - accuracy: 0.1008 - val_loss: 2.3027 - val_accuracy: 0.0955\n",
      "Epoch 11/50\n",
      "210/210 [==============================] - 4s 21ms/step - loss: 2.3026 - accuracy: 0.1023 - val_loss: 2.3028 - val_accuracy: 0.0955\n",
      "Epoch 12/50\n",
      "210/210 [==============================] - 4s 21ms/step - loss: 2.3026 - accuracy: 0.1017 - val_loss: 2.3028 - val_accuracy: 0.0955\n",
      "Epoch 13/50\n",
      "210/210 [==============================] - 4s 21ms/step - loss: 2.3026 - accuracy: 0.1005 - val_loss: 2.3028 - val_accuracy: 0.0955\n",
      "Epoch 14/50\n",
      "210/210 [==============================] - 4s 21ms/step - loss: 2.3026 - accuracy: 0.1021 - val_loss: 2.3027 - val_accuracy: 0.0955\n",
      "Epoch 15/50\n",
      "210/210 [==============================] - 4s 21ms/step - loss: 2.3026 - accuracy: 0.1009 - val_loss: 2.3028 - val_accuracy: 0.0955\n",
      "Epoch 16/50\n",
      "210/210 [==============================] - 4s 21ms/step - loss: 2.3026 - accuracy: 0.1021 - val_loss: 2.3027 - val_accuracy: 0.0955\n",
      "Epoch 17/50\n",
      "210/210 [==============================] - 4s 21ms/step - loss: 2.3026 - accuracy: 0.1034 - val_loss: 2.3027 - val_accuracy: 0.0955\n",
      "Epoch 18/50\n",
      "210/210 [==============================] - 4s 21ms/step - loss: 2.3026 - accuracy: 0.1006 - val_loss: 2.3028 - val_accuracy: 0.0955\n",
      "Epoch 19/50\n",
      "210/210 [==============================] - 4s 21ms/step - loss: 2.3027 - accuracy: 0.0994 - val_loss: 2.3028 - val_accuracy: 0.0955\n",
      "Epoch 20/50\n",
      "210/210 [==============================] - 4s 21ms/step - loss: 2.3027 - accuracy: 0.0984 - val_loss: 2.3028 - val_accuracy: 0.0955\n",
      "Epoch 21/50\n",
      "210/210 [==============================] - 4s 21ms/step - loss: 2.3026 - accuracy: 0.1006 - val_loss: 2.3028 - val_accuracy: 0.0955\n",
      "Epoch 22/50\n",
      "210/210 [==============================] - 4s 21ms/step - loss: 2.3026 - accuracy: 0.1026 - val_loss: 2.3028 - val_accuracy: 0.0955\n",
      "Epoch 23/50\n",
      "210/210 [==============================] - 5s 22ms/step - loss: 2.3026 - accuracy: 0.1000 - val_loss: 2.3028 - val_accuracy: 0.0955\n",
      "Epoch 24/50\n",
      "210/210 [==============================] - 5s 22ms/step - loss: 2.3026 - accuracy: 0.1033 - val_loss: 2.3027 - val_accuracy: 0.0955\n",
      "Epoch 25/50\n",
      "210/210 [==============================] - 5s 22ms/step - loss: 2.3026 - accuracy: 0.1031 - val_loss: 2.3027 - val_accuracy: 0.0955\n",
      "Epoch 26/50\n",
      "210/210 [==============================] - 5s 22ms/step - loss: 2.3026 - accuracy: 0.1041 - val_loss: 2.3027 - val_accuracy: 0.0955\n",
      "Epoch 27/50\n",
      "210/210 [==============================] - 5s 22ms/step - loss: 2.3026 - accuracy: 0.1008 - val_loss: 2.3028 - val_accuracy: 0.0955\n",
      "Epoch 28/50\n",
      "210/210 [==============================] - 5s 22ms/step - loss: 2.3026 - accuracy: 0.1046 - val_loss: 2.3027 - val_accuracy: 0.0955\n",
      "Epoch 29/50\n",
      "210/210 [==============================] - 5s 21ms/step - loss: 2.3026 - accuracy: 0.1010 - val_loss: 2.3027 - val_accuracy: 0.0955\n",
      "Epoch 30/50\n",
      "210/210 [==============================] - 4s 21ms/step - loss: 2.3027 - accuracy: 0.1003 - val_loss: 2.3027 - val_accuracy: 0.0955\n",
      "Epoch 31/50\n",
      "210/210 [==============================] - 4s 21ms/step - loss: 2.3026 - accuracy: 0.0984 - val_loss: 2.3028 - val_accuracy: 0.0955\n",
      "Epoch 32/50\n",
      "210/210 [==============================] - 4s 21ms/step - loss: 2.3027 - accuracy: 0.1015 - val_loss: 2.3028 - val_accuracy: 0.0955\n",
      "Epoch 33/50\n",
      "210/210 [==============================] - 4s 21ms/step - loss: 2.3026 - accuracy: 0.1027 - val_loss: 2.3027 - val_accuracy: 0.0955\n",
      "Epoch 34/50\n",
      "210/210 [==============================] - 4s 21ms/step - loss: 2.3026 - accuracy: 0.1005 - val_loss: 2.3027 - val_accuracy: 0.0955\n",
      "Epoch 35/50\n",
      "210/210 [==============================] - 4s 21ms/step - loss: 2.3026 - accuracy: 0.1034 - val_loss: 2.3027 - val_accuracy: 0.0955\n",
      "Epoch 36/50\n",
      "210/210 [==============================] - 5s 22ms/step - loss: 2.3026 - accuracy: 0.1026 - val_loss: 2.3028 - val_accuracy: 0.0955\n",
      "Epoch 37/50\n",
      "210/210 [==============================] - 4s 21ms/step - loss: 2.3026 - accuracy: 0.1029 - val_loss: 2.3027 - val_accuracy: 0.0955\n",
      "Epoch 38/50\n",
      "210/210 [==============================] - 5s 21ms/step - loss: 2.3026 - accuracy: 0.1013 - val_loss: 2.3027 - val_accuracy: 0.0955\n",
      "Epoch 39/50\n",
      "210/210 [==============================] - 4s 21ms/step - loss: 2.3026 - accuracy: 0.1015 - val_loss: 2.3027 - val_accuracy: 0.0955\n",
      "Epoch 40/50\n",
      "210/210 [==============================] - 4s 21ms/step - loss: 2.3026 - accuracy: 0.1008 - val_loss: 2.3028 - val_accuracy: 0.0955\n",
      "Epoch 41/50\n",
      "210/210 [==============================] - 4s 21ms/step - loss: 2.3026 - accuracy: 0.1027 - val_loss: 2.3027 - val_accuracy: 0.0955\n",
      "Epoch 42/50\n",
      "210/210 [==============================] - 5s 21ms/step - loss: 2.3026 - accuracy: 0.1000 - val_loss: 2.3028 - val_accuracy: 0.0955\n",
      "Epoch 43/50\n",
      "210/210 [==============================] - 5s 22ms/step - loss: 2.3026 - accuracy: 0.1034 - val_loss: 2.3027 - val_accuracy: 0.0955\n",
      "Epoch 44/50\n",
      "210/210 [==============================] - 4s 21ms/step - loss: 2.3026 - accuracy: 0.1040 - val_loss: 2.3027 - val_accuracy: 0.0955\n",
      "Epoch 45/50\n",
      "210/210 [==============================] - 5s 22ms/step - loss: 2.3026 - accuracy: 0.1003 - val_loss: 2.3027 - val_accuracy: 0.0955\n",
      "Epoch 46/50\n",
      "210/210 [==============================] - 5s 22ms/step - loss: 2.3027 - accuracy: 0.0987 - val_loss: 2.3028 - val_accuracy: 0.0955\n",
      "Epoch 47/50\n",
      "210/210 [==============================] - 5s 21ms/step - loss: 2.3027 - accuracy: 0.0999 - val_loss: 2.3028 - val_accuracy: 0.0955\n",
      "Epoch 48/50\n",
      "210/210 [==============================] - 5s 22ms/step - loss: 2.3026 - accuracy: 0.1023 - val_loss: 2.3028 - val_accuracy: 0.0955\n",
      "Epoch 49/50\n",
      "210/210 [==============================] - 5s 23ms/step - loss: 2.3026 - accuracy: 0.1014 - val_loss: 2.3028 - val_accuracy: 0.0955\n",
      "Epoch 50/50\n",
      "210/210 [==============================] - 5s 22ms/step - loss: 2.3026 - accuracy: 0.1038 - val_loss: 2.3027 - val_accuracy: 0.0955\n"
     ]
    }
   ],
   "source": [
    "# Testing data on test data\n",
    "#Setting the learning rate in Adam\n",
    "adam = optimizers.Adam(lr = 0.001)\n",
    "# compiling the ANN classifier\n",
    "keras_model_2.compile(optimizer = 'adam', loss = 'categorical_crossentropy', metrics = ['accuracy'])\n",
    "history_t2 = keras_model_2.fit(X_train, y_train, validation_data=(X_test, y_test), batch_size = 200, epochs = 50, verbose = 1)"
   ]
  },
  {
   "cell_type": "code",
   "execution_count": 68,
   "metadata": {
    "colab": {
     "base_uri": "https://localhost:8080/"
    },
    "id": "zAq_sDJWP2bn",
    "outputId": "cc2171c9-e674-4a56-b394-949ec7119c97"
   },
   "outputs": [
    {
     "name": "stdout",
     "output_type": "stream",
     "text": [
      "563/563 [==============================] - 2s 3ms/step - loss: 2.3027 - accuracy: 0.0955\n",
      " Loss and accuracy for the test data using ADAM in Backpropagation method:  0.09549999982118607\n"
     ]
    }
   ],
   "source": [
    "#Print the loss and accuracy for the test data\n",
    "test2 = keras_model_2.evaluate(X_test, y_test)\n",
    "print(' Loss and accuracy for the test data using ADAM in Backpropagation method: ', test2[1])"
   ]
  },
  {
   "cell_type": "markdown",
   "metadata": {
    "id": "Y6HuY4W5UOp9"
   },
   "source": [
    " Loss and accuracy for the test data using ADAM in Backpropagation method is 95.49%"
   ]
  },
  {
   "cell_type": "markdown",
   "metadata": {
    "id": "_Wt6Kr6CHgTb"
   },
   "source": [
    "***Implementing batch normalization for training the neural network***"
   ]
  },
  {
   "cell_type": "code",
   "execution_count": 50,
   "metadata": {
    "id": "Bn8BRRCYHiSS"
   },
   "outputs": [],
   "source": [
    "#Initialize the Artificial Neural Network Classifier\n",
    "keras_model_3 = Sequential()"
   ]
  },
  {
   "cell_type": "code",
   "execution_count": 51,
   "metadata": {
    "id": "wFWLjJNCHpQA"
   },
   "outputs": [],
   "source": [
    "#Adding Batch normalization layer\n",
    "# Input Layer\n",
    "#Adding Input layer and activation functions ReLU\n",
    "keras_model_3.add(Dense(512, kernel_initializer = 'he_normal', input_shape = (1024, )))\n",
    "#Adding BatchNormalization Layer\n",
    "keras_model_3.add(BatchNormalization())\n",
    "#Adding Activation function\n",
    "keras_model_3.add(Activation('relu'))\n",
    "\n",
    "#Hidden Layer 1\n",
    "#Adding first Hidden layer of 256 nodes\n",
    "keras_model_3.add(Dense(256, kernel_initializer = 'he_normal'))\n",
    "#Adding BatchNormalization Layer\n",
    "keras_model_3.add(BatchNormalization())\n",
    "#Adding Activation function\n",
    "keras_model_3.add(Activation('relu'))\n",
    "\n",
    "#Hidden Layer 2\n",
    "#Adding second Hidden layer of 128 nodes\n",
    "keras_model_3.add(Dense(128, kernel_initializer = 'he_normal'))\n",
    "#Adding BatchNormalization Layer\n",
    "keras_model_3.add(BatchNormalization())\n",
    "#Adding Activation function\n",
    "keras_model_3.add(Activation('relu'))\n",
    "\n",
    "#Hidden Layer 3\n",
    "#Adding third Hidden layer of 64 nodes\n",
    "keras_model_3.add(Dense(64, kernel_initializer = 'he_normal'))\n",
    "#Adding BatchNormalization Layer\n",
    "keras_model_3.add(BatchNormalization())\n",
    "#Adding Activation function\n",
    "keras_model_3.add(Activation('relu'))\n",
    "\n",
    "#Hidden Layer 4\n",
    "#Adding fourth Hidden layer of 32 nodes\n",
    "keras_model_3.add(Dense(32, kernel_initializer = 'he_normal'))\n",
    "#Adding BatchNormalization Layer\n",
    "keras_model_3.add(BatchNormalization())\n",
    "#Adding Activation function\n",
    "keras_model_3.add(Activation('relu'))\n",
    "\n",
    "# Output Layer\n",
    "#Adding output layer which is of 10 nodes (digits)\n",
    "keras_model_3.add(Dense(10))\n",
    "#Adding Activation function\n",
    "# Here, we are using softmax function because we have multiclass classsification\n",
    "keras_model_3.add(Activation('softmax'))"
   ]
  },
  {
   "cell_type": "code",
   "execution_count": 52,
   "metadata": {
    "colab": {
     "base_uri": "https://localhost:8080/"
    },
    "id": "mPjLreRWIejV",
    "outputId": "aaa511e2-38e1-4ded-9a51-8986999bac16"
   },
   "outputs": [
    {
     "name": "stdout",
     "output_type": "stream",
     "text": [
      "Model: \"sequential_2\"\n",
      "_________________________________________________________________\n",
      "Layer (type)                 Output Shape              Param #   \n",
      "=================================================================\n",
      "dense_12 (Dense)             (None, 512)               524800    \n",
      "_________________________________________________________________\n",
      "batch_normalization (BatchNo (None, 512)               2048      \n",
      "_________________________________________________________________\n",
      "activation_12 (Activation)   (None, 512)               0         \n",
      "_________________________________________________________________\n",
      "dense_13 (Dense)             (None, 256)               131328    \n",
      "_________________________________________________________________\n",
      "batch_normalization_1 (Batch (None, 256)               1024      \n",
      "_________________________________________________________________\n",
      "activation_13 (Activation)   (None, 256)               0         \n",
      "_________________________________________________________________\n",
      "dense_14 (Dense)             (None, 128)               32896     \n",
      "_________________________________________________________________\n",
      "batch_normalization_2 (Batch (None, 128)               512       \n",
      "_________________________________________________________________\n",
      "activation_14 (Activation)   (None, 128)               0         \n",
      "_________________________________________________________________\n",
      "dense_15 (Dense)             (None, 64)                8256      \n",
      "_________________________________________________________________\n",
      "batch_normalization_3 (Batch (None, 64)                256       \n",
      "_________________________________________________________________\n",
      "activation_15 (Activation)   (None, 64)                0         \n",
      "_________________________________________________________________\n",
      "dense_16 (Dense)             (None, 32)                2080      \n",
      "_________________________________________________________________\n",
      "batch_normalization_4 (Batch (None, 32)                128       \n",
      "_________________________________________________________________\n",
      "activation_16 (Activation)   (None, 32)                0         \n",
      "_________________________________________________________________\n",
      "dense_17 (Dense)             (None, 10)                330       \n",
      "_________________________________________________________________\n",
      "activation_17 (Activation)   (None, 10)                0         \n",
      "=================================================================\n",
      "Total params: 703,658\n",
      "Trainable params: 701,674\n",
      "Non-trainable params: 1,984\n",
      "_________________________________________________________________\n"
     ]
    }
   ],
   "source": [
    "keras_model_3.summary()"
   ]
  },
  {
   "cell_type": "code",
   "execution_count": 55,
   "metadata": {
    "id": "51UzIl2TI7zj"
   },
   "outputs": [],
   "source": [
    "#Using ADAM optimizer with learning rate= 0.0001 \n",
    "#Setting the learning rate and decay in adam\n",
    "adam = optimizers.Adam(lr = 0.0001)\n",
    "# compiling the NN classifier\n",
    "keras_model_3.compile(optimizer = 'adam', loss = 'categorical_crossentropy', metrics = ['accuracy'])"
   ]
  },
  {
   "cell_type": "code",
   "execution_count": 56,
   "metadata": {
    "colab": {
     "base_uri": "https://localhost:8080/"
    },
    "id": "sLEIHCavJDWU",
    "outputId": "c0b05536-90e5-4ea8-fa22-2e2416082402"
   },
   "outputs": [
    {
     "name": "stdout",
     "output_type": "stream",
     "text": [
      "Epoch 1/100\n",
      "210/210 [==============================] - 8s 33ms/step - loss: 1.8617 - accuracy: 0.3700 - val_loss: 1.7908 - val_accuracy: 0.3931\n",
      "Epoch 2/100\n",
      "210/210 [==============================] - 7s 32ms/step - loss: 0.9527 - accuracy: 0.7051 - val_loss: 1.5389 - val_accuracy: 0.4908\n",
      "Epoch 3/100\n",
      "210/210 [==============================] - 7s 32ms/step - loss: 0.7766 - accuracy: 0.7539 - val_loss: 1.4291 - val_accuracy: 0.5158\n",
      "Epoch 4/100\n",
      "210/210 [==============================] - 7s 32ms/step - loss: 0.6769 - accuracy: 0.7862 - val_loss: 1.4358 - val_accuracy: 0.5212\n",
      "Epoch 5/100\n",
      "210/210 [==============================] - 7s 32ms/step - loss: 0.5991 - accuracy: 0.8102 - val_loss: 1.1213 - val_accuracy: 0.6315\n",
      "Epoch 6/100\n",
      "210/210 [==============================] - 7s 32ms/step - loss: 0.5366 - accuracy: 0.8294 - val_loss: 1.3870 - val_accuracy: 0.5421\n",
      "Epoch 7/100\n",
      "210/210 [==============================] - 7s 32ms/step - loss: 0.5080 - accuracy: 0.8404 - val_loss: 1.0792 - val_accuracy: 0.6478\n",
      "Epoch 8/100\n",
      "210/210 [==============================] - 7s 32ms/step - loss: 0.4605 - accuracy: 0.8558 - val_loss: 1.2166 - val_accuracy: 0.6330\n",
      "Epoch 9/100\n",
      "210/210 [==============================] - 7s 32ms/step - loss: 0.4422 - accuracy: 0.8575 - val_loss: 0.8061 - val_accuracy: 0.7346\n",
      "Epoch 10/100\n",
      "210/210 [==============================] - 7s 32ms/step - loss: 0.4025 - accuracy: 0.8723 - val_loss: 1.0583 - val_accuracy: 0.6525\n",
      "Epoch 11/100\n",
      "210/210 [==============================] - 7s 32ms/step - loss: 0.3797 - accuracy: 0.8792 - val_loss: 0.7939 - val_accuracy: 0.7421\n",
      "Epoch 12/100\n",
      "210/210 [==============================] - 7s 33ms/step - loss: 0.3641 - accuracy: 0.8830 - val_loss: 1.1708 - val_accuracy: 0.6350\n",
      "Epoch 13/100\n",
      "210/210 [==============================] - 7s 33ms/step - loss: 0.3352 - accuracy: 0.8933 - val_loss: 0.9627 - val_accuracy: 0.6892\n",
      "Epoch 14/100\n",
      "210/210 [==============================] - 7s 32ms/step - loss: 0.3246 - accuracy: 0.8975 - val_loss: 0.7990 - val_accuracy: 0.7525\n",
      "Epoch 15/100\n",
      "210/210 [==============================] - 7s 32ms/step - loss: 0.3046 - accuracy: 0.9031 - val_loss: 1.5357 - val_accuracy: 0.6012\n",
      "Epoch 16/100\n",
      "210/210 [==============================] - 7s 32ms/step - loss: 0.2985 - accuracy: 0.9049 - val_loss: 0.7851 - val_accuracy: 0.7499\n",
      "Epoch 17/100\n",
      "210/210 [==============================] - 7s 32ms/step - loss: 0.2644 - accuracy: 0.9158 - val_loss: 0.7700 - val_accuracy: 0.7515\n",
      "Epoch 18/100\n",
      "210/210 [==============================] - 7s 32ms/step - loss: 0.2635 - accuracy: 0.9149 - val_loss: 0.9270 - val_accuracy: 0.7253\n",
      "Epoch 19/100\n",
      "210/210 [==============================] - 7s 32ms/step - loss: 0.2450 - accuracy: 0.9221 - val_loss: 1.1248 - val_accuracy: 0.6666\n",
      "Epoch 20/100\n",
      "210/210 [==============================] - 7s 32ms/step - loss: 0.2464 - accuracy: 0.9199 - val_loss: 0.8412 - val_accuracy: 0.7381\n",
      "Epoch 21/100\n",
      "210/210 [==============================] - 7s 32ms/step - loss: 0.2284 - accuracy: 0.9264 - val_loss: 0.8952 - val_accuracy: 0.7320\n",
      "Epoch 22/100\n",
      "210/210 [==============================] - 7s 32ms/step - loss: 0.2141 - accuracy: 0.9308 - val_loss: 0.8062 - val_accuracy: 0.7563\n",
      "Epoch 23/100\n",
      "210/210 [==============================] - 7s 32ms/step - loss: 0.2154 - accuracy: 0.9306 - val_loss: 0.9032 - val_accuracy: 0.7163\n",
      "Epoch 24/100\n",
      "210/210 [==============================] - 7s 32ms/step - loss: 0.2112 - accuracy: 0.9320 - val_loss: 0.9197 - val_accuracy: 0.7366\n",
      "Epoch 25/100\n",
      "210/210 [==============================] - 7s 32ms/step - loss: 0.1986 - accuracy: 0.9358 - val_loss: 0.7867 - val_accuracy: 0.7632\n",
      "Epoch 26/100\n",
      "210/210 [==============================] - 7s 32ms/step - loss: 0.1957 - accuracy: 0.9388 - val_loss: 0.8003 - val_accuracy: 0.7703\n",
      "Epoch 27/100\n",
      "210/210 [==============================] - 7s 32ms/step - loss: 0.1769 - accuracy: 0.9416 - val_loss: 0.7920 - val_accuracy: 0.7714\n",
      "Epoch 28/100\n",
      "210/210 [==============================] - 7s 32ms/step - loss: 0.1668 - accuracy: 0.9457 - val_loss: 1.0914 - val_accuracy: 0.7075\n",
      "Epoch 29/100\n",
      "210/210 [==============================] - 7s 32ms/step - loss: 0.1643 - accuracy: 0.9474 - val_loss: 1.0848 - val_accuracy: 0.7182\n",
      "Epoch 30/100\n",
      "210/210 [==============================] - 7s 32ms/step - loss: 0.1596 - accuracy: 0.9481 - val_loss: 0.7894 - val_accuracy: 0.7841\n",
      "Epoch 31/100\n",
      "210/210 [==============================] - 7s 32ms/step - loss: 0.1540 - accuracy: 0.9482 - val_loss: 0.6591 - val_accuracy: 0.8046\n",
      "Epoch 32/100\n",
      "210/210 [==============================] - 7s 32ms/step - loss: 0.1493 - accuracy: 0.9507 - val_loss: 0.8981 - val_accuracy: 0.7605\n",
      "Epoch 33/100\n",
      "210/210 [==============================] - 7s 32ms/step - loss: 0.1579 - accuracy: 0.9479 - val_loss: 0.6846 - val_accuracy: 0.8100\n",
      "Epoch 34/100\n",
      "210/210 [==============================] - 7s 32ms/step - loss: 0.1292 - accuracy: 0.9582 - val_loss: 0.6894 - val_accuracy: 0.8139\n",
      "Epoch 35/100\n",
      "210/210 [==============================] - 7s 32ms/step - loss: 0.1354 - accuracy: 0.9562 - val_loss: 0.9561 - val_accuracy: 0.7509\n",
      "Epoch 36/100\n",
      "210/210 [==============================] - 7s 32ms/step - loss: 0.1378 - accuracy: 0.9537 - val_loss: 0.7499 - val_accuracy: 0.7959\n",
      "Epoch 37/100\n",
      "210/210 [==============================] - 7s 32ms/step - loss: 0.1218 - accuracy: 0.9609 - val_loss: 0.8673 - val_accuracy: 0.7723\n",
      "Epoch 38/100\n",
      "210/210 [==============================] - 7s 32ms/step - loss: 0.1202 - accuracy: 0.9607 - val_loss: 0.6040 - val_accuracy: 0.8327\n",
      "Epoch 39/100\n",
      "210/210 [==============================] - 7s 34ms/step - loss: 0.1118 - accuracy: 0.9635 - val_loss: 0.9743 - val_accuracy: 0.7655\n",
      "Epoch 40/100\n",
      "210/210 [==============================] - 7s 32ms/step - loss: 0.1134 - accuracy: 0.9629 - val_loss: 0.9073 - val_accuracy: 0.7753\n",
      "Epoch 41/100\n",
      "210/210 [==============================] - 7s 32ms/step - loss: 0.1213 - accuracy: 0.9601 - val_loss: 0.7627 - val_accuracy: 0.8038\n",
      "Epoch 42/100\n",
      "210/210 [==============================] - 7s 32ms/step - loss: 0.1184 - accuracy: 0.9603 - val_loss: 0.9416 - val_accuracy: 0.7653\n",
      "Epoch 43/100\n",
      "210/210 [==============================] - 7s 32ms/step - loss: 0.1063 - accuracy: 0.9637 - val_loss: 0.8602 - val_accuracy: 0.7889\n",
      "Epoch 44/100\n",
      "210/210 [==============================] - 7s 32ms/step - loss: 0.0985 - accuracy: 0.9675 - val_loss: 1.3003 - val_accuracy: 0.7134\n",
      "Epoch 45/100\n",
      "210/210 [==============================] - 7s 32ms/step - loss: 0.1063 - accuracy: 0.9652 - val_loss: 1.1022 - val_accuracy: 0.7428\n",
      "Epoch 46/100\n",
      "210/210 [==============================] - 7s 32ms/step - loss: 0.1048 - accuracy: 0.9654 - val_loss: 1.0692 - val_accuracy: 0.7473\n",
      "Epoch 47/100\n",
      "210/210 [==============================] - 7s 32ms/step - loss: 0.1047 - accuracy: 0.9660 - val_loss: 0.7300 - val_accuracy: 0.8084\n",
      "Epoch 48/100\n",
      "210/210 [==============================] - 7s 32ms/step - loss: 0.0929 - accuracy: 0.9697 - val_loss: 1.0957 - val_accuracy: 0.7481\n",
      "Epoch 49/100\n",
      "210/210 [==============================] - 7s 32ms/step - loss: 0.0922 - accuracy: 0.9703 - val_loss: 0.6489 - val_accuracy: 0.8326\n",
      "Epoch 50/100\n",
      "210/210 [==============================] - 7s 32ms/step - loss: 0.0887 - accuracy: 0.9692 - val_loss: 1.0442 - val_accuracy: 0.7573\n",
      "Epoch 51/100\n",
      "210/210 [==============================] - 7s 32ms/step - loss: 0.1019 - accuracy: 0.9665 - val_loss: 1.0182 - val_accuracy: 0.7757\n",
      "Epoch 52/100\n",
      "210/210 [==============================] - 7s 32ms/step - loss: 0.0894 - accuracy: 0.9710 - val_loss: 0.9822 - val_accuracy: 0.7789\n",
      "Epoch 53/100\n",
      "210/210 [==============================] - 7s 32ms/step - loss: 0.0831 - accuracy: 0.9728 - val_loss: 1.0495 - val_accuracy: 0.7658\n",
      "Epoch 54/100\n",
      "210/210 [==============================] - 7s 32ms/step - loss: 0.0904 - accuracy: 0.9698 - val_loss: 0.7225 - val_accuracy: 0.8218\n",
      "Epoch 55/100\n",
      "210/210 [==============================] - 7s 32ms/step - loss: 0.0771 - accuracy: 0.9745 - val_loss: 1.0216 - val_accuracy: 0.7847\n",
      "Epoch 56/100\n",
      "210/210 [==============================] - 7s 32ms/step - loss: 0.0885 - accuracy: 0.9715 - val_loss: 0.7526 - val_accuracy: 0.8122\n",
      "Epoch 57/100\n",
      "210/210 [==============================] - 7s 32ms/step - loss: 0.0709 - accuracy: 0.9767 - val_loss: 0.5877 - val_accuracy: 0.8622\n",
      "Epoch 58/100\n",
      "210/210 [==============================] - 7s 33ms/step - loss: 0.0877 - accuracy: 0.9712 - val_loss: 0.6042 - val_accuracy: 0.8577\n",
      "Epoch 59/100\n",
      "210/210 [==============================] - 7s 33ms/step - loss: 0.0658 - accuracy: 0.9773 - val_loss: 0.5602 - val_accuracy: 0.8627\n",
      "Epoch 60/100\n",
      "210/210 [==============================] - 7s 33ms/step - loss: 0.0738 - accuracy: 0.9766 - val_loss: 0.7968 - val_accuracy: 0.8006\n",
      "Epoch 61/100\n",
      "210/210 [==============================] - 7s 33ms/step - loss: 0.0707 - accuracy: 0.9768 - val_loss: 0.8487 - val_accuracy: 0.8091\n",
      "Epoch 62/100\n",
      "210/210 [==============================] - 7s 32ms/step - loss: 0.0780 - accuracy: 0.9740 - val_loss: 0.9469 - val_accuracy: 0.7854\n",
      "Epoch 63/100\n",
      "210/210 [==============================] - 7s 32ms/step - loss: 0.0871 - accuracy: 0.9716 - val_loss: 0.6747 - val_accuracy: 0.8409\n",
      "Epoch 64/100\n",
      "210/210 [==============================] - 7s 32ms/step - loss: 0.0673 - accuracy: 0.9777 - val_loss: 0.8787 - val_accuracy: 0.8137\n",
      "Epoch 65/100\n",
      "210/210 [==============================] - 7s 32ms/step - loss: 0.0675 - accuracy: 0.9768 - val_loss: 0.9600 - val_accuracy: 0.7747\n",
      "Epoch 66/100\n",
      "210/210 [==============================] - 7s 32ms/step - loss: 0.0750 - accuracy: 0.9750 - val_loss: 0.7805 - val_accuracy: 0.8233\n",
      "Epoch 67/100\n",
      "210/210 [==============================] - 7s 32ms/step - loss: 0.0669 - accuracy: 0.9775 - val_loss: 0.7913 - val_accuracy: 0.8127\n",
      "Epoch 68/100\n",
      "210/210 [==============================] - 7s 32ms/step - loss: 0.0624 - accuracy: 0.9783 - val_loss: 0.5928 - val_accuracy: 0.8615\n",
      "Epoch 69/100\n",
      "210/210 [==============================] - 7s 32ms/step - loss: 0.0563 - accuracy: 0.9814 - val_loss: 0.7262 - val_accuracy: 0.8363\n",
      "Epoch 70/100\n",
      "210/210 [==============================] - 7s 32ms/step - loss: 0.0674 - accuracy: 0.9772 - val_loss: 0.7224 - val_accuracy: 0.8268\n",
      "Epoch 71/100\n",
      "210/210 [==============================] - 7s 32ms/step - loss: 0.0726 - accuracy: 0.9752 - val_loss: 0.9102 - val_accuracy: 0.7912\n",
      "Epoch 72/100\n",
      "210/210 [==============================] - 7s 32ms/step - loss: 0.0594 - accuracy: 0.9810 - val_loss: 0.5416 - val_accuracy: 0.8717\n",
      "Epoch 73/100\n",
      "210/210 [==============================] - 7s 32ms/step - loss: 0.0490 - accuracy: 0.9840 - val_loss: 0.6597 - val_accuracy: 0.8512\n",
      "Epoch 74/100\n",
      "210/210 [==============================] - 7s 32ms/step - loss: 0.0590 - accuracy: 0.9800 - val_loss: 0.7088 - val_accuracy: 0.8384\n",
      "Epoch 75/100\n",
      "210/210 [==============================] - 7s 32ms/step - loss: 0.0643 - accuracy: 0.9785 - val_loss: 0.7181 - val_accuracy: 0.8415\n",
      "Epoch 76/100\n",
      "210/210 [==============================] - 7s 32ms/step - loss: 0.0584 - accuracy: 0.9803 - val_loss: 0.8451 - val_accuracy: 0.8158\n",
      "Epoch 77/100\n",
      "210/210 [==============================] - 7s 32ms/step - loss: 0.0570 - accuracy: 0.9808 - val_loss: 0.9345 - val_accuracy: 0.8021\n",
      "Epoch 78/100\n",
      "210/210 [==============================] - 7s 32ms/step - loss: 0.0589 - accuracy: 0.9801 - val_loss: 0.6742 - val_accuracy: 0.8500\n",
      "Epoch 79/100\n",
      "210/210 [==============================] - 7s 32ms/step - loss: 0.0516 - accuracy: 0.9837 - val_loss: 0.9192 - val_accuracy: 0.7980\n",
      "Epoch 80/100\n",
      "210/210 [==============================] - 7s 32ms/step - loss: 0.0563 - accuracy: 0.9814 - val_loss: 0.6028 - val_accuracy: 0.8656\n",
      "Epoch 81/100\n",
      "210/210 [==============================] - 7s 32ms/step - loss: 0.0629 - accuracy: 0.9785 - val_loss: 0.7565 - val_accuracy: 0.8391\n",
      "Epoch 82/100\n",
      "210/210 [==============================] - 7s 32ms/step - loss: 0.0515 - accuracy: 0.9836 - val_loss: 0.7123 - val_accuracy: 0.8392\n",
      "Epoch 83/100\n",
      "210/210 [==============================] - 7s 32ms/step - loss: 0.0507 - accuracy: 0.9834 - val_loss: 1.0946 - val_accuracy: 0.7805\n",
      "Epoch 84/100\n",
      "210/210 [==============================] - 7s 33ms/step - loss: 0.0520 - accuracy: 0.9830 - val_loss: 0.5739 - val_accuracy: 0.8666\n",
      "Epoch 85/100\n",
      "210/210 [==============================] - 7s 34ms/step - loss: 0.0468 - accuracy: 0.9840 - val_loss: 0.6663 - val_accuracy: 0.8537\n",
      "Epoch 86/100\n",
      "210/210 [==============================] - 7s 32ms/step - loss: 0.0463 - accuracy: 0.9847 - val_loss: 0.7871 - val_accuracy: 0.8251\n",
      "Epoch 87/100\n",
      "210/210 [==============================] - 7s 32ms/step - loss: 0.0586 - accuracy: 0.9806 - val_loss: 0.9606 - val_accuracy: 0.8046\n",
      "Epoch 88/100\n",
      "210/210 [==============================] - 7s 32ms/step - loss: 0.0680 - accuracy: 0.9779 - val_loss: 0.7868 - val_accuracy: 0.8236\n",
      "Epoch 89/100\n",
      "210/210 [==============================] - 7s 32ms/step - loss: 0.0545 - accuracy: 0.9823 - val_loss: 0.8891 - val_accuracy: 0.8238\n",
      "Epoch 90/100\n",
      "210/210 [==============================] - 7s 32ms/step - loss: 0.0473 - accuracy: 0.9842 - val_loss: 0.5834 - val_accuracy: 0.8759\n",
      "Epoch 91/100\n",
      "210/210 [==============================] - 7s 32ms/step - loss: 0.0397 - accuracy: 0.9865 - val_loss: 0.8170 - val_accuracy: 0.8189\n",
      "Epoch 92/100\n",
      "210/210 [==============================] - 7s 32ms/step - loss: 0.0448 - accuracy: 0.9843 - val_loss: 0.8279 - val_accuracy: 0.8272\n",
      "Epoch 93/100\n",
      "210/210 [==============================] - 7s 32ms/step - loss: 0.0513 - accuracy: 0.9824 - val_loss: 0.9402 - val_accuracy: 0.8052\n",
      "Epoch 94/100\n",
      "210/210 [==============================] - 7s 32ms/step - loss: 0.0470 - accuracy: 0.9849 - val_loss: 0.6034 - val_accuracy: 0.8655\n",
      "Epoch 95/100\n",
      "210/210 [==============================] - 7s 32ms/step - loss: 0.0403 - accuracy: 0.9864 - val_loss: 1.0277 - val_accuracy: 0.7980\n",
      "Epoch 96/100\n",
      "210/210 [==============================] - 7s 32ms/step - loss: 0.0451 - accuracy: 0.9856 - val_loss: 0.8408 - val_accuracy: 0.8346\n",
      "Epoch 97/100\n",
      "210/210 [==============================] - 7s 32ms/step - loss: 0.0559 - accuracy: 0.9811 - val_loss: 0.6421 - val_accuracy: 0.8704\n",
      "Epoch 98/100\n",
      "210/210 [==============================] - 7s 32ms/step - loss: 0.0444 - accuracy: 0.9852 - val_loss: 0.7172 - val_accuracy: 0.8510\n",
      "Epoch 99/100\n",
      "210/210 [==============================] - 7s 32ms/step - loss: 0.0362 - accuracy: 0.9881 - val_loss: 0.7757 - val_accuracy: 0.8367\n",
      "Epoch 100/100\n",
      "210/210 [==============================] - 7s 32ms/step - loss: 0.0429 - accuracy: 0.9862 - val_loss: 0.6784 - val_accuracy: 0.8582\n"
     ]
    }
   ],
   "source": [
    "# Fitting the NN to the Training data\n",
    "history_4 = keras_model_3.fit(X_train, y_train, validation_data = (X_val,y_val), batch_size = 200, epochs = 100, verbose = 1)"
   ]
  },
  {
   "cell_type": "code",
   "execution_count": 57,
   "metadata": {
    "colab": {
     "base_uri": "https://localhost:8080/"
    },
    "id": "NjpyBzNAJGrL",
    "outputId": "6491350b-a9cc-4cd8-ce9d-1d51d568a3e2"
   },
   "outputs": [
    {
     "name": "stdout",
     "output_type": "stream",
     "text": [
      "1875/1875 [==============================] - 7s 4ms/step - loss: 0.6784 - accuracy: 0.8582\n",
      "Validation accuracy using BatchNormalization NN ADAM :  0.8581500053405762\n"
     ]
    }
   ],
   "source": [
    "#Evaluating the Model\n",
    "results_1 = keras_model_3.evaluate(X_val, y_val)\n",
    "print('Validation accuracy using BatchNormalization NN ADAM : ', results_1[1])"
   ]
  },
  {
   "cell_type": "markdown",
   "metadata": {
    "id": "7v3HY3RKO7ez"
   },
   "source": [
    "Validation accuracy using BatchNormalization in NN ADAM = 85.81%"
   ]
  },
  {
   "cell_type": "code",
   "execution_count": 66,
   "metadata": {
    "colab": {
     "base_uri": "https://localhost:8080/"
    },
    "id": "83-mU_n6UEnd",
    "outputId": "736c07e5-de5c-4ded-8dd1-0958f363e64e"
   },
   "outputs": [
    {
     "name": "stdout",
     "output_type": "stream",
     "text": [
      "Epoch 1/50\n",
      "210/210 [==============================] - 5s 24ms/step - loss: 0.0446 - accuracy: 0.9846 - val_loss: 1.1480 - val_accuracy: 0.7929\n",
      "Epoch 2/50\n",
      "210/210 [==============================] - 5s 24ms/step - loss: 0.0384 - accuracy: 0.9862 - val_loss: 1.2412 - val_accuracy: 0.7894\n",
      "Epoch 3/50\n",
      "210/210 [==============================] - 5s 24ms/step - loss: 0.0393 - accuracy: 0.9870 - val_loss: 1.3725 - val_accuracy: 0.7631\n",
      "Epoch 4/50\n",
      "210/210 [==============================] - 5s 24ms/step - loss: 0.0485 - accuracy: 0.9838 - val_loss: 1.2033 - val_accuracy: 0.7859\n",
      "Epoch 5/50\n",
      "210/210 [==============================] - 5s 24ms/step - loss: 0.0503 - accuracy: 0.9829 - val_loss: 1.2869 - val_accuracy: 0.7822\n",
      "Epoch 6/50\n",
      "210/210 [==============================] - 5s 24ms/step - loss: 0.0393 - accuracy: 0.9871 - val_loss: 1.3573 - val_accuracy: 0.7641\n",
      "Epoch 7/50\n",
      "210/210 [==============================] - 5s 25ms/step - loss: 0.0412 - accuracy: 0.9863 - val_loss: 1.3414 - val_accuracy: 0.7657\n",
      "Epoch 8/50\n",
      "210/210 [==============================] - 5s 24ms/step - loss: 0.0448 - accuracy: 0.9848 - val_loss: 1.2946 - val_accuracy: 0.7840\n",
      "Epoch 9/50\n",
      "210/210 [==============================] - 5s 25ms/step - loss: 0.0371 - accuracy: 0.9871 - val_loss: 1.2825 - val_accuracy: 0.7812\n",
      "Epoch 10/50\n",
      "210/210 [==============================] - 5s 24ms/step - loss: 0.0408 - accuracy: 0.9866 - val_loss: 1.2561 - val_accuracy: 0.7817\n",
      "Epoch 11/50\n",
      "210/210 [==============================] - 5s 24ms/step - loss: 0.0372 - accuracy: 0.9877 - val_loss: 1.1825 - val_accuracy: 0.7721\n",
      "Epoch 12/50\n",
      "210/210 [==============================] - 5s 24ms/step - loss: 0.0375 - accuracy: 0.9869 - val_loss: 1.6785 - val_accuracy: 0.7209\n",
      "Epoch 13/50\n",
      "210/210 [==============================] - 5s 24ms/step - loss: 0.0466 - accuracy: 0.9846 - val_loss: 1.4150 - val_accuracy: 0.7541\n",
      "Epoch 14/50\n",
      "210/210 [==============================] - 5s 24ms/step - loss: 0.0389 - accuracy: 0.9867 - val_loss: 1.1564 - val_accuracy: 0.7991\n",
      "Epoch 15/50\n",
      "210/210 [==============================] - 5s 24ms/step - loss: 0.0362 - accuracy: 0.9884 - val_loss: 1.1346 - val_accuracy: 0.7987\n",
      "Epoch 16/50\n",
      "210/210 [==============================] - 5s 24ms/step - loss: 0.0352 - accuracy: 0.9884 - val_loss: 1.1467 - val_accuracy: 0.8007\n",
      "Epoch 17/50\n",
      "210/210 [==============================] - 5s 24ms/step - loss: 0.0335 - accuracy: 0.9892 - val_loss: 1.4105 - val_accuracy: 0.7804\n",
      "Epoch 18/50\n",
      "210/210 [==============================] - 5s 24ms/step - loss: 0.0389 - accuracy: 0.9869 - val_loss: 1.8443 - val_accuracy: 0.7145\n",
      "Epoch 19/50\n",
      "210/210 [==============================] - 5s 24ms/step - loss: 0.0370 - accuracy: 0.9877 - val_loss: 1.6237 - val_accuracy: 0.7471\n",
      "Epoch 20/50\n",
      "210/210 [==============================] - 5s 24ms/step - loss: 0.0372 - accuracy: 0.9879 - val_loss: 1.3558 - val_accuracy: 0.7802\n",
      "Epoch 21/50\n",
      "210/210 [==============================] - 5s 24ms/step - loss: 0.0361 - accuracy: 0.9876 - val_loss: 1.4801 - val_accuracy: 0.7627\n",
      "Epoch 22/50\n",
      "210/210 [==============================] - 5s 25ms/step - loss: 0.0434 - accuracy: 0.9856 - val_loss: 1.2821 - val_accuracy: 0.7778\n",
      "Epoch 23/50\n",
      "210/210 [==============================] - 5s 24ms/step - loss: 0.0414 - accuracy: 0.9863 - val_loss: 1.1779 - val_accuracy: 0.8029\n",
      "Epoch 24/50\n",
      "210/210 [==============================] - 5s 24ms/step - loss: 0.0282 - accuracy: 0.9910 - val_loss: 1.5385 - val_accuracy: 0.7607\n",
      "Epoch 25/50\n",
      "210/210 [==============================] - 5s 25ms/step - loss: 0.0367 - accuracy: 0.9878 - val_loss: 1.3054 - val_accuracy: 0.7858\n",
      "Epoch 26/50\n",
      "210/210 [==============================] - 5s 25ms/step - loss: 0.0368 - accuracy: 0.9877 - val_loss: 1.3200 - val_accuracy: 0.7830\n",
      "Epoch 27/50\n",
      "210/210 [==============================] - 5s 25ms/step - loss: 0.0341 - accuracy: 0.9886 - val_loss: 1.3611 - val_accuracy: 0.7762\n",
      "Epoch 28/50\n",
      "210/210 [==============================] - 5s 25ms/step - loss: 0.0323 - accuracy: 0.9895 - val_loss: 1.6525 - val_accuracy: 0.7508\n",
      "Epoch 29/50\n",
      "210/210 [==============================] - 5s 24ms/step - loss: 0.0323 - accuracy: 0.9889 - val_loss: 1.6151 - val_accuracy: 0.7472\n",
      "Epoch 30/50\n",
      "210/210 [==============================] - 5s 24ms/step - loss: 0.0341 - accuracy: 0.9888 - val_loss: 1.3407 - val_accuracy: 0.7909\n",
      "Epoch 31/50\n",
      "210/210 [==============================] - 5s 24ms/step - loss: 0.0331 - accuracy: 0.9889 - val_loss: 1.4443 - val_accuracy: 0.7701\n",
      "Epoch 32/50\n",
      "210/210 [==============================] - 5s 24ms/step - loss: 0.0370 - accuracy: 0.9875 - val_loss: 1.2778 - val_accuracy: 0.7973\n",
      "Epoch 33/50\n",
      "210/210 [==============================] - 5s 24ms/step - loss: 0.0333 - accuracy: 0.9889 - val_loss: 1.2989 - val_accuracy: 0.7901\n",
      "Epoch 34/50\n",
      "210/210 [==============================] - 5s 25ms/step - loss: 0.0371 - accuracy: 0.9875 - val_loss: 1.3859 - val_accuracy: 0.7773\n",
      "Epoch 35/50\n",
      "210/210 [==============================] - 5s 25ms/step - loss: 0.0277 - accuracy: 0.9910 - val_loss: 1.4266 - val_accuracy: 0.7816\n",
      "Epoch 36/50\n",
      "210/210 [==============================] - 5s 25ms/step - loss: 0.0291 - accuracy: 0.9905 - val_loss: 1.5814 - val_accuracy: 0.7642\n",
      "Epoch 37/50\n",
      "210/210 [==============================] - 5s 24ms/step - loss: 0.0352 - accuracy: 0.9884 - val_loss: 1.7211 - val_accuracy: 0.7487\n",
      "Epoch 38/50\n",
      "210/210 [==============================] - 5s 24ms/step - loss: 0.0432 - accuracy: 0.9858 - val_loss: 1.6439 - val_accuracy: 0.7370\n",
      "Epoch 39/50\n",
      "210/210 [==============================] - 5s 25ms/step - loss: 0.0322 - accuracy: 0.9891 - val_loss: 1.4621 - val_accuracy: 0.7712\n",
      "Epoch 40/50\n",
      "210/210 [==============================] - 5s 25ms/step - loss: 0.0258 - accuracy: 0.9917 - val_loss: 1.2068 - val_accuracy: 0.8052\n",
      "Epoch 41/50\n",
      "210/210 [==============================] - 5s 25ms/step - loss: 0.0280 - accuracy: 0.9903 - val_loss: 1.2441 - val_accuracy: 0.7985\n",
      "Epoch 42/50\n",
      "210/210 [==============================] - 5s 25ms/step - loss: 0.0320 - accuracy: 0.9895 - val_loss: 1.2227 - val_accuracy: 0.8022\n",
      "Epoch 43/50\n",
      "210/210 [==============================] - 5s 26ms/step - loss: 0.0303 - accuracy: 0.9901 - val_loss: 1.1952 - val_accuracy: 0.8069\n",
      "Epoch 44/50\n",
      "210/210 [==============================] - 5s 26ms/step - loss: 0.0293 - accuracy: 0.9902 - val_loss: 1.4937 - val_accuracy: 0.7775\n",
      "Epoch 45/50\n",
      "210/210 [==============================] - 5s 24ms/step - loss: 0.0325 - accuracy: 0.9895 - val_loss: 1.3399 - val_accuracy: 0.7825\n",
      "Epoch 46/50\n",
      "210/210 [==============================] - 5s 24ms/step - loss: 0.0298 - accuracy: 0.9901 - val_loss: 1.3454 - val_accuracy: 0.7881\n",
      "Epoch 47/50\n",
      "210/210 [==============================] - 5s 24ms/step - loss: 0.0272 - accuracy: 0.9913 - val_loss: 1.3948 - val_accuracy: 0.7818\n",
      "Epoch 48/50\n",
      "210/210 [==============================] - 5s 25ms/step - loss: 0.0297 - accuracy: 0.9904 - val_loss: 1.5731 - val_accuracy: 0.7566\n",
      "Epoch 49/50\n",
      "210/210 [==============================] - 5s 25ms/step - loss: 0.0370 - accuracy: 0.9875 - val_loss: 1.3410 - val_accuracy: 0.7870\n",
      "Epoch 50/50\n",
      "210/210 [==============================] - 5s 25ms/step - loss: 0.0323 - accuracy: 0.9892 - val_loss: 1.3343 - val_accuracy: 0.8032\n"
     ]
    }
   ],
   "source": [
    "#Testing Model on test data\n",
    "history_t3 = keras_model_3.fit(X_train, y_train, validation_data = (X_test,y_test), batch_size = 200, epochs = 50, verbose = 1)"
   ]
  },
  {
   "cell_type": "code",
   "execution_count": 69,
   "metadata": {
    "colab": {
     "base_uri": "https://localhost:8080/"
    },
    "id": "KdmCGSQNQnaI",
    "outputId": "b8f60fed-f16b-4a69-9879-7e8687d22c49"
   },
   "outputs": [
    {
     "name": "stdout",
     "output_type": "stream",
     "text": [
      "563/563 [==============================] - 2s 4ms/step - loss: 1.3343 - accuracy: 0.8032\n",
      " loss and accuracy for the test data using BatchNormalization NN ADAM :  0.8032222390174866\n"
     ]
    }
   ],
   "source": [
    "#Print the loss and accuracy for the test data\n",
    "test3 = keras_model_3.evaluate(X_test, y_test)\n",
    "print(' loss and accuracy for the test data using BatchNormalization NN ADAM : ', test3[1])"
   ]
  },
  {
   "cell_type": "markdown",
   "metadata": {
    "id": "DHALlULDVmYN"
   },
   "source": [
    "loss and accuracy for the test data using BatchNormalization NN ADAM is 80.32%"
   ]
  },
  {
   "cell_type": "markdown",
   "metadata": {
    "id": "JMwY1vs0RmhC"
   },
   "source": [
    "**Predicting the digits using Neural Network classifier on test data**"
   ]
  },
  {
   "cell_type": "markdown",
   "metadata": {
    "id": "TddCDXtGRo5S"
   },
   "source": [
    "**Image 1**"
   ]
  },
  {
   "cell_type": "code",
   "execution_count": 71,
   "metadata": {
    "colab": {
     "base_uri": "https://localhost:8080/",
     "height": 283
    },
    "id": "v6Lq0b_iRsk6",
    "outputId": "9357beef-31c5-4d1a-c442-58bd3326155a"
   },
   "outputs": [
    {
     "data": {
      "text/plain": [
       "<matplotlib.image.AxesImage at 0x7f1618f86860>"
      ]
     },
     "execution_count": 71,
     "metadata": {
      "tags": []
     },
     "output_type": "execute_result"
    },
    {
     "data": {
      "image/png": "[encoded data removed]",
      "text/plain": [
       "<Figure size 432x288 with 1 Axes>"
      ]
     },
     "metadata": {
      "needs_background": "light",
      "tags": []
     },
     "output_type": "display_data"
    }
   ],
   "source": [
    "#Showing the image\n",
    "plt.imshow(X_test[5].reshape(32,32), cmap = 'gray')"
   ]
  },
  {
   "cell_type": "code",
   "execution_count": 72,
   "metadata": {
    "colab": {
     "base_uri": "https://localhost:8080/"
    },
    "id": "AOmL1lHpRwZ7",
    "outputId": "69d338c9-f9c9-4909-ffcb-ca3a802248c6"
   },
   "outputs": [
    {
     "name": "stderr",
     "output_type": "stream",
     "text": [
      "/usr/local/lib/python3.6/dist-packages/tensorflow/python/keras/engine/sequential.py:450: UserWarning: `model.predict_classes()` is deprecated and will be removed after 2021-01-01. Please use instead:* `np.argmax(model.predict(x), axis=-1)`,   if your model does multi-class classification   (e.g. if it uses a `softmax` last-layer activation).* `(model.predict(x) > 0.5).astype(\"int32\")`,   if your model does binary classification   (e.g. if it uses a `sigmoid` last-layer activation).\n",
      "  warnings.warn('`model.predict_classes()` is deprecated and '\n"
     ]
    },
    {
     "name": "stdout",
     "output_type": "stream",
     "text": [
      "Label:  9\n"
     ]
    }
   ],
   "source": [
    "#Predicting the digits\n",
    "print('Label: ', keras_model_3.predict_classes(X_test)[5])"
   ]
  },
  {
   "cell_type": "markdown",
   "metadata": {
    "id": "RMsr4h8qRy-i"
   },
   "source": [
    "**Image 2**"
   ]
  },
  {
   "cell_type": "code",
   "execution_count": 73,
   "metadata": {
    "colab": {
     "base_uri": "https://localhost:8080/",
     "height": 283
    },
    "id": "eM4pSz_ZR9HL",
    "outputId": "aadae65d-7570-4527-ed27-83a6617fe3f5"
   },
   "outputs": [
    {
     "data": {
      "text/plain": [
       "<matplotlib.image.AxesImage at 0x7f1618ec7b38>"
      ]
     },
     "execution_count": 73,
     "metadata": {
      "tags": []
     },
     "output_type": "execute_result"
    },
    {
     "data": {
      "image/png": "[encoded data removed]",
      "text/plain": [
       "<Figure size 432x288 with 1 Axes>"
      ]
     },
     "metadata": {
      "needs_background": "light",
      "tags": []
     },
     "output_type": "display_data"
    }
   ],
   "source": [
    "#Showing the image\n",
    "plt.imshow(X_test[7].reshape(32,32), cmap = 'gray')"
   ]
  },
  {
   "cell_type": "code",
   "execution_count": 74,
   "metadata": {
    "colab": {
     "base_uri": "https://localhost:8080/"
    },
    "id": "u22ES7Z6R_tb",
    "outputId": "e8c64848-5b44-414c-fcf1-456683d92034"
   },
   "outputs": [
    {
     "name": "stderr",
     "output_type": "stream",
     "text": [
      "/usr/local/lib/python3.6/dist-packages/tensorflow/python/keras/engine/sequential.py:450: UserWarning: `model.predict_classes()` is deprecated and will be removed after 2021-01-01. Please use instead:* `np.argmax(model.predict(x), axis=-1)`,   if your model does multi-class classification   (e.g. if it uses a `softmax` last-layer activation).* `(model.predict(x) > 0.5).astype(\"int32\")`,   if your model does binary classification   (e.g. if it uses a `sigmoid` last-layer activation).\n",
      "  warnings.warn('`model.predict_classes()` is deprecated and '\n"
     ]
    },
    {
     "name": "stdout",
     "output_type": "stream",
     "text": [
      "Label:  9\n"
     ]
    }
   ],
   "source": [
    "#Predicting the digits\n",
    "print('Label: ', keras_model_3.predict_classes(X_test)[7])"
   ]
  },
  {
   "cell_type": "markdown",
   "metadata": {
    "id": "8mScoouLSBu8"
   },
   "source": [
    "**Image 3**"
   ]
  },
  {
   "cell_type": "code",
   "execution_count": 75,
   "metadata": {
    "colab": {
     "base_uri": "https://localhost:8080/",
     "height": 283
    },
    "id": "37uvJqelSEVr",
    "outputId": "97056514-9bae-4657-e5b2-c5ef0736e927"
   },
   "outputs": [
    {
     "data": {
      "text/plain": [
       "<matplotlib.image.AxesImage at 0x7f1618e1ff60>"
      ]
     },
     "execution_count": 75,
     "metadata": {
      "tags": []
     },
     "output_type": "execute_result"
    },
    {
     "data": {
      "image/png": "[encoded data removed]",
      "text/plain": [
       "<Figure size 432x288 with 1 Axes>"
      ]
     },
     "metadata": {
      "needs_background": "light",
      "tags": []
     },
     "output_type": "display_data"
    }
   ],
   "source": [
    "#Showing the image\n",
    "plt.imshow(X_test[70].reshape(32,32), cmap = 'gray')"
   ]
  },
  {
   "cell_type": "code",
   "execution_count": 76,
   "metadata": {
    "colab": {
     "base_uri": "https://localhost:8080/"
    },
    "id": "eJfzf8BtSGys",
    "outputId": "586bcae2-0ce5-4955-b5d9-07c414c9cb98"
   },
   "outputs": [
    {
     "name": "stderr",
     "output_type": "stream",
     "text": [
      "/usr/local/lib/python3.6/dist-packages/tensorflow/python/keras/engine/sequential.py:450: UserWarning: `model.predict_classes()` is deprecated and will be removed after 2021-01-01. Please use instead:* `np.argmax(model.predict(x), axis=-1)`,   if your model does multi-class classification   (e.g. if it uses a `softmax` last-layer activation).* `(model.predict(x) > 0.5).astype(\"int32\")`,   if your model does binary classification   (e.g. if it uses a `sigmoid` last-layer activation).\n",
      "  warnings.warn('`model.predict_classes()` is deprecated and '\n"
     ]
    },
    {
     "name": "stdout",
     "output_type": "stream",
     "text": [
      "Label:  9\n"
     ]
    }
   ],
   "source": [
    "#Predicting the digits\n",
    "print('Label: ', keras_model_3.predict_classes(X_test)[70])"
   ]
  },
  {
   "cell_type": "code",
   "execution_count": 77,
   "metadata": {
    "colab": {
     "base_uri": "https://localhost:8080/"
    },
    "id": "6BksfaRUSIj0",
    "outputId": "b9d30682-1abd-43b3-e736-9b22e5ae8568"
   },
   "outputs": [
    {
     "name": "stderr",
     "output_type": "stream",
     "text": [
      "/usr/local/lib/python3.6/dist-packages/tensorflow/python/keras/engine/sequential.py:450: UserWarning: `model.predict_classes()` is deprecated and will be removed after 2021-01-01. Please use instead:* `np.argmax(model.predict(x), axis=-1)`,   if your model does multi-class classification   (e.g. if it uses a `softmax` last-layer activation).* `(model.predict(x) > 0.5).astype(\"int32\")`,   if your model does binary classification   (e.g. if it uses a `sigmoid` last-layer activation).\n",
      "  warnings.warn('`model.predict_classes()` is deprecated and '\n"
     ]
    },
    {
     "name": "stdout",
     "output_type": "stream",
     "text": [
      "[0 7 2 ... 7 8 2]\n"
     ]
    }
   ],
   "source": [
    "#Predicting for all images\n",
    "y_pred = keras_model_3.predict_classes(X_test)\n",
    "print(y_pred)"
   ]
  },
  {
   "cell_type": "code",
   "execution_count": 78,
   "metadata": {
    "colab": {
     "base_uri": "https://localhost:8080/",
     "height": 95
    },
    "id": "CcLPcGKDSKgL",
    "outputId": "a607b414-cb9e-428a-b3b1-1e34dbfaee72"
   },
   "outputs": [
    {
     "data": {
      "image/png": "[encoded data removed]",
      "text/plain": [
       "<Figure size 720x72 with 10 Axes>"
      ]
     },
     "metadata": {
      "needs_background": "light",
      "tags": []
     },
     "output_type": "display_data"
    },
    {
     "name": "stdout",
     "output_type": "stream",
     "text": [
      "Labels for each of the above image: [0 7 2 9 0 9 1 9 1 4]\n"
     ]
    }
   ],
   "source": [
    "#visualising the first 10 images of the test data and printing their labels\n",
    "plt.figure(figsize = (10, 1))\n",
    "for i in range(10):\n",
    "    plt.subplot(1, 10, i + 1)\n",
    "    plt.imshow(X_test[i].reshape(32,32), cmap = 'gray')\n",
    "    plt.axis('off')\n",
    "plt.show()\n",
    "print('Labels for each of the above image: %s' %(y_pred[0:10]))"
   ]
  }
 ],
 "metadata": {
  "colab": {
   "collapsed_sections": [],
   "name": "Project -Neural Network.ipynb",
   "provenance": [],
   "toc_visible": true
  },
  "kernelspec": {
   "display_name": "Python 3",
   "language": "python",
   "name": "python3"
  },
  "language_info": {
   "codemirror_mode": {
    "name": "ipython",
    "version": 3
   },
   "file_extension": ".py",
   "mimetype": "text/x-python",
   "name": "python",
   "nbconvert_exporter": "python",
   "pygments_lexer": "ipython3",
   "version": "3.7.6"
  }
 },
 "nbformat": 4,
 "nbformat_minor": 1
}
